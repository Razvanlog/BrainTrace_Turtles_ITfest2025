{
 "cells": [
  {
   "cell_type": "code",
   "execution_count": 2,
   "metadata": {},
   "outputs": [
    {
     "name": "stdout",
     "output_type": "stream",
     "text": [
      "Collecting mysql\n",
      "  Downloading mysql-0.0.3-py3-none-any.whl.metadata (746 bytes)\n",
      "Collecting mysqlclient (from mysql)\n",
      "  Downloading mysqlclient-2.2.7.tar.gz (91 kB)\n",
      "  Installing build dependencies ... \u001b[?25ldone\n",
      "\u001b[?25h  Getting requirements to build wheel ... \u001b[?25lerror\n",
      "  \u001b[1;31merror\u001b[0m: \u001b[1msubprocess-exited-with-error\u001b[0m\n",
      "  \n",
      "  \u001b[31m×\u001b[0m \u001b[32mGetting requirements to build wheel\u001b[0m did not run successfully.\n",
      "  \u001b[31m│\u001b[0m exit code: \u001b[1;36m1\u001b[0m\n",
      "  \u001b[31m╰─>\u001b[0m \u001b[31m[33 lines of output]\u001b[0m\n",
      "  \u001b[31m   \u001b[0m Trying pkg-config --exists mysqlclient\n",
      "  \u001b[31m   \u001b[0m /bin/sh: 1: pkg-config: not found\n",
      "  \u001b[31m   \u001b[0m Command 'pkg-config --exists mysqlclient' returned non-zero exit status 127.\n",
      "  \u001b[31m   \u001b[0m Trying pkg-config --exists mariadb\n",
      "  \u001b[31m   \u001b[0m /bin/sh: 1: pkg-config: not found\n",
      "  \u001b[31m   \u001b[0m Command 'pkg-config --exists mariadb' returned non-zero exit status 127.\n",
      "  \u001b[31m   \u001b[0m Trying pkg-config --exists libmariadb\n",
      "  \u001b[31m   \u001b[0m /bin/sh: 1: pkg-config: not found\n",
      "  \u001b[31m   \u001b[0m Command 'pkg-config --exists libmariadb' returned non-zero exit status 127.\n",
      "  \u001b[31m   \u001b[0m Trying pkg-config --exists perconaserverclient\n",
      "  \u001b[31m   \u001b[0m /bin/sh: 1: pkg-config: not found\n",
      "  \u001b[31m   \u001b[0m Command 'pkg-config --exists perconaserverclient' returned non-zero exit status 127.\n",
      "  \u001b[31m   \u001b[0m Traceback (most recent call last):\n",
      "  \u001b[31m   \u001b[0m   File \"/home/razvan/miniconda3/envs/tf2/lib/python3.11/site-packages/pip/_vendor/pyproject_hooks/_in_process/_in_process.py\", line 353, in <module>\n",
      "  \u001b[31m   \u001b[0m     main()\n",
      "  \u001b[31m   \u001b[0m   File \"/home/razvan/miniconda3/envs/tf2/lib/python3.11/site-packages/pip/_vendor/pyproject_hooks/_in_process/_in_process.py\", line 335, in main\n",
      "  \u001b[31m   \u001b[0m     json_out['return_val'] = hook(**hook_input['kwargs'])\n",
      "  \u001b[31m   \u001b[0m                              ^^^^^^^^^^^^^^^^^^^^^^^^^^^^\n",
      "  \u001b[31m   \u001b[0m   File \"/home/razvan/miniconda3/envs/tf2/lib/python3.11/site-packages/pip/_vendor/pyproject_hooks/_in_process/_in_process.py\", line 118, in get_requires_for_build_wheel\n",
      "  \u001b[31m   \u001b[0m     return hook(config_settings)\n",
      "  \u001b[31m   \u001b[0m            ^^^^^^^^^^^^^^^^^^^^^\n",
      "  \u001b[31m   \u001b[0m   File \"/tmp/pip-build-env-dg38j8lt/overlay/lib/python3.11/site-packages/setuptools/build_meta.py\", line 334, in get_requires_for_build_wheel\n",
      "  \u001b[31m   \u001b[0m     return self._get_build_requires(config_settings, requirements=[])\n",
      "  \u001b[31m   \u001b[0m            ^^^^^^^^^^^^^^^^^^^^^^^^^^^^^^^^^^^^^^^^^^^^^^^^^^^^^^^^^^\n",
      "  \u001b[31m   \u001b[0m   File \"/tmp/pip-build-env-dg38j8lt/overlay/lib/python3.11/site-packages/setuptools/build_meta.py\", line 304, in _get_build_requires\n",
      "  \u001b[31m   \u001b[0m     self.run_setup()\n",
      "  \u001b[31m   \u001b[0m   File \"/tmp/pip-build-env-dg38j8lt/overlay/lib/python3.11/site-packages/setuptools/build_meta.py\", line 320, in run_setup\n",
      "  \u001b[31m   \u001b[0m     exec(code, locals())\n",
      "  \u001b[31m   \u001b[0m   File \"<string>\", line 156, in <module>\n",
      "  \u001b[31m   \u001b[0m   File \"<string>\", line 49, in get_config_posix\n",
      "  \u001b[31m   \u001b[0m   File \"<string>\", line 28, in find_package_name\n",
      "  \u001b[31m   \u001b[0m Exception: Can not find valid pkg-config name.\n",
      "  \u001b[31m   \u001b[0m Specify MYSQLCLIENT_CFLAGS and MYSQLCLIENT_LDFLAGS env vars manually\n",
      "  \u001b[31m   \u001b[0m \u001b[31m[end of output]\u001b[0m\n",
      "  \n",
      "  \u001b[1;35mnote\u001b[0m: This error originates from a subprocess, and is likely not a problem with pip.\n",
      "\u001b[?25h\u001b[1;31merror\u001b[0m: \u001b[1msubprocess-exited-with-error\u001b[0m\n",
      "\n",
      "\u001b[31m×\u001b[0m \u001b[32mGetting requirements to build wheel\u001b[0m did not run successfully.\n",
      "\u001b[31m│\u001b[0m exit code: \u001b[1;36m1\u001b[0m\n",
      "\u001b[31m╰─>\u001b[0m See above for output.\n",
      "\n",
      "\u001b[1;35mnote\u001b[0m: This error originates from a subprocess, and is likely not a problem with pip.\n",
      "Note: you may need to restart the kernel to use updated packages.\n"
     ]
    }
   ],
   "source": [
    "pip install mysql"
   ]
  },
  {
   "cell_type": "code",
   "execution_count": 4,
   "metadata": {},
   "outputs": [
    {
     "name": "stdout",
     "output_type": "stream",
     "text": [
      "Connection attempt to the server was aborted. Timeout of 10000 ms was exceeded\n"
     ]
    }
   ],
   "source": [
    "import mysqlx.connection\n",
    "DB_CONFIG={\n",
    "    \"host\": \"192.168.169.47\",\n",
    "    \"user\": \"team_user\",\n",
    "    \"password\": \"turtles\",\n",
    "    \"database\": \"BrainTumorDB\"\n",
    "}\n",
    "try:\n",
    "    conn=mysqlx.get_session({\n",
    "        'host': '192.168.169.47',\n",
    "        'user' : 'team_user',\n",
    "        'password': 'turtles',\n",
    "        'port': '3306',\n",
    "        'schema': 'BrainTumorDB'\n",
    "    })\n",
    "    # conn=mysqlx.connector.connect(**DB_CONFIG)\n",
    "    print(\"succes\")\n",
    "except mysqlx.Error as err:\n",
    "    print(err)"
   ]
  },
  {
   "cell_type": "code",
   "execution_count": 1,
   "metadata": {},
   "outputs": [
    {
     "name": "stderr",
     "output_type": "stream",
     "text": [
      "2025-03-14 22:10:12.316565: I tensorflow/core/util/port.cc:153] oneDNN custom operations are on. You may see slightly different numerical results due to floating-point round-off errors from different computation orders. To turn them off, set the environment variable `TF_ENABLE_ONEDNN_OPTS=0`.\n",
      "2025-03-14 22:10:13.049095: E external/local_xla/xla/stream_executor/cuda/cuda_fft.cc:485] Unable to register cuFFT factory: Attempting to register factory for plugin cuFFT when one has already been registered\n",
      "2025-03-14 22:10:13.452067: E external/local_xla/xla/stream_executor/cuda/cuda_dnn.cc:8454] Unable to register cuDNN factory: Attempting to register factory for plugin cuDNN when one has already been registered\n",
      "2025-03-14 22:10:13.562070: E external/local_xla/xla/stream_executor/cuda/cuda_blas.cc:1452] Unable to register cuBLAS factory: Attempting to register factory for plugin cuBLAS when one has already been registered\n",
      "2025-03-14 22:10:14.073894: I tensorflow/core/platform/cpu_feature_guard.cc:210] This TensorFlow binary is optimized to use available CPU instructions in performance-critical operations.\n",
      "To enable the following instructions: AVX2 AVX512F AVX512_VNNI AVX512_BF16 FMA, in other operations, rebuild TensorFlow with the appropriate compiler flags.\n",
      "2025-03-14 22:10:17.325809: W tensorflow/compiler/tf2tensorrt/utils/py_utils.cc:38] TF-TRT Warning: Could not find TensorRT\n"
     ]
    }
   ],
   "source": [
    "import smtplib, ssl\n",
    "from email.mime.text import MIMEText\n",
    "from email.mime.multipart import MIMEMultipart\n",
    "import tensorflow as tf\n",
    "import keras\n",
    "import socket\n",
    "import sqlite3\n",
    "import time\n",
    "import shutil\n",
    "import numpy as np\n",
    "from PIL import Image"
   ]
  },
  {
   "cell_type": "code",
   "execution_count": 1,
   "metadata": {},
   "outputs": [
    {
     "name": "stderr",
     "output_type": "stream",
     "text": [
      "2025-03-15 13:35:30.800075: I tensorflow/core/util/port.cc:153] oneDNN custom operations are on. You may see slightly different numerical results due to floating-point round-off errors from different computation orders. To turn them off, set the environment variable `TF_ENABLE_ONEDNN_OPTS=0`.\n",
      "2025-03-15 13:35:30.864156: E external/local_xla/xla/stream_executor/cuda/cuda_fft.cc:485] Unable to register cuFFT factory: Attempting to register factory for plugin cuFFT when one has already been registered\n",
      "2025-03-15 13:35:30.899184: E external/local_xla/xla/stream_executor/cuda/cuda_dnn.cc:8454] Unable to register cuDNN factory: Attempting to register factory for plugin cuDNN when one has already been registered\n",
      "2025-03-15 13:35:30.909913: E external/local_xla/xla/stream_executor/cuda/cuda_blas.cc:1452] Unable to register cuBLAS factory: Attempting to register factory for plugin cuBLAS when one has already been registered\n",
      "2025-03-15 13:35:30.955252: I tensorflow/core/platform/cpu_feature_guard.cc:210] This TensorFlow binary is optimized to use available CPU instructions in performance-critical operations.\n",
      "To enable the following instructions: AVX2 AVX512F AVX512_VNNI AVX512_BF16 FMA, in other operations, rebuild TensorFlow with the appropriate compiler flags.\n",
      "2025-03-15 13:35:31.938594: W tensorflow/compiler/tf2tensorrt/utils/py_utils.cc:38] TF-TRT Warning: Could not find TensorRT\n"
     ]
    }
   ],
   "source": [
    "import os\n",
    "import numpy as np\n",
    "#import cv2\n",
    "import tensorflow as tf\n",
    "from sklearn.model_selection import train_test_split\n",
    "from sklearn.metrics import precision_score, recall_score, f1_score\n",
    "import matplotlib.pyplot as plt\n",
    "import time\n",
    "from tensorflow.keras.optimizers import Adamax\n",
    "from keras.models import Sequential\n",
    "from keras.layers import Dense, Dropout, Flatten, Conv2D, MaxPool2D, GlobalAveragePooling2D\n",
    "from keras.optimizers import RMSprop\n",
    "from sklearn.metrics import confusion_matrix\n",
    "from sklearn.model_selection import train_test_split\n",
    "from keras.callbacks import ReduceLROnPlateau \n",
    "from keras.optimizers import SGD\n",
    "from tensorflow.keras.preprocessing.image import ImageDataGenerator\n",
    "import pandas as pd\n",
    "# from keras.preprocessing.image import ImageDataGenerator\n",
    "from sklearn.model_selection import train_test_split\n",
    "from math import log\n",
    "from PIL import Image\n",
    "import seaborn as sns\n",
    "# import tensorflow as hub\n",
    "from tensorflow.keras import mixed_precision"
   ]
  },
  {
   "cell_type": "code",
   "execution_count": 2,
   "metadata": {},
   "outputs": [
    {
     "name": "stderr",
     "output_type": "stream",
     "text": [
      "WARNING: All log messages before absl::InitializeLog() is called are written to STDERR\n",
      "I0000 00:00:1742038536.560601   37979 cuda_executor.cc:1001] could not open file to read NUMA node: /sys/bus/pci/devices/0000:01:00.0/numa_node\n",
      "Your kernel may have been built without NUMA support.\n",
      "I0000 00:00:1742038536.713858   37979 cuda_executor.cc:1001] could not open file to read NUMA node: /sys/bus/pci/devices/0000:01:00.0/numa_node\n",
      "Your kernel may have been built without NUMA support.\n",
      "I0000 00:00:1742038536.713937   37979 cuda_executor.cc:1001] could not open file to read NUMA node: /sys/bus/pci/devices/0000:01:00.0/numa_node\n",
      "Your kernel may have been built without NUMA support.\n"
     ]
    }
   ],
   "source": [
    "gpus = tf.config.list_physical_devices('GPU')\n",
    "if gpus:\n",
    "    # Only use the first GPU\n",
    "    tf.config.experimental.set_memory_growth(gpus[0], True)\n",
    "    # tf.config.set_visible_devices(gpus[0], 'GPU')\n",
    "    \n",
    "# if gpus:\n",
    "#     try:\n",
    "        \n",
    "#     except RuntimeError as e:\n",
    "#         print(e)\n"
   ]
  },
  {
   "cell_type": "code",
   "execution_count": 3,
   "metadata": {},
   "outputs": [
    {
     "name": "stdout",
     "output_type": "stream",
     "text": [
      "[PhysicalDevice(name='/physical_device:GPU:0', device_type='GPU')]\n"
     ]
    }
   ],
   "source": [
    "tf.config.list_physical_devices('GPU')\n",
    "print(tf.config.list_physical_devices('GPU'))"
   ]
  },
  {
   "cell_type": "code",
   "execution_count": 4,
   "metadata": {},
   "outputs": [],
   "source": [
    "mixed_precision.set_global_policy('mixed_float16')"
   ]
  },
  {
   "cell_type": "code",
   "execution_count": 5,
   "metadata": {},
   "outputs": [
    {
     "ename": "NameError",
     "evalue": "name 'policy' is not defined",
     "output_type": "error",
     "traceback": [
      "\u001b[0;31m---------------------------------------------------------------------------\u001b[0m",
      "\u001b[0;31mNameError\u001b[0m                                 Traceback (most recent call last)",
      "Cell \u001b[0;32mIn[5], line 1\u001b[0m\n\u001b[0;32m----> 1\u001b[0m \u001b[38;5;28mprint\u001b[39m(\u001b[38;5;124m'\u001b[39m\u001b[38;5;124mCompute dtype: \u001b[39m\u001b[38;5;132;01m%s\u001b[39;00m\u001b[38;5;124m'\u001b[39m \u001b[38;5;241m%\u001b[39m \u001b[43mpolicy\u001b[49m\u001b[38;5;241m.\u001b[39mcompute_dtype)\n\u001b[1;32m      2\u001b[0m \u001b[38;5;28mprint\u001b[39m(\u001b[38;5;124m'\u001b[39m\u001b[38;5;124mVariable dtype: \u001b[39m\u001b[38;5;132;01m%s\u001b[39;00m\u001b[38;5;124m'\u001b[39m \u001b[38;5;241m%\u001b[39m policy\u001b[38;5;241m.\u001b[39mvariable_dtype)\n",
      "\u001b[0;31mNameError\u001b[0m: name 'policy' is not defined"
     ]
    }
   ],
   "source": [
    "print('Compute dtype: %s' % policy.compute_dtype)\n",
    "print('Variable dtype: %s' % policy.variable_dtype)"
   ]
  },
  {
   "cell_type": "code",
   "execution_count": 5,
   "metadata": {},
   "outputs": [
    {
     "name": "stdout",
     "output_type": "stream",
     "text": [
      "[name: \"/device:CPU:0\"\n",
      "device_type: \"CPU\"\n",
      "memory_limit: 268435456\n",
      "locality {\n",
      "}\n",
      "incarnation: 9403202682751538531\n",
      "xla_global_id: -1\n",
      ", name: \"/device:GPU:0\"\n",
      "device_type: \"GPU\"\n",
      "memory_limit: 5833228288\n",
      "locality {\n",
      "  bus_id: 1\n",
      "  links {\n",
      "  }\n",
      "}\n",
      "incarnation: 13716332659484693361\n",
      "physical_device_desc: \"device: 0, name: NVIDIA GeForce RTX 4060 Laptop GPU, pci bus id: 0000:01:00.0, compute capability: 8.9\"\n",
      "xla_global_id: 416903419\n",
      "]\n"
     ]
    },
    {
     "name": "stderr",
     "output_type": "stream",
     "text": [
      "I0000 00:00:1742037426.596805   33626 cuda_executor.cc:1001] could not open file to read NUMA node: /sys/bus/pci/devices/0000:01:00.0/numa_node\n",
      "Your kernel may have been built without NUMA support.\n",
      "I0000 00:00:1742037426.596925   33626 cuda_executor.cc:1001] could not open file to read NUMA node: /sys/bus/pci/devices/0000:01:00.0/numa_node\n",
      "Your kernel may have been built without NUMA support.\n",
      "I0000 00:00:1742037426.596970   33626 cuda_executor.cc:1001] could not open file to read NUMA node: /sys/bus/pci/devices/0000:01:00.0/numa_node\n",
      "Your kernel may have been built without NUMA support.\n",
      "I0000 00:00:1742037426.790675   33626 cuda_executor.cc:1001] could not open file to read NUMA node: /sys/bus/pci/devices/0000:01:00.0/numa_node\n",
      "Your kernel may have been built without NUMA support.\n",
      "I0000 00:00:1742037426.790784   33626 cuda_executor.cc:1001] could not open file to read NUMA node: /sys/bus/pci/devices/0000:01:00.0/numa_node\n",
      "Your kernel may have been built without NUMA support.\n",
      "2025-03-15 13:17:06.790800: I tensorflow/core/common_runtime/gpu/gpu_device.cc:2112] Could not identify NUMA node of platform GPU id 0, defaulting to 0.  Your kernel may not have been built with NUMA support.\n",
      "I0000 00:00:1742037426.790871   33626 cuda_executor.cc:1001] could not open file to read NUMA node: /sys/bus/pci/devices/0000:01:00.0/numa_node\n",
      "Your kernel may have been built without NUMA support.\n",
      "2025-03-15 13:17:06.790904: I tensorflow/core/common_runtime/gpu/gpu_device.cc:2021] Created device /device:GPU:0 with 5563 MB memory:  -> device: 0, name: NVIDIA GeForce RTX 4060 Laptop GPU, pci bus id: 0000:01:00.0, compute capability: 8.9\n"
     ]
    }
   ],
   "source": [
    "from tensorflow.python.client import device_lib\n",
    "print(device_lib.list_local_devices())"
   ]
  },
  {
   "cell_type": "code",
   "execution_count": null,
   "metadata": {},
   "outputs": [
    {
     "name": "stdout",
     "output_type": "stream",
     "text": [
      "\n",
      "Found 5712 images belonging to 4 classes.\n"
     ]
    }
   ],
   "source": [
    "root='~/repos/itfest2025'\n",
    "print()\n",
    "img_path=\"archive/Training\"\n",
    "datagen=ImageDataGenerator(rescale=1./255)\n",
    "traingenerator=datagen.flow_from_directory(directory=img_path,target_size=(64,64),batch_size=8,class_mode='categorical')\n",
    "imgs,labels=next(traingenerator)"
   ]
  },
  {
   "cell_type": "code",
   "execution_count": null,
   "metadata": {},
   "outputs": [
    {
     "name": "stdout",
     "output_type": "stream",
     "text": [
      "Found 1311 images belonging to 4 classes.\n"
     ]
    }
   ],
   "source": [
    "img_path=\"archive/Testing\"\n",
    "datatester=datagen.flow_from_directory(directory=img_path,target_size=(64,64),batch_size=1000,class_mode='categorical')"
   ]
  },
  {
   "cell_type": "code",
   "execution_count": 9,
   "metadata": {},
   "outputs": [],
   "source": [
    "imgstesting,labelstesting=next(datatester)"
   ]
  },
  {
   "cell_type": "code",
   "execution_count": 10,
   "metadata": {},
   "outputs": [
    {
     "data": {
      "image/png": "[encoded data removed]",
      "text/plain": [
       "<Figure size 1000x500 with 1 Axes>"
      ]
     },
     "metadata": {},
     "output_type": "display_data"
    }
   ],
   "source": [
    "img_to_show=imgstesting[10]\n",
    "label=labelstesting[10]\n",
    "plt.figure(figsize=(10,5))\n",
    "plt.imshow(img_to_show)\n",
    "plt.show()"
   ]
  },
  {
   "cell_type": "code",
   "execution_count": 8,
   "metadata": {},
   "outputs": [],
   "source": [
    "classes=traingenerator.class_indices.keys()\n",
    "num_classes=len(classes)"
   ]
  },
  {
   "cell_type": "code",
   "execution_count": 10,
   "metadata": {},
   "outputs": [],
   "source": [
    "x_train,x_test,y_train,y_test=train_test_split(imgs,labels,test_size=0.1,random_state=42)"
   ]
  },
  {
   "cell_type": "code",
   "execution_count": 13,
   "metadata": {},
   "outputs": [
    {
     "name": "stderr",
     "output_type": "stream",
     "text": [
      "/home/razvan/miniconda3/envs/tf2/lib/python3.11/site-packages/keras/src/layers/convolutional/base_conv.py:107: UserWarning: Do not pass an `input_shape`/`input_dim` argument to a layer. When using Sequential models, prefer using an `Input(shape)` object as the first layer in the model instead.\n",
      "  super().__init__(activity_regularizer=activity_regularizer, **kwargs)\n",
      "I0000 00:00:1741978696.031397   90878 cuda_executor.cc:1001] could not open file to read NUMA node: /sys/bus/pci/devices/0000:01:00.0/numa_node\n",
      "Your kernel may have been built without NUMA support.\n",
      "I0000 00:00:1741978696.031856   90878 cuda_executor.cc:1001] could not open file to read NUMA node: /sys/bus/pci/devices/0000:01:00.0/numa_node\n",
      "Your kernel may have been built without NUMA support.\n",
      "I0000 00:00:1741978696.031909   90878 cuda_executor.cc:1001] could not open file to read NUMA node: /sys/bus/pci/devices/0000:01:00.0/numa_node\n",
      "Your kernel may have been built without NUMA support.\n",
      "I0000 00:00:1741978696.032796   90878 cuda_executor.cc:1001] could not open file to read NUMA node: /sys/bus/pci/devices/0000:01:00.0/numa_node\n",
      "Your kernel may have been built without NUMA support.\n",
      "2025-03-14 20:58:16.032908: I tensorflow/core/common_runtime/gpu/gpu_device.cc:2112] Could not identify NUMA node of platform GPU id 0, defaulting to 0.  Your kernel may not have been built with NUMA support.\n",
      "I0000 00:00:1741978696.033033   90878 cuda_executor.cc:1001] could not open file to read NUMA node: /sys/bus/pci/devices/0000:01:00.0/numa_node\n",
      "Your kernel may have been built without NUMA support.\n",
      "2025-03-14 20:58:16.033114: I tensorflow/core/common_runtime/gpu/gpu_device.cc:2021] Created device /job:localhost/replica:0/task:0/device:GPU:0 with 5563 MB memory:  -> device: 0, name: NVIDIA GeForce RTX 4060 Laptop GPU, pci bus id: 0000:01:00.0, compute capability: 8.9\n"
     ]
    }
   ],
   "source": [
    "model0=Sequential()\n",
    "model0.add(Conv2D(\n",
    "    filters=32,\n",
    "    kernel_size=(3,3),\n",
    "    activation=\"relu\",\n",
    "    padding=\"Same\",\n",
    "    input_shape=(128,128,3)\n",
    "))\n",
    "model0.add(Conv2D(\n",
    "    filters=32,\n",
    "    kernel_size=(3,3),\n",
    "    padding=\"Same\",\n",
    "    activation=\"relu\"\n",
    "))\n",
    "model0.add(MaxPool2D(\n",
    "    pool_size=(2,2)\n",
    "))\n",
    "model0.add(Conv2D(\n",
    "    filters=16,\n",
    "    kernel_size=(3,3),\n",
    "    activation=\"relu\"\n",
    "))\n",
    "model0.add(MaxPool2D(\n",
    "    pool_size=(2,2)\n",
    "))\n",
    "model0.add(Dropout(0.25))\n",
    "model0.add(Flatten())\n",
    "model0.add(Dense(\n",
    "    128,\n",
    "    activation=\"relu\"\n",
    "))\n",
    "model0.add(Dropout(0.5))\n",
    "model0.add(Dense(\n",
    "    64,\n",
    "    activation=\"relu\"\n",
    "))\n",
    "model0.add(Dense(\n",
    "    num_classes,\n",
    "    activation=\"softmax\"\n",
    "))"
   ]
  },
  {
   "cell_type": "code",
   "execution_count": 14,
   "metadata": {},
   "outputs": [
    {
     "data": {
      "text/html": [
       "<pre style=\"white-space:pre;overflow-x:auto;line-height:normal;font-family:Menlo,'DejaVu Sans Mono',consolas,'Courier New',monospace\"><span style=\"font-weight: bold\">Model: \"sequential\"</span>\n",
       "</pre>\n"
      ],
      "text/plain": [
       "\u001b[1mModel: \"sequential\"\u001b[0m\n"
      ]
     },
     "metadata": {},
     "output_type": "display_data"
    },
    {
     "data": {
      "text/html": [
       "<pre style=\"white-space:pre;overflow-x:auto;line-height:normal;font-family:Menlo,'DejaVu Sans Mono',consolas,'Courier New',monospace\">┏━━━━━━━━━━━━━━━━━━━━━━━━━━━━━━━━━┳━━━━━━━━━━━━━━━━━━━━━━━━┳━━━━━━━━━━━━━━━┓\n",
       "┃<span style=\"font-weight: bold\"> Layer (type)                    </span>┃<span style=\"font-weight: bold\"> Output Shape           </span>┃<span style=\"font-weight: bold\">       Param # </span>┃\n",
       "┡━━━━━━━━━━━━━━━━━━━━━━━━━━━━━━━━━╇━━━━━━━━━━━━━━━━━━━━━━━━╇━━━━━━━━━━━━━━━┩\n",
       "│ conv2d (<span style=\"color: #0087ff; text-decoration-color: #0087ff\">Conv2D</span>)                 │ (<span style=\"color: #00d7ff; text-decoration-color: #00d7ff\">None</span>, <span style=\"color: #00af00; text-decoration-color: #00af00\">128</span>, <span style=\"color: #00af00; text-decoration-color: #00af00\">128</span>, <span style=\"color: #00af00; text-decoration-color: #00af00\">32</span>)   │           <span style=\"color: #00af00; text-decoration-color: #00af00\">896</span> │\n",
       "├─────────────────────────────────┼────────────────────────┼───────────────┤\n",
       "│ conv2d_1 (<span style=\"color: #0087ff; text-decoration-color: #0087ff\">Conv2D</span>)               │ (<span style=\"color: #00d7ff; text-decoration-color: #00d7ff\">None</span>, <span style=\"color: #00af00; text-decoration-color: #00af00\">128</span>, <span style=\"color: #00af00; text-decoration-color: #00af00\">128</span>, <span style=\"color: #00af00; text-decoration-color: #00af00\">32</span>)   │         <span style=\"color: #00af00; text-decoration-color: #00af00\">9,248</span> │\n",
       "├─────────────────────────────────┼────────────────────────┼───────────────┤\n",
       "│ max_pooling2d (<span style=\"color: #0087ff; text-decoration-color: #0087ff\">MaxPooling2D</span>)    │ (<span style=\"color: #00d7ff; text-decoration-color: #00d7ff\">None</span>, <span style=\"color: #00af00; text-decoration-color: #00af00\">64</span>, <span style=\"color: #00af00; text-decoration-color: #00af00\">64</span>, <span style=\"color: #00af00; text-decoration-color: #00af00\">32</span>)     │             <span style=\"color: #00af00; text-decoration-color: #00af00\">0</span> │\n",
       "├─────────────────────────────────┼────────────────────────┼───────────────┤\n",
       "│ conv2d_2 (<span style=\"color: #0087ff; text-decoration-color: #0087ff\">Conv2D</span>)               │ (<span style=\"color: #00d7ff; text-decoration-color: #00d7ff\">None</span>, <span style=\"color: #00af00; text-decoration-color: #00af00\">62</span>, <span style=\"color: #00af00; text-decoration-color: #00af00\">62</span>, <span style=\"color: #00af00; text-decoration-color: #00af00\">16</span>)     │         <span style=\"color: #00af00; text-decoration-color: #00af00\">4,624</span> │\n",
       "├─────────────────────────────────┼────────────────────────┼───────────────┤\n",
       "│ max_pooling2d_1 (<span style=\"color: #0087ff; text-decoration-color: #0087ff\">MaxPooling2D</span>)  │ (<span style=\"color: #00d7ff; text-decoration-color: #00d7ff\">None</span>, <span style=\"color: #00af00; text-decoration-color: #00af00\">31</span>, <span style=\"color: #00af00; text-decoration-color: #00af00\">31</span>, <span style=\"color: #00af00; text-decoration-color: #00af00\">16</span>)     │             <span style=\"color: #00af00; text-decoration-color: #00af00\">0</span> │\n",
       "├─────────────────────────────────┼────────────────────────┼───────────────┤\n",
       "│ dropout (<span style=\"color: #0087ff; text-decoration-color: #0087ff\">Dropout</span>)               │ (<span style=\"color: #00d7ff; text-decoration-color: #00d7ff\">None</span>, <span style=\"color: #00af00; text-decoration-color: #00af00\">31</span>, <span style=\"color: #00af00; text-decoration-color: #00af00\">31</span>, <span style=\"color: #00af00; text-decoration-color: #00af00\">16</span>)     │             <span style=\"color: #00af00; text-decoration-color: #00af00\">0</span> │\n",
       "├─────────────────────────────────┼────────────────────────┼───────────────┤\n",
       "│ flatten (<span style=\"color: #0087ff; text-decoration-color: #0087ff\">Flatten</span>)               │ (<span style=\"color: #00d7ff; text-decoration-color: #00d7ff\">None</span>, <span style=\"color: #00af00; text-decoration-color: #00af00\">15376</span>)          │             <span style=\"color: #00af00; text-decoration-color: #00af00\">0</span> │\n",
       "├─────────────────────────────────┼────────────────────────┼───────────────┤\n",
       "│ dense (<span style=\"color: #0087ff; text-decoration-color: #0087ff\">Dense</span>)                   │ (<span style=\"color: #00d7ff; text-decoration-color: #00d7ff\">None</span>, <span style=\"color: #00af00; text-decoration-color: #00af00\">128</span>)            │     <span style=\"color: #00af00; text-decoration-color: #00af00\">1,968,256</span> │\n",
       "├─────────────────────────────────┼────────────────────────┼───────────────┤\n",
       "│ dropout_1 (<span style=\"color: #0087ff; text-decoration-color: #0087ff\">Dropout</span>)             │ (<span style=\"color: #00d7ff; text-decoration-color: #00d7ff\">None</span>, <span style=\"color: #00af00; text-decoration-color: #00af00\">128</span>)            │             <span style=\"color: #00af00; text-decoration-color: #00af00\">0</span> │\n",
       "├─────────────────────────────────┼────────────────────────┼───────────────┤\n",
       "│ dense_1 (<span style=\"color: #0087ff; text-decoration-color: #0087ff\">Dense</span>)                 │ (<span style=\"color: #00d7ff; text-decoration-color: #00d7ff\">None</span>, <span style=\"color: #00af00; text-decoration-color: #00af00\">64</span>)             │         <span style=\"color: #00af00; text-decoration-color: #00af00\">8,256</span> │\n",
       "├─────────────────────────────────┼────────────────────────┼───────────────┤\n",
       "│ dense_2 (<span style=\"color: #0087ff; text-decoration-color: #0087ff\">Dense</span>)                 │ (<span style=\"color: #00d7ff; text-decoration-color: #00d7ff\">None</span>, <span style=\"color: #00af00; text-decoration-color: #00af00\">4</span>)              │           <span style=\"color: #00af00; text-decoration-color: #00af00\">260</span> │\n",
       "└─────────────────────────────────┴────────────────────────┴───────────────┘\n",
       "</pre>\n"
      ],
      "text/plain": [
       "┏━━━━━━━━━━━━━━━━━━━━━━━━━━━━━━━━━┳━━━━━━━━━━━━━━━━━━━━━━━━┳━━━━━━━━━━━━━━━┓\n",
       "┃\u001b[1m \u001b[0m\u001b[1mLayer (type)                   \u001b[0m\u001b[1m \u001b[0m┃\u001b[1m \u001b[0m\u001b[1mOutput Shape          \u001b[0m\u001b[1m \u001b[0m┃\u001b[1m \u001b[0m\u001b[1m      Param #\u001b[0m\u001b[1m \u001b[0m┃\n",
       "┡━━━━━━━━━━━━━━━━━━━━━━━━━━━━━━━━━╇━━━━━━━━━━━━━━━━━━━━━━━━╇━━━━━━━━━━━━━━━┩\n",
       "│ conv2d (\u001b[38;5;33mConv2D\u001b[0m)                 │ (\u001b[38;5;45mNone\u001b[0m, \u001b[38;5;34m128\u001b[0m, \u001b[38;5;34m128\u001b[0m, \u001b[38;5;34m32\u001b[0m)   │           \u001b[38;5;34m896\u001b[0m │\n",
       "├─────────────────────────────────┼────────────────────────┼───────────────┤\n",
       "│ conv2d_1 (\u001b[38;5;33mConv2D\u001b[0m)               │ (\u001b[38;5;45mNone\u001b[0m, \u001b[38;5;34m128\u001b[0m, \u001b[38;5;34m128\u001b[0m, \u001b[38;5;34m32\u001b[0m)   │         \u001b[38;5;34m9,248\u001b[0m │\n",
       "├─────────────────────────────────┼────────────────────────┼───────────────┤\n",
       "│ max_pooling2d (\u001b[38;5;33mMaxPooling2D\u001b[0m)    │ (\u001b[38;5;45mNone\u001b[0m, \u001b[38;5;34m64\u001b[0m, \u001b[38;5;34m64\u001b[0m, \u001b[38;5;34m32\u001b[0m)     │             \u001b[38;5;34m0\u001b[0m │\n",
       "├─────────────────────────────────┼────────────────────────┼───────────────┤\n",
       "│ conv2d_2 (\u001b[38;5;33mConv2D\u001b[0m)               │ (\u001b[38;5;45mNone\u001b[0m, \u001b[38;5;34m62\u001b[0m, \u001b[38;5;34m62\u001b[0m, \u001b[38;5;34m16\u001b[0m)     │         \u001b[38;5;34m4,624\u001b[0m │\n",
       "├─────────────────────────────────┼────────────────────────┼───────────────┤\n",
       "│ max_pooling2d_1 (\u001b[38;5;33mMaxPooling2D\u001b[0m)  │ (\u001b[38;5;45mNone\u001b[0m, \u001b[38;5;34m31\u001b[0m, \u001b[38;5;34m31\u001b[0m, \u001b[38;5;34m16\u001b[0m)     │             \u001b[38;5;34m0\u001b[0m │\n",
       "├─────────────────────────────────┼────────────────────────┼───────────────┤\n",
       "│ dropout (\u001b[38;5;33mDropout\u001b[0m)               │ (\u001b[38;5;45mNone\u001b[0m, \u001b[38;5;34m31\u001b[0m, \u001b[38;5;34m31\u001b[0m, \u001b[38;5;34m16\u001b[0m)     │             \u001b[38;5;34m0\u001b[0m │\n",
       "├─────────────────────────────────┼────────────────────────┼───────────────┤\n",
       "│ flatten (\u001b[38;5;33mFlatten\u001b[0m)               │ (\u001b[38;5;45mNone\u001b[0m, \u001b[38;5;34m15376\u001b[0m)          │             \u001b[38;5;34m0\u001b[0m │\n",
       "├─────────────────────────────────┼────────────────────────┼───────────────┤\n",
       "│ dense (\u001b[38;5;33mDense\u001b[0m)                   │ (\u001b[38;5;45mNone\u001b[0m, \u001b[38;5;34m128\u001b[0m)            │     \u001b[38;5;34m1,968,256\u001b[0m │\n",
       "├─────────────────────────────────┼────────────────────────┼───────────────┤\n",
       "│ dropout_1 (\u001b[38;5;33mDropout\u001b[0m)             │ (\u001b[38;5;45mNone\u001b[0m, \u001b[38;5;34m128\u001b[0m)            │             \u001b[38;5;34m0\u001b[0m │\n",
       "├─────────────────────────────────┼────────────────────────┼───────────────┤\n",
       "│ dense_1 (\u001b[38;5;33mDense\u001b[0m)                 │ (\u001b[38;5;45mNone\u001b[0m, \u001b[38;5;34m64\u001b[0m)             │         \u001b[38;5;34m8,256\u001b[0m │\n",
       "├─────────────────────────────────┼────────────────────────┼───────────────┤\n",
       "│ dense_2 (\u001b[38;5;33mDense\u001b[0m)                 │ (\u001b[38;5;45mNone\u001b[0m, \u001b[38;5;34m4\u001b[0m)              │           \u001b[38;5;34m260\u001b[0m │\n",
       "└─────────────────────────────────┴────────────────────────┴───────────────┘\n"
      ]
     },
     "metadata": {},
     "output_type": "display_data"
    },
    {
     "data": {
      "text/html": [
       "<pre style=\"white-space:pre;overflow-x:auto;line-height:normal;font-family:Menlo,'DejaVu Sans Mono',consolas,'Courier New',monospace\"><span style=\"font-weight: bold\"> Total params: </span><span style=\"color: #00af00; text-decoration-color: #00af00\">1,991,540</span> (7.60 MB)\n",
       "</pre>\n"
      ],
      "text/plain": [
       "\u001b[1m Total params: \u001b[0m\u001b[38;5;34m1,991,540\u001b[0m (7.60 MB)\n"
      ]
     },
     "metadata": {},
     "output_type": "display_data"
    },
    {
     "data": {
      "text/html": [
       "<pre style=\"white-space:pre;overflow-x:auto;line-height:normal;font-family:Menlo,'DejaVu Sans Mono',consolas,'Courier New',monospace\"><span style=\"font-weight: bold\"> Trainable params: </span><span style=\"color: #00af00; text-decoration-color: #00af00\">1,991,540</span> (7.60 MB)\n",
       "</pre>\n"
      ],
      "text/plain": [
       "\u001b[1m Trainable params: \u001b[0m\u001b[38;5;34m1,991,540\u001b[0m (7.60 MB)\n"
      ]
     },
     "metadata": {},
     "output_type": "display_data"
    },
    {
     "data": {
      "text/html": [
       "<pre style=\"white-space:pre;overflow-x:auto;line-height:normal;font-family:Menlo,'DejaVu Sans Mono',consolas,'Courier New',monospace\"><span style=\"font-weight: bold\"> Non-trainable params: </span><span style=\"color: #00af00; text-decoration-color: #00af00\">0</span> (0.00 B)\n",
       "</pre>\n"
      ],
      "text/plain": [
       "\u001b[1m Non-trainable params: \u001b[0m\u001b[38;5;34m0\u001b[0m (0.00 B)\n"
      ]
     },
     "metadata": {},
     "output_type": "display_data"
    }
   ],
   "source": [
    "model0.summary()"
   ]
  },
  {
   "cell_type": "code",
   "execution_count": null,
   "metadata": {},
   "outputs": [],
   "source": [
    "optimizer=RMSprop(learning_rate=0.001,rho=0.9,epsilon=1e-08)\n",
    "model0.compile(\n",
    "    optimizer=optimizer,\n",
    "    loss=\"categorical_crossentropy\",\n",
    "    metrics=[\"accuracy\"]\n",
    ")"
   ]
  },
  {
   "cell_type": "code",
   "execution_count": 13,
   "metadata": {},
   "outputs": [],
   "source": [
    "datagen=ImageDataGenerator(\n",
    "    rotation_range=0,\n",
    "    zoom_range=0,\n",
    "    width_shift_range=0,\n",
    "    height_shift_range=0,\n",
    "    horizontal_flip=False,\n",
    "    vertical_flip=False\n",
    ")"
   ]
  },
  {
   "cell_type": "code",
   "execution_count": 14,
   "metadata": {},
   "outputs": [],
   "source": [
    "datagen.fit(x_train)"
   ]
  },
  {
   "cell_type": "code",
   "execution_count": 18,
   "metadata": {},
   "outputs": [
    {
     "name": "stdout",
     "output_type": "stream",
     "text": [
      "Epoch 1/15\n"
     ]
    },
    {
     "name": "stderr",
     "output_type": "stream",
     "text": [
      "WARNING: All log messages before absl::InitializeLog() is called are written to STDERR\n",
      "I0000 00:00:1741978711.679395   91316 service.cc:146] XLA service 0x7cd2f8009d20 initialized for platform CUDA (this does not guarantee that XLA will be used). Devices:\n",
      "I0000 00:00:1741978711.679955   91316 service.cc:154]   StreamExecutor device (0): NVIDIA GeForce RTX 4060 Laptop GPU, Compute Capability 8.9\n",
      "2025-03-14 20:58:31.810454: I tensorflow/compiler/mlir/tensorflow/utils/dump_mlir_util.cc:268] disabling MLIR crash reproducer, set env var `MLIR_CRASH_REPRODUCER_DIRECTORY` to enable.\n",
      "2025-03-14 20:58:32.109894: I external/local_xla/xla/stream_executor/cuda/cuda_dnn.cc:531] Loaded cuDNN version 8907\n"
     ]
    },
    {
     "name": "stdout",
     "output_type": "stream",
     "text": [
      "\u001b[1m  9/161\u001b[0m \u001b[32m━\u001b[0m\u001b[37m━━━━━━━━━━━━━━━━━━━\u001b[0m \u001b[1m2s\u001b[0m 14ms/step - accuracy: 0.2177 - loss: 1.8411"
     ]
    },
    {
     "name": "stderr",
     "output_type": "stream",
     "text": [
      "I0000 00:00:1741978716.739640   91316 device_compiler.h:188] Compiled cluster using XLA!  This line is logged at most once for the lifetime of the process.\n"
     ]
    },
    {
     "name": "stdout",
     "output_type": "stream",
     "text": [
      "\u001b[1m161/161\u001b[0m \u001b[32m━━━━━━━━━━━━━━━━━━━━\u001b[0m\u001b[37m\u001b[0m \u001b[1m16s\u001b[0m 56ms/step - accuracy: 0.5307 - loss: 1.0947 - val_accuracy: 0.8217 - val_loss: 0.5174\n",
      "Epoch 2/15\n",
      "\u001b[1m161/161\u001b[0m \u001b[32m━━━━━━━━━━━━━━━━━━━━\u001b[0m\u001b[37m\u001b[0m \u001b[1m2s\u001b[0m 15ms/step - accuracy: 0.7838 - loss: 0.5460 - val_accuracy: 0.8531 - val_loss: 0.3843\n",
      "Epoch 3/15\n",
      "\u001b[1m161/161\u001b[0m \u001b[32m━━━━━━━━━━━━━━━━━━━━\u001b[0m\u001b[37m\u001b[0m \u001b[1m2s\u001b[0m 15ms/step - accuracy: 0.8483 - loss: 0.3943 - val_accuracy: 0.8409 - val_loss: 0.4067\n",
      "Epoch 4/15\n",
      "\u001b[1m161/161\u001b[0m \u001b[32m━━━━━━━━━━━━━━━━━━━━\u001b[0m\u001b[37m\u001b[0m \u001b[1m1s\u001b[0m 4ms/step - accuracy: 0.8885 - loss: 0.3211 - val_accuracy: 0.9143 - val_loss: 0.2662\n",
      "Epoch 5/15\n",
      "\u001b[1m161/161\u001b[0m \u001b[32m━━━━━━━━━━━━━━━━━━━━\u001b[0m\u001b[37m\u001b[0m \u001b[1m2s\u001b[0m 15ms/step - accuracy: 0.9181 - loss: 0.2417 - val_accuracy: 0.9283 - val_loss: 0.2286\n",
      "Epoch 6/15\n",
      "\u001b[1m161/161\u001b[0m \u001b[32m━━━━━━━━━━━━━━━━━━━━\u001b[0m\u001b[37m\u001b[0m \u001b[1m2s\u001b[0m 15ms/step - accuracy: 0.9379 - loss: 0.1874 - val_accuracy: 0.9458 - val_loss: 0.1846\n",
      "Epoch 7/15\n",
      "\u001b[1m161/161\u001b[0m \u001b[32m━━━━━━━━━━━━━━━━━━━━\u001b[0m\u001b[37m\u001b[0m \u001b[1m2s\u001b[0m 14ms/step - accuracy: 0.9459 - loss: 0.1506 - val_accuracy: 0.9336 - val_loss: 0.2149\n",
      "Epoch 8/15\n",
      "\u001b[1m161/161\u001b[0m \u001b[32m━━━━━━━━━━━━━━━━━━━━\u001b[0m\u001b[37m\u001b[0m \u001b[1m2s\u001b[0m 15ms/step - accuracy: 0.9525 - loss: 0.1468 - val_accuracy: 0.9371 - val_loss: 0.2109\n",
      "Epoch 9/15\n",
      "\u001b[1m161/161\u001b[0m \u001b[32m━━━━━━━━━━━━━━━━━━━━\u001b[0m\u001b[37m\u001b[0m \u001b[1m2s\u001b[0m 15ms/step - accuracy: 0.9597 - loss: 0.1270 - val_accuracy: 0.9510 - val_loss: 0.1931\n",
      "Epoch 10/15\n",
      "\u001b[1m161/161\u001b[0m \u001b[32m━━━━━━━━━━━━━━━━━━━━\u001b[0m\u001b[37m\u001b[0m \u001b[1m2s\u001b[0m 15ms/step - accuracy: 0.9648 - loss: 0.1042 - val_accuracy: 0.9371 - val_loss: 0.2031\n",
      "Epoch 11/15\n",
      "\u001b[1m161/161\u001b[0m \u001b[32m━━━━━━━━━━━━━━━━━━━━\u001b[0m\u001b[37m\u001b[0m \u001b[1m2s\u001b[0m 15ms/step - accuracy: 0.9627 - loss: 0.1064 - val_accuracy: 0.9441 - val_loss: 0.1836\n",
      "Epoch 12/15\n",
      "\u001b[1m161/161\u001b[0m \u001b[32m━━━━━━━━━━━━━━━━━━━━\u001b[0m\u001b[37m\u001b[0m \u001b[1m2s\u001b[0m 15ms/step - accuracy: 0.9758 - loss: 0.0770 - val_accuracy: 0.9458 - val_loss: 0.1803\n",
      "Epoch 13/15\n",
      "\u001b[1m161/161\u001b[0m \u001b[32m━━━━━━━━━━━━━━━━━━━━\u001b[0m\u001b[37m\u001b[0m \u001b[1m2s\u001b[0m 15ms/step - accuracy: 0.9759 - loss: 0.0731 - val_accuracy: 0.9353 - val_loss: 0.2760\n",
      "Epoch 14/15\n",
      "\u001b[1m161/161\u001b[0m \u001b[32m━━━━━━━━━━━━━━━━━━━━\u001b[0m\u001b[37m\u001b[0m \u001b[1m2s\u001b[0m 15ms/step - accuracy: 0.9756 - loss: 0.0779 - val_accuracy: 0.9336 - val_loss: 0.2326\n",
      "Epoch 15/15\n",
      "\u001b[1m161/161\u001b[0m \u001b[32m━━━━━━━━━━━━━━━━━━━━\u001b[0m\u001b[37m\u001b[0m \u001b[1m2s\u001b[0m 15ms/step - accuracy: 0.9757 - loss: 0.0755 - val_accuracy: 0.9441 - val_loss: 0.1899\n"
     ]
    }
   ],
   "source": [
    "history=model0.fit(\n",
    "    x_train,y_train,\n",
    "    validation_data=(x_test,y_test),\n",
    "    epochs=15,\n",
    "    verbose=1,\n",
    "    # class_weight=class_weights\n",
    ")"
   ]
  },
  {
   "cell_type": "code",
   "execution_count": 19,
   "metadata": {},
   "outputs": [
    {
     "name": "stdout",
     "output_type": "stream",
     "text": [
      "\u001b[1m41/41\u001b[0m \u001b[32m━━━━━━━━━━━━━━━━━━━━\u001b[0m\u001b[37m\u001b[0m \u001b[1m2s\u001b[0m 41ms/step\n"
     ]
    }
   ],
   "source": [
    "preds=model0.predict(imgstesting)\n",
    "pred_class=np.argmax(preds,axis=1)\n",
    "y_true=np.argmax(labelstesting,axis=1)\n",
    "mat=confusion_matrix(y_true,pred_class)\n",
    "mat2=np.zeros((num_classes,num_classes),)\n",
    "for i in range(num_classes):\n",
    "    sm=sum(mat[i])\n",
    "    for j in range(num_classes):\n",
    "        x=mat[i][j]/sm\n",
    "        mat2[i][j]=x"
   ]
  },
  {
   "cell_type": "code",
   "execution_count": 20,
   "metadata": {},
   "outputs": [],
   "source": [
    "mat2_arr=np.array(mat2)\n",
    "labels=classes"
   ]
  },
  {
   "cell_type": "code",
   "execution_count": 21,
   "metadata": {},
   "outputs": [],
   "source": [
    "conf_mat_test=pd.DataFrame(data=mat2_arr,columns=labels,index=labels)"
   ]
  },
  {
   "cell_type": "code",
   "execution_count": 22,
   "metadata": {},
   "outputs": [
    {
     "data": {
      "text/plain": [
       "<Axes: >"
      ]
     },
     "execution_count": 22,
     "metadata": {},
     "output_type": "execute_result"
    },
    {
     "data": {
      "image/png": "[encoded data removed]",
      "text/plain": [
       "<Figure size 400x400 with 2 Axes>"
      ]
     },
     "metadata": {},
     "output_type": "display_data"
    }
   ],
   "source": [
    "fig,ax=plt.subplots(figsize=(num_classes,num_classes))\n",
    "sns.heatmap(conf_mat_test,annot=True,linewidths=.5,ax=ax,fmt=\".2%\")"
   ]
  },
  {
   "cell_type": "code",
   "execution_count": 23,
   "metadata": {},
   "outputs": [],
   "source": [
    "model0.save('brain_tumor_version1.keras')"
   ]
  },
  {
   "cell_type": "code",
   "execution_count": null,
   "metadata": {},
   "outputs": [
    {
     "name": "stderr",
     "output_type": "stream",
     "text": [
      "/home/razvan/miniconda3/envs/tf2/lib/python3.11/site-packages/keras/src/layers/convolutional/base_conv.py:107: UserWarning: Do not pass an `input_shape`/`input_dim` argument to a layer. When using Sequential models, prefer using an `Input(shape)` object as the first layer in the model instead.\n",
      "  super().__init__(activity_regularizer=activity_regularizer, **kwargs)\n"
     ]
    }
   ],
   "source": [
    "# img_shape=(128,128,3)\n",
    "# tf.keras.layers,\n",
    "model1=Sequential()\n",
    "model1.add(Conv2D(filters=64,kernel_size=(3,3),padding='same',activation='relu',input_shape=(128,128,3)))\n",
    "model1.add(Conv2D(filters=64,kernel_size=(3,3),padding='same',activation='relu'))\n",
    "model1.add(Conv2D(filters=64,kernel_size=(3,3),padding='same',activation='relu'))\n",
    "model1.add(MaxPool2D((2,2)))\n",
    "model1.add(Conv2D(filters=128,kernel_size=(3,3),padding='same',activation='relu'))\n",
    "model1.add(Conv2D(filters=128,kernel_size=(3,3),padding='same',activation='relu'))\n",
    "model1.add(MaxPool2D((2,2)))\n",
    "model1.add(Conv2D(filters=256, kernel_size=(3,3), padding=\"same\", activation=\"relu\"))\n",
    "model1.add(Conv2D(filters=256, kernel_size=(3,3), padding=\"same\", activation=\"relu\"))\n",
    "model1.add(Conv2D(filters=256, kernel_size=(3,3), padding=\"same\", activation=\"relu\"))\n",
    "model1.add(MaxPool2D((2,2)))\n",
    "model1.add(Conv2D(filters=512, kernel_size=(3,3), padding=\"same\", activation=\"relu\"))\n",
    "model1.add(Conv2D(filters=512, kernel_size=(3,3), padding=\"same\", activation=\"relu\"))\n",
    "model1.add(Conv2D(filters=512, kernel_size=(3,3), padding=\"same\", activation=\"relu\"))\n",
    "model1.add(MaxPool2D((2,2)))\n",
    "model1.add(Conv2D(filters=512, kernel_size=(3,3), padding=\"same\", activation=\"relu\"))\n",
    "model1.add(Conv2D(filters=512, kernel_size=(3,3), padding=\"same\", activation=\"relu\"))\n",
    "model1.add(Conv2D(filters=512, kernel_size=(3,3), padding=\"same\", activation=\"relu\"))\n",
    "model1.add(MaxPool2D((2,2)))\n",
    "model1.add(Flatten())\n",
    "model1.add(Dense(256,activation='relu'))\n",
    "model1.add(Dense(64,activation='relu'))\n",
    "model1.add(Dense(num_classes,activation='softmax'))"
   ]
  },
  {
   "cell_type": "code",
   "execution_count": 40,
   "metadata": {},
   "outputs": [],
   "source": [
    "model1.compile(Adamax(learning_rate=0.001),loss='categorical_crossentropy',metrics=['accuracy'])"
   ]
  },
  {
   "cell_type": "code",
   "execution_count": 50,
   "metadata": {},
   "outputs": [
    {
     "data": {
      "text/html": [
       "<pre style=\"white-space:pre;overflow-x:auto;line-height:normal;font-family:Menlo,'DejaVu Sans Mono',consolas,'Courier New',monospace\"><span style=\"font-weight: bold\">Model: \"sequential_20\"</span>\n",
       "</pre>\n"
      ],
      "text/plain": [
       "\u001b[1mModel: \"sequential_20\"\u001b[0m\n"
      ]
     },
     "metadata": {},
     "output_type": "display_data"
    },
    {
     "data": {
      "text/html": [
       "<pre style=\"white-space:pre;overflow-x:auto;line-height:normal;font-family:Menlo,'DejaVu Sans Mono',consolas,'Courier New',monospace\">┏━━━━━━━━━━━━━━━━━━━━━━━━━━━━━━━━━┳━━━━━━━━━━━━━━━━━━━━━━━━┳━━━━━━━━━━━━━━━┓\n",
       "┃<span style=\"font-weight: bold\"> Layer (type)                    </span>┃<span style=\"font-weight: bold\"> Output Shape           </span>┃<span style=\"font-weight: bold\">       Param # </span>┃\n",
       "┡━━━━━━━━━━━━━━━━━━━━━━━━━━━━━━━━━╇━━━━━━━━━━━━━━━━━━━━━━━━╇━━━━━━━━━━━━━━━┩\n",
       "│ conv2d_185 (<span style=\"color: #0087ff; text-decoration-color: #0087ff\">Conv2D</span>)             │ (<span style=\"color: #00d7ff; text-decoration-color: #00d7ff\">None</span>, <span style=\"color: #00af00; text-decoration-color: #00af00\">128</span>, <span style=\"color: #00af00; text-decoration-color: #00af00\">128</span>, <span style=\"color: #00af00; text-decoration-color: #00af00\">64</span>)   │         <span style=\"color: #00af00; text-decoration-color: #00af00\">1,792</span> │\n",
       "├─────────────────────────────────┼────────────────────────┼───────────────┤\n",
       "│ conv2d_186 (<span style=\"color: #0087ff; text-decoration-color: #0087ff\">Conv2D</span>)             │ (<span style=\"color: #00d7ff; text-decoration-color: #00d7ff\">None</span>, <span style=\"color: #00af00; text-decoration-color: #00af00\">128</span>, <span style=\"color: #00af00; text-decoration-color: #00af00\">128</span>, <span style=\"color: #00af00; text-decoration-color: #00af00\">64</span>)   │        <span style=\"color: #00af00; text-decoration-color: #00af00\">36,928</span> │\n",
       "├─────────────────────────────────┼────────────────────────┼───────────────┤\n",
       "│ conv2d_187 (<span style=\"color: #0087ff; text-decoration-color: #0087ff\">Conv2D</span>)             │ (<span style=\"color: #00d7ff; text-decoration-color: #00d7ff\">None</span>, <span style=\"color: #00af00; text-decoration-color: #00af00\">128</span>, <span style=\"color: #00af00; text-decoration-color: #00af00\">128</span>, <span style=\"color: #00af00; text-decoration-color: #00af00\">64</span>)   │        <span style=\"color: #00af00; text-decoration-color: #00af00\">36,928</span> │\n",
       "├─────────────────────────────────┼────────────────────────┼───────────────┤\n",
       "│ max_pooling2d_68 (<span style=\"color: #0087ff; text-decoration-color: #0087ff\">MaxPooling2D</span>) │ (<span style=\"color: #00d7ff; text-decoration-color: #00d7ff\">None</span>, <span style=\"color: #00af00; text-decoration-color: #00af00\">64</span>, <span style=\"color: #00af00; text-decoration-color: #00af00\">64</span>, <span style=\"color: #00af00; text-decoration-color: #00af00\">64</span>)     │             <span style=\"color: #00af00; text-decoration-color: #00af00\">0</span> │\n",
       "├─────────────────────────────────┼────────────────────────┼───────────────┤\n",
       "│ conv2d_188 (<span style=\"color: #0087ff; text-decoration-color: #0087ff\">Conv2D</span>)             │ (<span style=\"color: #00d7ff; text-decoration-color: #00d7ff\">None</span>, <span style=\"color: #00af00; text-decoration-color: #00af00\">64</span>, <span style=\"color: #00af00; text-decoration-color: #00af00\">64</span>, <span style=\"color: #00af00; text-decoration-color: #00af00\">128</span>)    │        <span style=\"color: #00af00; text-decoration-color: #00af00\">73,856</span> │\n",
       "├─────────────────────────────────┼────────────────────────┼───────────────┤\n",
       "│ conv2d_189 (<span style=\"color: #0087ff; text-decoration-color: #0087ff\">Conv2D</span>)             │ (<span style=\"color: #00d7ff; text-decoration-color: #00d7ff\">None</span>, <span style=\"color: #00af00; text-decoration-color: #00af00\">64</span>, <span style=\"color: #00af00; text-decoration-color: #00af00\">64</span>, <span style=\"color: #00af00; text-decoration-color: #00af00\">128</span>)    │       <span style=\"color: #00af00; text-decoration-color: #00af00\">147,584</span> │\n",
       "├─────────────────────────────────┼────────────────────────┼───────────────┤\n",
       "│ max_pooling2d_69 (<span style=\"color: #0087ff; text-decoration-color: #0087ff\">MaxPooling2D</span>) │ (<span style=\"color: #00d7ff; text-decoration-color: #00d7ff\">None</span>, <span style=\"color: #00af00; text-decoration-color: #00af00\">32</span>, <span style=\"color: #00af00; text-decoration-color: #00af00\">32</span>, <span style=\"color: #00af00; text-decoration-color: #00af00\">128</span>)    │             <span style=\"color: #00af00; text-decoration-color: #00af00\">0</span> │\n",
       "├─────────────────────────────────┼────────────────────────┼───────────────┤\n",
       "│ conv2d_190 (<span style=\"color: #0087ff; text-decoration-color: #0087ff\">Conv2D</span>)             │ (<span style=\"color: #00d7ff; text-decoration-color: #00d7ff\">None</span>, <span style=\"color: #00af00; text-decoration-color: #00af00\">32</span>, <span style=\"color: #00af00; text-decoration-color: #00af00\">32</span>, <span style=\"color: #00af00; text-decoration-color: #00af00\">256</span>)    │       <span style=\"color: #00af00; text-decoration-color: #00af00\">295,168</span> │\n",
       "├─────────────────────────────────┼────────────────────────┼───────────────┤\n",
       "│ conv2d_191 (<span style=\"color: #0087ff; text-decoration-color: #0087ff\">Conv2D</span>)             │ (<span style=\"color: #00d7ff; text-decoration-color: #00d7ff\">None</span>, <span style=\"color: #00af00; text-decoration-color: #00af00\">32</span>, <span style=\"color: #00af00; text-decoration-color: #00af00\">32</span>, <span style=\"color: #00af00; text-decoration-color: #00af00\">256</span>)    │       <span style=\"color: #00af00; text-decoration-color: #00af00\">590,080</span> │\n",
       "├─────────────────────────────────┼────────────────────────┼───────────────┤\n",
       "│ conv2d_192 (<span style=\"color: #0087ff; text-decoration-color: #0087ff\">Conv2D</span>)             │ (<span style=\"color: #00d7ff; text-decoration-color: #00d7ff\">None</span>, <span style=\"color: #00af00; text-decoration-color: #00af00\">32</span>, <span style=\"color: #00af00; text-decoration-color: #00af00\">32</span>, <span style=\"color: #00af00; text-decoration-color: #00af00\">256</span>)    │       <span style=\"color: #00af00; text-decoration-color: #00af00\">590,080</span> │\n",
       "├─────────────────────────────────┼────────────────────────┼───────────────┤\n",
       "│ max_pooling2d_70 (<span style=\"color: #0087ff; text-decoration-color: #0087ff\">MaxPooling2D</span>) │ (<span style=\"color: #00d7ff; text-decoration-color: #00d7ff\">None</span>, <span style=\"color: #00af00; text-decoration-color: #00af00\">16</span>, <span style=\"color: #00af00; text-decoration-color: #00af00\">16</span>, <span style=\"color: #00af00; text-decoration-color: #00af00\">256</span>)    │             <span style=\"color: #00af00; text-decoration-color: #00af00\">0</span> │\n",
       "├─────────────────────────────────┼────────────────────────┼───────────────┤\n",
       "│ conv2d_193 (<span style=\"color: #0087ff; text-decoration-color: #0087ff\">Conv2D</span>)             │ (<span style=\"color: #00d7ff; text-decoration-color: #00d7ff\">None</span>, <span style=\"color: #00af00; text-decoration-color: #00af00\">16</span>, <span style=\"color: #00af00; text-decoration-color: #00af00\">16</span>, <span style=\"color: #00af00; text-decoration-color: #00af00\">512</span>)    │     <span style=\"color: #00af00; text-decoration-color: #00af00\">1,180,160</span> │\n",
       "├─────────────────────────────────┼────────────────────────┼───────────────┤\n",
       "│ conv2d_194 (<span style=\"color: #0087ff; text-decoration-color: #0087ff\">Conv2D</span>)             │ (<span style=\"color: #00d7ff; text-decoration-color: #00d7ff\">None</span>, <span style=\"color: #00af00; text-decoration-color: #00af00\">16</span>, <span style=\"color: #00af00; text-decoration-color: #00af00\">16</span>, <span style=\"color: #00af00; text-decoration-color: #00af00\">512</span>)    │     <span style=\"color: #00af00; text-decoration-color: #00af00\">2,359,808</span> │\n",
       "├─────────────────────────────────┼────────────────────────┼───────────────┤\n",
       "│ conv2d_195 (<span style=\"color: #0087ff; text-decoration-color: #0087ff\">Conv2D</span>)             │ (<span style=\"color: #00d7ff; text-decoration-color: #00d7ff\">None</span>, <span style=\"color: #00af00; text-decoration-color: #00af00\">16</span>, <span style=\"color: #00af00; text-decoration-color: #00af00\">16</span>, <span style=\"color: #00af00; text-decoration-color: #00af00\">512</span>)    │     <span style=\"color: #00af00; text-decoration-color: #00af00\">2,359,808</span> │\n",
       "├─────────────────────────────────┼────────────────────────┼───────────────┤\n",
       "│ max_pooling2d_71 (<span style=\"color: #0087ff; text-decoration-color: #0087ff\">MaxPooling2D</span>) │ (<span style=\"color: #00d7ff; text-decoration-color: #00d7ff\">None</span>, <span style=\"color: #00af00; text-decoration-color: #00af00\">8</span>, <span style=\"color: #00af00; text-decoration-color: #00af00\">8</span>, <span style=\"color: #00af00; text-decoration-color: #00af00\">512</span>)      │             <span style=\"color: #00af00; text-decoration-color: #00af00\">0</span> │\n",
       "├─────────────────────────────────┼────────────────────────┼───────────────┤\n",
       "│ conv2d_196 (<span style=\"color: #0087ff; text-decoration-color: #0087ff\">Conv2D</span>)             │ (<span style=\"color: #00d7ff; text-decoration-color: #00d7ff\">None</span>, <span style=\"color: #00af00; text-decoration-color: #00af00\">8</span>, <span style=\"color: #00af00; text-decoration-color: #00af00\">8</span>, <span style=\"color: #00af00; text-decoration-color: #00af00\">512</span>)      │     <span style=\"color: #00af00; text-decoration-color: #00af00\">2,359,808</span> │\n",
       "├─────────────────────────────────┼────────────────────────┼───────────────┤\n",
       "│ conv2d_197 (<span style=\"color: #0087ff; text-decoration-color: #0087ff\">Conv2D</span>)             │ (<span style=\"color: #00d7ff; text-decoration-color: #00d7ff\">None</span>, <span style=\"color: #00af00; text-decoration-color: #00af00\">8</span>, <span style=\"color: #00af00; text-decoration-color: #00af00\">8</span>, <span style=\"color: #00af00; text-decoration-color: #00af00\">512</span>)      │     <span style=\"color: #00af00; text-decoration-color: #00af00\">2,359,808</span> │\n",
       "├─────────────────────────────────┼────────────────────────┼───────────────┤\n",
       "│ conv2d_198 (<span style=\"color: #0087ff; text-decoration-color: #0087ff\">Conv2D</span>)             │ (<span style=\"color: #00d7ff; text-decoration-color: #00d7ff\">None</span>, <span style=\"color: #00af00; text-decoration-color: #00af00\">8</span>, <span style=\"color: #00af00; text-decoration-color: #00af00\">8</span>, <span style=\"color: #00af00; text-decoration-color: #00af00\">512</span>)      │     <span style=\"color: #00af00; text-decoration-color: #00af00\">2,359,808</span> │\n",
       "├─────────────────────────────────┼────────────────────────┼───────────────┤\n",
       "│ max_pooling2d_72 (<span style=\"color: #0087ff; text-decoration-color: #0087ff\">MaxPooling2D</span>) │ (<span style=\"color: #00d7ff; text-decoration-color: #00d7ff\">None</span>, <span style=\"color: #00af00; text-decoration-color: #00af00\">4</span>, <span style=\"color: #00af00; text-decoration-color: #00af00\">4</span>, <span style=\"color: #00af00; text-decoration-color: #00af00\">512</span>)      │             <span style=\"color: #00af00; text-decoration-color: #00af00\">0</span> │\n",
       "├─────────────────────────────────┼────────────────────────┼───────────────┤\n",
       "│ flatten_14 (<span style=\"color: #0087ff; text-decoration-color: #0087ff\">Flatten</span>)            │ (<span style=\"color: #00d7ff; text-decoration-color: #00d7ff\">None</span>, <span style=\"color: #00af00; text-decoration-color: #00af00\">8192</span>)           │             <span style=\"color: #00af00; text-decoration-color: #00af00\">0</span> │\n",
       "├─────────────────────────────────┼────────────────────────┼───────────────┤\n",
       "│ dense_41 (<span style=\"color: #0087ff; text-decoration-color: #0087ff\">Dense</span>)                │ (<span style=\"color: #00d7ff; text-decoration-color: #00d7ff\">None</span>, <span style=\"color: #00af00; text-decoration-color: #00af00\">256</span>)            │     <span style=\"color: #00af00; text-decoration-color: #00af00\">2,097,408</span> │\n",
       "├─────────────────────────────────┼────────────────────────┼───────────────┤\n",
       "│ dense_42 (<span style=\"color: #0087ff; text-decoration-color: #0087ff\">Dense</span>)                │ (<span style=\"color: #00d7ff; text-decoration-color: #00d7ff\">None</span>, <span style=\"color: #00af00; text-decoration-color: #00af00\">64</span>)             │        <span style=\"color: #00af00; text-decoration-color: #00af00\">16,448</span> │\n",
       "├─────────────────────────────────┼────────────────────────┼───────────────┤\n",
       "│ dense_43 (<span style=\"color: #0087ff; text-decoration-color: #0087ff\">Dense</span>)                │ (<span style=\"color: #00d7ff; text-decoration-color: #00d7ff\">None</span>, <span style=\"color: #00af00; text-decoration-color: #00af00\">4</span>)              │           <span style=\"color: #00af00; text-decoration-color: #00af00\">260</span> │\n",
       "└─────────────────────────────────┴────────────────────────┴───────────────┘\n",
       "</pre>\n"
      ],
      "text/plain": [
       "┏━━━━━━━━━━━━━━━━━━━━━━━━━━━━━━━━━┳━━━━━━━━━━━━━━━━━━━━━━━━┳━━━━━━━━━━━━━━━┓\n",
       "┃\u001b[1m \u001b[0m\u001b[1mLayer (type)                   \u001b[0m\u001b[1m \u001b[0m┃\u001b[1m \u001b[0m\u001b[1mOutput Shape          \u001b[0m\u001b[1m \u001b[0m┃\u001b[1m \u001b[0m\u001b[1m      Param #\u001b[0m\u001b[1m \u001b[0m┃\n",
       "┡━━━━━━━━━━━━━━━━━━━━━━━━━━━━━━━━━╇━━━━━━━━━━━━━━━━━━━━━━━━╇━━━━━━━━━━━━━━━┩\n",
       "│ conv2d_185 (\u001b[38;5;33mConv2D\u001b[0m)             │ (\u001b[38;5;45mNone\u001b[0m, \u001b[38;5;34m128\u001b[0m, \u001b[38;5;34m128\u001b[0m, \u001b[38;5;34m64\u001b[0m)   │         \u001b[38;5;34m1,792\u001b[0m │\n",
       "├─────────────────────────────────┼────────────────────────┼───────────────┤\n",
       "│ conv2d_186 (\u001b[38;5;33mConv2D\u001b[0m)             │ (\u001b[38;5;45mNone\u001b[0m, \u001b[38;5;34m128\u001b[0m, \u001b[38;5;34m128\u001b[0m, \u001b[38;5;34m64\u001b[0m)   │        \u001b[38;5;34m36,928\u001b[0m │\n",
       "├─────────────────────────────────┼────────────────────────┼───────────────┤\n",
       "│ conv2d_187 (\u001b[38;5;33mConv2D\u001b[0m)             │ (\u001b[38;5;45mNone\u001b[0m, \u001b[38;5;34m128\u001b[0m, \u001b[38;5;34m128\u001b[0m, \u001b[38;5;34m64\u001b[0m)   │        \u001b[38;5;34m36,928\u001b[0m │\n",
       "├─────────────────────────────────┼────────────────────────┼───────────────┤\n",
       "│ max_pooling2d_68 (\u001b[38;5;33mMaxPooling2D\u001b[0m) │ (\u001b[38;5;45mNone\u001b[0m, \u001b[38;5;34m64\u001b[0m, \u001b[38;5;34m64\u001b[0m, \u001b[38;5;34m64\u001b[0m)     │             \u001b[38;5;34m0\u001b[0m │\n",
       "├─────────────────────────────────┼────────────────────────┼───────────────┤\n",
       "│ conv2d_188 (\u001b[38;5;33mConv2D\u001b[0m)             │ (\u001b[38;5;45mNone\u001b[0m, \u001b[38;5;34m64\u001b[0m, \u001b[38;5;34m64\u001b[0m, \u001b[38;5;34m128\u001b[0m)    │        \u001b[38;5;34m73,856\u001b[0m │\n",
       "├─────────────────────────────────┼────────────────────────┼───────────────┤\n",
       "│ conv2d_189 (\u001b[38;5;33mConv2D\u001b[0m)             │ (\u001b[38;5;45mNone\u001b[0m, \u001b[38;5;34m64\u001b[0m, \u001b[38;5;34m64\u001b[0m, \u001b[38;5;34m128\u001b[0m)    │       \u001b[38;5;34m147,584\u001b[0m │\n",
       "├─────────────────────────────────┼────────────────────────┼───────────────┤\n",
       "│ max_pooling2d_69 (\u001b[38;5;33mMaxPooling2D\u001b[0m) │ (\u001b[38;5;45mNone\u001b[0m, \u001b[38;5;34m32\u001b[0m, \u001b[38;5;34m32\u001b[0m, \u001b[38;5;34m128\u001b[0m)    │             \u001b[38;5;34m0\u001b[0m │\n",
       "├─────────────────────────────────┼────────────────────────┼───────────────┤\n",
       "│ conv2d_190 (\u001b[38;5;33mConv2D\u001b[0m)             │ (\u001b[38;5;45mNone\u001b[0m, \u001b[38;5;34m32\u001b[0m, \u001b[38;5;34m32\u001b[0m, \u001b[38;5;34m256\u001b[0m)    │       \u001b[38;5;34m295,168\u001b[0m │\n",
       "├─────────────────────────────────┼────────────────────────┼───────────────┤\n",
       "│ conv2d_191 (\u001b[38;5;33mConv2D\u001b[0m)             │ (\u001b[38;5;45mNone\u001b[0m, \u001b[38;5;34m32\u001b[0m, \u001b[38;5;34m32\u001b[0m, \u001b[38;5;34m256\u001b[0m)    │       \u001b[38;5;34m590,080\u001b[0m │\n",
       "├─────────────────────────────────┼────────────────────────┼───────────────┤\n",
       "│ conv2d_192 (\u001b[38;5;33mConv2D\u001b[0m)             │ (\u001b[38;5;45mNone\u001b[0m, \u001b[38;5;34m32\u001b[0m, \u001b[38;5;34m32\u001b[0m, \u001b[38;5;34m256\u001b[0m)    │       \u001b[38;5;34m590,080\u001b[0m │\n",
       "├─────────────────────────────────┼────────────────────────┼───────────────┤\n",
       "│ max_pooling2d_70 (\u001b[38;5;33mMaxPooling2D\u001b[0m) │ (\u001b[38;5;45mNone\u001b[0m, \u001b[38;5;34m16\u001b[0m, \u001b[38;5;34m16\u001b[0m, \u001b[38;5;34m256\u001b[0m)    │             \u001b[38;5;34m0\u001b[0m │\n",
       "├─────────────────────────────────┼────────────────────────┼───────────────┤\n",
       "│ conv2d_193 (\u001b[38;5;33mConv2D\u001b[0m)             │ (\u001b[38;5;45mNone\u001b[0m, \u001b[38;5;34m16\u001b[0m, \u001b[38;5;34m16\u001b[0m, \u001b[38;5;34m512\u001b[0m)    │     \u001b[38;5;34m1,180,160\u001b[0m │\n",
       "├─────────────────────────────────┼────────────────────────┼───────────────┤\n",
       "│ conv2d_194 (\u001b[38;5;33mConv2D\u001b[0m)             │ (\u001b[38;5;45mNone\u001b[0m, \u001b[38;5;34m16\u001b[0m, \u001b[38;5;34m16\u001b[0m, \u001b[38;5;34m512\u001b[0m)    │     \u001b[38;5;34m2,359,808\u001b[0m │\n",
       "├─────────────────────────────────┼────────────────────────┼───────────────┤\n",
       "│ conv2d_195 (\u001b[38;5;33mConv2D\u001b[0m)             │ (\u001b[38;5;45mNone\u001b[0m, \u001b[38;5;34m16\u001b[0m, \u001b[38;5;34m16\u001b[0m, \u001b[38;5;34m512\u001b[0m)    │     \u001b[38;5;34m2,359,808\u001b[0m │\n",
       "├─────────────────────────────────┼────────────────────────┼───────────────┤\n",
       "│ max_pooling2d_71 (\u001b[38;5;33mMaxPooling2D\u001b[0m) │ (\u001b[38;5;45mNone\u001b[0m, \u001b[38;5;34m8\u001b[0m, \u001b[38;5;34m8\u001b[0m, \u001b[38;5;34m512\u001b[0m)      │             \u001b[38;5;34m0\u001b[0m │\n",
       "├─────────────────────────────────┼────────────────────────┼───────────────┤\n",
       "│ conv2d_196 (\u001b[38;5;33mConv2D\u001b[0m)             │ (\u001b[38;5;45mNone\u001b[0m, \u001b[38;5;34m8\u001b[0m, \u001b[38;5;34m8\u001b[0m, \u001b[38;5;34m512\u001b[0m)      │     \u001b[38;5;34m2,359,808\u001b[0m │\n",
       "├─────────────────────────────────┼────────────────────────┼───────────────┤\n",
       "│ conv2d_197 (\u001b[38;5;33mConv2D\u001b[0m)             │ (\u001b[38;5;45mNone\u001b[0m, \u001b[38;5;34m8\u001b[0m, \u001b[38;5;34m8\u001b[0m, \u001b[38;5;34m512\u001b[0m)      │     \u001b[38;5;34m2,359,808\u001b[0m │\n",
       "├─────────────────────────────────┼────────────────────────┼───────────────┤\n",
       "│ conv2d_198 (\u001b[38;5;33mConv2D\u001b[0m)             │ (\u001b[38;5;45mNone\u001b[0m, \u001b[38;5;34m8\u001b[0m, \u001b[38;5;34m8\u001b[0m, \u001b[38;5;34m512\u001b[0m)      │     \u001b[38;5;34m2,359,808\u001b[0m │\n",
       "├─────────────────────────────────┼────────────────────────┼───────────────┤\n",
       "│ max_pooling2d_72 (\u001b[38;5;33mMaxPooling2D\u001b[0m) │ (\u001b[38;5;45mNone\u001b[0m, \u001b[38;5;34m4\u001b[0m, \u001b[38;5;34m4\u001b[0m, \u001b[38;5;34m512\u001b[0m)      │             \u001b[38;5;34m0\u001b[0m │\n",
       "├─────────────────────────────────┼────────────────────────┼───────────────┤\n",
       "│ flatten_14 (\u001b[38;5;33mFlatten\u001b[0m)            │ (\u001b[38;5;45mNone\u001b[0m, \u001b[38;5;34m8192\u001b[0m)           │             \u001b[38;5;34m0\u001b[0m │\n",
       "├─────────────────────────────────┼────────────────────────┼───────────────┤\n",
       "│ dense_41 (\u001b[38;5;33mDense\u001b[0m)                │ (\u001b[38;5;45mNone\u001b[0m, \u001b[38;5;34m256\u001b[0m)            │     \u001b[38;5;34m2,097,408\u001b[0m │\n",
       "├─────────────────────────────────┼────────────────────────┼───────────────┤\n",
       "│ dense_42 (\u001b[38;5;33mDense\u001b[0m)                │ (\u001b[38;5;45mNone\u001b[0m, \u001b[38;5;34m64\u001b[0m)             │        \u001b[38;5;34m16,448\u001b[0m │\n",
       "├─────────────────────────────────┼────────────────────────┼───────────────┤\n",
       "│ dense_43 (\u001b[38;5;33mDense\u001b[0m)                │ (\u001b[38;5;45mNone\u001b[0m, \u001b[38;5;34m4\u001b[0m)              │           \u001b[38;5;34m260\u001b[0m │\n",
       "└─────────────────────────────────┴────────────────────────┴───────────────┘\n"
      ]
     },
     "metadata": {},
     "output_type": "display_data"
    },
    {
     "data": {
      "text/html": [
       "<pre style=\"white-space:pre;overflow-x:auto;line-height:normal;font-family:Menlo,'DejaVu Sans Mono',consolas,'Courier New',monospace\"><span style=\"font-weight: bold\"> Total params: </span><span style=\"color: #00af00; text-decoration-color: #00af00\">50,597,198</span> (193.01 MB)\n",
       "</pre>\n"
      ],
      "text/plain": [
       "\u001b[1m Total params: \u001b[0m\u001b[38;5;34m50,597,198\u001b[0m (193.01 MB)\n"
      ]
     },
     "metadata": {},
     "output_type": "display_data"
    },
    {
     "data": {
      "text/html": [
       "<pre style=\"white-space:pre;overflow-x:auto;line-height:normal;font-family:Menlo,'DejaVu Sans Mono',consolas,'Courier New',monospace\"><span style=\"font-weight: bold\"> Trainable params: </span><span style=\"color: #00af00; text-decoration-color: #00af00\">16,865,732</span> (64.34 MB)\n",
       "</pre>\n"
      ],
      "text/plain": [
       "\u001b[1m Trainable params: \u001b[0m\u001b[38;5;34m16,865,732\u001b[0m (64.34 MB)\n"
      ]
     },
     "metadata": {},
     "output_type": "display_data"
    },
    {
     "data": {
      "text/html": [
       "<pre style=\"white-space:pre;overflow-x:auto;line-height:normal;font-family:Menlo,'DejaVu Sans Mono',consolas,'Courier New',monospace\"><span style=\"font-weight: bold\"> Non-trainable params: </span><span style=\"color: #00af00; text-decoration-color: #00af00\">0</span> (0.00 B)\n",
       "</pre>\n"
      ],
      "text/plain": [
       "\u001b[1m Non-trainable params: \u001b[0m\u001b[38;5;34m0\u001b[0m (0.00 B)\n"
      ]
     },
     "metadata": {},
     "output_type": "display_data"
    },
    {
     "data": {
      "text/html": [
       "<pre style=\"white-space:pre;overflow-x:auto;line-height:normal;font-family:Menlo,'DejaVu Sans Mono',consolas,'Courier New',monospace\"><span style=\"font-weight: bold\"> Optimizer params: </span><span style=\"color: #00af00; text-decoration-color: #00af00\">33,731,466</span> (128.68 MB)\n",
       "</pre>\n"
      ],
      "text/plain": [
       "\u001b[1m Optimizer params: \u001b[0m\u001b[38;5;34m33,731,466\u001b[0m (128.68 MB)\n"
      ]
     },
     "metadata": {},
     "output_type": "display_data"
    }
   ],
   "source": [
    "model1.summary()"
   ]
  },
  {
   "cell_type": "code",
   "execution_count": 41,
   "metadata": {},
   "outputs": [],
   "source": [
    "datagen=ImageDataGenerator(\n",
    "    rotation_range=0,\n",
    "    zoom_range=0,\n",
    "    width_shift_range=0,\n",
    "    height_shift_range=0,\n",
    "    horizontal_flip=False,\n",
    "    vertical_flip=False\n",
    ")"
   ]
  },
  {
   "cell_type": "code",
   "execution_count": 42,
   "metadata": {},
   "outputs": [],
   "source": [
    "datagen.fit(x_train)"
   ]
  },
  {
   "cell_type": "code",
   "execution_count": 44,
   "metadata": {},
   "outputs": [
    {
     "name": "stdout",
     "output_type": "stream",
     "text": [
      "Epoch 1/15\n"
     ]
    },
    {
     "name": "stderr",
     "output_type": "stream",
     "text": [
      "WARNING: All log messages before absl::InitializeLog() is called are written to STDERR\n",
      "I0000 00:00:1741984650.664021  106076 service.cc:146] XLA service 0x76ca18003c00 initialized for platform CUDA (this does not guarantee that XLA will be used). Devices:\n",
      "I0000 00:00:1741984650.665036  106076 service.cc:154]   StreamExecutor device (0): NVIDIA GeForce RTX 4060 Laptop GPU, Compute Capability 8.9\n",
      "2025-03-14 22:37:30.828047: I tensorflow/compiler/mlir/tensorflow/utils/dump_mlir_util.cc:268] disabling MLIR crash reproducer, set env var `MLIR_CRASH_REPRODUCER_DIRECTORY` to enable.\n",
      "2025-03-14 22:37:31.315927: I external/local_xla/xla/stream_executor/cuda/cuda_dnn.cc:531] Loaded cuDNN version 8907\n",
      "2025-03-14 22:37:32.292500: I external/local_xla/xla/stream_executor/cuda/cuda_asm_compiler.cc:393] ptxas warning : Registers are spilled to local memory in function 'gemm_fusion_dot_1698', 8 bytes spill stores, 8 bytes spill loads\n",
      "\n",
      "2025-03-14 22:37:32.428282: I external/local_xla/xla/stream_executor/cuda/cuda_asm_compiler.cc:393] ptxas warning : Registers are spilled to local memory in function 'gemm_fusion_dot_1698', 32 bytes spill stores, 32 bytes spill loads\n",
      "\n",
      "I0000 00:00:1741984662.555365  106076 device_compiler.h:188] Compiled cluster using XLA!  This line is logged at most once for the lifetime of the process.\n"
     ]
    },
    {
     "name": "stdout",
     "output_type": "stream",
     "text": [
      "\u001b[1m160/161\u001b[0m \u001b[32m━━━━━━━━━━━━━━━━━━━\u001b[0m\u001b[37m━\u001b[0m \u001b[1m0s\u001b[0m 120ms/step - accuracy: 0.2598 - loss: 1.3867"
     ]
    },
    {
     "name": "stderr",
     "output_type": "stream",
     "text": [
      "2025-03-14 22:38:02.737378: I external/local_xla/xla/stream_executor/cuda/cuda_asm_compiler.cc:393] ptxas warning : Registers are spilled to local memory in function 'gemm_fusion_dot_1698', 8 bytes spill stores, 8 bytes spill loads\n",
      "\n",
      "2025-03-14 22:38:03.033920: I external/local_xla/xla/stream_executor/cuda/cuda_asm_compiler.cc:393] ptxas warning : Registers are spilled to local memory in function 'gemm_fusion_dot_1698', 32 bytes spill stores, 32 bytes spill loads\n",
      "\n"
     ]
    },
    {
     "name": "stdout",
     "output_type": "stream",
     "text": [
      "\u001b[1m161/161\u001b[0m \u001b[32m━━━━━━━━━━━━━━━━━━━━\u001b[0m\u001b[37m\u001b[0m \u001b[1m57s\u001b[0m 249ms/step - accuracy: 0.2599 - loss: 1.3867 - val_accuracy: 0.2762 - val_loss: 1.3848\n",
      "Epoch 2/15\n",
      "\u001b[1m161/161\u001b[0m \u001b[32m━━━━━━━━━━━━━━━━━━━━\u001b[0m\u001b[37m\u001b[0m \u001b[1m20s\u001b[0m 125ms/step - accuracy: 0.2776 - loss: 1.3570 - val_accuracy: 0.2762 - val_loss: 1.3851\n",
      "Epoch 3/15\n",
      "\u001b[1m161/161\u001b[0m \u001b[32m━━━━━━━━━━━━━━━━━━━━\u001b[0m\u001b[37m\u001b[0m \u001b[1m23s\u001b[0m 140ms/step - accuracy: 0.3033 - loss: 1.3227 - val_accuracy: 0.3899 - val_loss: 1.1894\n",
      "Epoch 4/15\n",
      "\u001b[1m161/161\u001b[0m \u001b[32m━━━━━━━━━━━━━━━━━━━━\u001b[0m\u001b[37m\u001b[0m \u001b[1m21s\u001b[0m 131ms/step - accuracy: 0.5035 - loss: 1.0259 - val_accuracy: 0.6923 - val_loss: 0.7732\n",
      "Epoch 5/15\n",
      "\u001b[1m161/161\u001b[0m \u001b[32m━━━━━━━━━━━━━━━━━━━━\u001b[0m\u001b[37m\u001b[0m \u001b[1m22s\u001b[0m 134ms/step - accuracy: 0.7176 - loss: 0.6946 - val_accuracy: 0.7920 - val_loss: 0.5093\n",
      "Epoch 6/15\n",
      "\u001b[1m161/161\u001b[0m \u001b[32m━━━━━━━━━━━━━━━━━━━━\u001b[0m\u001b[37m\u001b[0m \u001b[1m22s\u001b[0m 137ms/step - accuracy: 0.8065 - loss: 0.4857 - val_accuracy: 0.8182 - val_loss: 0.4947\n",
      "Epoch 7/15\n",
      "\u001b[1m161/161\u001b[0m \u001b[32m━━━━━━━━━━━━━━━━━━━━\u001b[0m\u001b[37m\u001b[0m \u001b[1m24s\u001b[0m 150ms/step - accuracy: 0.8489 - loss: 0.3989 - val_accuracy: 0.8479 - val_loss: 0.4319\n",
      "Epoch 8/15\n",
      "\u001b[1m161/161\u001b[0m \u001b[32m━━━━━━━━━━━━━━━━━━━━\u001b[0m\u001b[37m\u001b[0m \u001b[1m22s\u001b[0m 139ms/step - accuracy: 0.8578 - loss: 0.3599 - val_accuracy: 0.8794 - val_loss: 0.3732\n",
      "Epoch 9/15\n",
      "\u001b[1m161/161\u001b[0m \u001b[32m━━━━━━━━━━━━━━━━━━━━\u001b[0m\u001b[37m\u001b[0m \u001b[1m22s\u001b[0m 139ms/step - accuracy: 0.9010 - loss: 0.2672 - val_accuracy: 0.8794 - val_loss: 0.3781\n",
      "Epoch 10/15\n",
      "\u001b[1m161/161\u001b[0m \u001b[32m━━━━━━━━━━━━━━━━━━━━\u001b[0m\u001b[37m\u001b[0m \u001b[1m23s\u001b[0m 140ms/step - accuracy: 0.9045 - loss: 0.2514 - val_accuracy: 0.8654 - val_loss: 0.3902\n",
      "Epoch 11/15\n",
      "\u001b[1m161/161\u001b[0m \u001b[32m━━━━━━━━━━━━━━━━━━━━\u001b[0m\u001b[37m\u001b[0m \u001b[1m25s\u001b[0m 157ms/step - accuracy: 0.9238 - loss: 0.2195 - val_accuracy: 0.8776 - val_loss: 0.3552\n",
      "Epoch 12/15\n",
      "\u001b[1m161/161\u001b[0m \u001b[32m━━━━━━━━━━━━━━━━━━━━\u001b[0m\u001b[37m\u001b[0m \u001b[1m23s\u001b[0m 140ms/step - accuracy: 0.9332 - loss: 0.1939 - val_accuracy: 0.9231 - val_loss: 0.2792\n",
      "Epoch 13/15\n",
      "\u001b[1m161/161\u001b[0m \u001b[32m━━━━━━━━━━━━━━━━━━━━\u001b[0m\u001b[37m\u001b[0m \u001b[1m23s\u001b[0m 141ms/step - accuracy: 0.9424 - loss: 0.1498 - val_accuracy: 0.9196 - val_loss: 0.2614\n",
      "Epoch 14/15\n",
      "\u001b[1m161/161\u001b[0m \u001b[32m━━━━━━━━━━━━━━━━━━━━\u001b[0m\u001b[37m\u001b[0m \u001b[1m23s\u001b[0m 141ms/step - accuracy: 0.9536 - loss: 0.1225 - val_accuracy: 0.9038 - val_loss: 0.3097\n",
      "Epoch 15/15\n",
      "\u001b[1m161/161\u001b[0m \u001b[32m━━━━━━━━━━━━━━━━━━━━\u001b[0m\u001b[37m\u001b[0m \u001b[1m25s\u001b[0m 154ms/step - accuracy: 0.9534 - loss: 0.1228 - val_accuracy: 0.9178 - val_loss: 0.2725\n"
     ]
    }
   ],
   "source": [
    "history=model1.fit(\n",
    "    x_train,y_train,\n",
    "    validation_data=(x_test,y_test),\n",
    "    epochs=15,\n",
    "    verbose=1,\n",
    "    # class_weight=class_weights\n",
    ")"
   ]
  },
  {
   "cell_type": "code",
   "execution_count": 46,
   "metadata": {},
   "outputs": [
    {
     "name": "stdout",
     "output_type": "stream",
     "text": [
      "\u001b[1m41/41\u001b[0m \u001b[32m━━━━━━━━━━━━━━━━━━━━\u001b[0m\u001b[37m\u001b[0m \u001b[1m5s\u001b[0m 101ms/step\n"
     ]
    }
   ],
   "source": [
    "preds=model1.predict(imgstesting)\n",
    "pred_class=np.argmax(preds,axis=1)\n",
    "y_true=np.argmax(labelstesting,axis=1)\n",
    "mat=confusion_matrix(y_true,pred_class)\n",
    "mat2=np.zeros((num_classes,num_classes),)\n",
    "for i in range(num_classes):\n",
    "    sm=sum(mat[i])\n",
    "    for j in range(num_classes):\n",
    "        x=mat[i][j]/sm\n",
    "        mat2[i][j]=x"
   ]
  },
  {
   "cell_type": "code",
   "execution_count": 47,
   "metadata": {},
   "outputs": [],
   "source": [
    "mat2_arr=np.array(mat2)\n",
    "labels=classes"
   ]
  },
  {
   "cell_type": "code",
   "execution_count": 48,
   "metadata": {},
   "outputs": [],
   "source": [
    "conf_mat_test=pd.DataFrame(data=mat2_arr,columns=labels,index=labels)"
   ]
  },
  {
   "cell_type": "code",
   "execution_count": 49,
   "metadata": {},
   "outputs": [
    {
     "data": {
      "text/plain": [
       "<Axes: >"
      ]
     },
     "execution_count": 49,
     "metadata": {},
     "output_type": "execute_result"
    },
    {
     "data": {
      "image/png": "[encoded data removed]",
      "text/plain": [
       "<Figure size 400x400 with 2 Axes>"
      ]
     },
     "metadata": {},
     "output_type": "display_data"
    }
   ],
   "source": [
    "fig,ax=plt.subplots(figsize=(num_classes,num_classes))\n",
    "sns.heatmap(conf_mat_test,annot=True,linewidths=.5,ax=ax,fmt=\".2%\")"
   ]
  },
  {
   "cell_type": "code",
   "execution_count": 51,
   "metadata": {},
   "outputs": [
    {
     "data": {
      "image/png": "[encoded data removed]",
      "text/plain": [
       "<Figure size 640x480 with 2 Axes>"
      ]
     },
     "metadata": {},
     "output_type": "display_data"
    }
   ],
   "source": [
    "fig, ax = plt.subplots(2,1)\n",
    "ax[0].plot(history.history['loss'], color='b', label=\"Training loss\")\n",
    "ax[0].plot(history.history['val_loss'], color='r', label=\"Validation loss\")\n",
    "legend = ax[0].legend(loc='best', shadow=True)\n",
    "\n",
    "ax[1].plot(history.history['accuracy'], color='b', label=\"Training accuracy\")\n",
    "ax[1].plot(history.history['val_accuracy'], color='r',label=\"Validation accuracy\")\n",
    "legend = ax[1].legend(loc='best', shadow=True)"
   ]
  },
  {
   "cell_type": "code",
   "execution_count": 4,
   "metadata": {},
   "outputs": [],
   "source": [
    "#using efficientdet for tumor detection\n",
    "os.getcwd()\n",
    "model_directory='efficientdet_d0_coco17_tpu-32/efficientdet_d0_coco17_tpu-32/saved_model'"
   ]
  },
  {
   "cell_type": "code",
   "execution_count": 5,
   "metadata": {},
   "outputs": [
    {
     "name": "stderr",
     "output_type": "stream",
     "text": [
      "WARNING: All log messages before absl::InitializeLog() is called are written to STDERR\n",
      "I0000 00:00:1742032894.488704    1424 cuda_executor.cc:1001] could not open file to read NUMA node: /sys/bus/pci/devices/0000:01:00.0/numa_node\n",
      "Your kernel may have been built without NUMA support.\n",
      "I0000 00:00:1742032894.770229    1424 cuda_executor.cc:1001] could not open file to read NUMA node: /sys/bus/pci/devices/0000:01:00.0/numa_node\n",
      "Your kernel may have been built without NUMA support.\n",
      "I0000 00:00:1742032894.770389    1424 cuda_executor.cc:1001] could not open file to read NUMA node: /sys/bus/pci/devices/0000:01:00.0/numa_node\n",
      "Your kernel may have been built without NUMA support.\n",
      "I0000 00:00:1742032894.777587    1424 cuda_executor.cc:1001] could not open file to read NUMA node: /sys/bus/pci/devices/0000:01:00.0/numa_node\n",
      "Your kernel may have been built without NUMA support.\n",
      "I0000 00:00:1742032894.777815    1424 cuda_executor.cc:1001] could not open file to read NUMA node: /sys/bus/pci/devices/0000:01:00.0/numa_node\n",
      "Your kernel may have been built without NUMA support.\n",
      "I0000 00:00:1742032894.777882    1424 cuda_executor.cc:1001] could not open file to read NUMA node: /sys/bus/pci/devices/0000:01:00.0/numa_node\n",
      "Your kernel may have been built without NUMA support.\n",
      "I0000 00:00:1742032895.038322    1424 cuda_executor.cc:1001] could not open file to read NUMA node: /sys/bus/pci/devices/0000:01:00.0/numa_node\n",
      "Your kernel may have been built without NUMA support.\n",
      "I0000 00:00:1742032895.038586    1424 cuda_executor.cc:1001] could not open file to read NUMA node: /sys/bus/pci/devices/0000:01:00.0/numa_node\n",
      "Your kernel may have been built without NUMA support.\n",
      "2025-03-15 12:01:35.038890: I tensorflow/core/common_runtime/gpu/gpu_device.cc:2112] Could not identify NUMA node of platform GPU id 0, defaulting to 0.  Your kernel may not have been built with NUMA support.\n",
      "I0000 00:00:1742032895.039139    1424 cuda_executor.cc:1001] could not open file to read NUMA node: /sys/bus/pci/devices/0000:01:00.0/numa_node\n",
      "Your kernel may have been built without NUMA support.\n",
      "2025-03-15 12:01:35.040190: I tensorflow/core/common_runtime/gpu/gpu_device.cc:2021] Created device /job:localhost/replica:0/task:0/device:GPU:0 with 5563 MB memory:  -> device: 0, name: NVIDIA GeForce RTX 4060 Laptop GPU, pci bus id: 0000:01:00.0, compute capability: 8.9\n",
      "WARNING:absl:Importing a function (__inference___call___32344) with ops with unsaved custom gradients. Will likely fail if a gradient is requested.\n",
      "WARNING:absl:Importing a function (__inference_EfficientDet-D0_layer_call_and_return_conditional_losses_97451) with ops with unsaved custom gradients. Will likely fail if a gradient is requested.\n",
      "WARNING:absl:Importing a function (__inference_bifpn_layer_call_and_return_conditional_losses_77595) with ops with unsaved custom gradients. Will likely fail if a gradient is requested.\n",
      "WARNING:absl:Importing a function (__inference_EfficientDet-D0_layer_call_and_return_conditional_losses_103456) with ops with unsaved custom gradients. Will likely fail if a gradient is requested.\n",
      "WARNING:absl:Importing a function (__inference_EfficientDet-D0_layer_call_and_return_conditional_losses_93843) with ops with unsaved custom gradients. Will likely fail if a gradient is requested.\n",
      "WARNING:absl:Importing a function (__inference_EfficientDet-D0_layer_call_and_return_conditional_losses_107064) with ops with unsaved custom gradients. Will likely fail if a gradient is requested.\n",
      "WARNING:absl:Importing a function (__inference_bifpn_layer_call_and_return_conditional_losses_75975) with ops with unsaved custom gradients. Will likely fail if a gradient is requested.\n"
     ]
    },
    {
     "name": "stdout",
     "output_type": "stream",
     "text": [
      "Model loaded successfully from: efficientdet_d0_coco17_tpu-32/efficientdet_d0_coco17_tpu-32/saved_model\n"
     ]
    }
   ],
   "source": [
    "try:\n",
    "    efficientdet=tf.saved_model.load(model_directory)\n",
    "    print(f\"Model loaded successfully from: {model_directory}\")\n",
    "except Exception as e:\n",
    "    print(e)\n",
    "    "
   ]
  },
  {
   "cell_type": "code",
   "execution_count": 9,
   "metadata": {},
   "outputs": [],
   "source": [
    "from tensorflow.keras.applications import EfficientNetB0"
   ]
  },
  {
   "cell_type": "code",
   "execution_count": null,
   "metadata": {},
   "outputs": [],
   "source": [
    "root='~/repos/itfest2025'\n",
    "print()\n",
    "img_path=\"archive/Training\"\n",
    "datagen=ImageDataGenerator(rescale=1./255)\n",
    "traingenerator=datagen.flow_from_directory(directory=img_path,target_size=(64,64),batch_size=1000,class_mode='categorical')\n",
    "imgs,labels=next(traingenerator)"
   ]
  },
  {
   "cell_type": "code",
   "execution_count": 10,
   "metadata": {},
   "outputs": [],
   "source": [
    "policy = tf.keras.mixed_precision.Policy('mixed_float16')\n",
    "tf.keras.mixed_precision.set_global_policy(policy)"
   ]
  },
  {
   "cell_type": "code",
   "execution_count": 12,
   "metadata": {},
   "outputs": [],
   "source": [
    "efficientnet=EfficientNetB0(weights=None,include_top=False,input_shape=(64,64,3))"
   ]
  },
  {
   "cell_type": "code",
   "execution_count": 13,
   "metadata": {},
   "outputs": [],
   "source": [
    "efficientnetmodel0=tf.keras.Sequential([\n",
    "    efficientnet,\n",
    "    GlobalAveragePooling2D(),\n",
    "    Dense(128,activation='relu'),\n",
    "    Dense(num_classes,dtype='float32',activation='softmax')\n",
    "])"
   ]
  },
  {
   "cell_type": "code",
   "execution_count": 14,
   "metadata": {},
   "outputs": [
    {
     "data": {
      "text/html": [
       "<pre style=\"white-space:pre;overflow-x:auto;line-height:normal;font-family:Menlo,'DejaVu Sans Mono',consolas,'Courier New',monospace\"><span style=\"font-weight: bold\">Model: \"sequential\"</span>\n",
       "</pre>\n"
      ],
      "text/plain": [
       "\u001b[1mModel: \"sequential\"\u001b[0m\n"
      ]
     },
     "metadata": {},
     "output_type": "display_data"
    },
    {
     "data": {
      "text/html": [
       "<pre style=\"white-space:pre;overflow-x:auto;line-height:normal;font-family:Menlo,'DejaVu Sans Mono',consolas,'Courier New',monospace\">┏━━━━━━━━━━━━━━━━━━━━━━━━━━━━━━━━━┳━━━━━━━━━━━━━━━━━━━━━━━━┳━━━━━━━━━━━━━━━┓\n",
       "┃<span style=\"font-weight: bold\"> Layer (type)                    </span>┃<span style=\"font-weight: bold\"> Output Shape           </span>┃<span style=\"font-weight: bold\">       Param # </span>┃\n",
       "┡━━━━━━━━━━━━━━━━━━━━━━━━━━━━━━━━━╇━━━━━━━━━━━━━━━━━━━━━━━━╇━━━━━━━━━━━━━━━┩\n",
       "│ efficientnetb0 (<span style=\"color: #0087ff; text-decoration-color: #0087ff\">Functional</span>)     │ (<span style=\"color: #00d7ff; text-decoration-color: #00d7ff\">None</span>, <span style=\"color: #00af00; text-decoration-color: #00af00\">2</span>, <span style=\"color: #00af00; text-decoration-color: #00af00\">2</span>, <span style=\"color: #00af00; text-decoration-color: #00af00\">1280</span>)     │     <span style=\"color: #00af00; text-decoration-color: #00af00\">4,049,571</span> │\n",
       "├─────────────────────────────────┼────────────────────────┼───────────────┤\n",
       "│ global_average_pooling2d        │ (<span style=\"color: #00d7ff; text-decoration-color: #00d7ff\">None</span>, <span style=\"color: #00af00; text-decoration-color: #00af00\">1280</span>)           │             <span style=\"color: #00af00; text-decoration-color: #00af00\">0</span> │\n",
       "│ (<span style=\"color: #0087ff; text-decoration-color: #0087ff\">GlobalAveragePooling2D</span>)        │                        │               │\n",
       "├─────────────────────────────────┼────────────────────────┼───────────────┤\n",
       "│ dense (<span style=\"color: #0087ff; text-decoration-color: #0087ff\">Dense</span>)                   │ (<span style=\"color: #00d7ff; text-decoration-color: #00d7ff\">None</span>, <span style=\"color: #00af00; text-decoration-color: #00af00\">128</span>)            │       <span style=\"color: #00af00; text-decoration-color: #00af00\">163,968</span> │\n",
       "├─────────────────────────────────┼────────────────────────┼───────────────┤\n",
       "│ dense_1 (<span style=\"color: #0087ff; text-decoration-color: #0087ff\">Dense</span>)                 │ (<span style=\"color: #00d7ff; text-decoration-color: #00d7ff\">None</span>, <span style=\"color: #00af00; text-decoration-color: #00af00\">4</span>)              │           <span style=\"color: #00af00; text-decoration-color: #00af00\">516</span> │\n",
       "└─────────────────────────────────┴────────────────────────┴───────────────┘\n",
       "</pre>\n"
      ],
      "text/plain": [
       "┏━━━━━━━━━━━━━━━━━━━━━━━━━━━━━━━━━┳━━━━━━━━━━━━━━━━━━━━━━━━┳━━━━━━━━━━━━━━━┓\n",
       "┃\u001b[1m \u001b[0m\u001b[1mLayer (type)                   \u001b[0m\u001b[1m \u001b[0m┃\u001b[1m \u001b[0m\u001b[1mOutput Shape          \u001b[0m\u001b[1m \u001b[0m┃\u001b[1m \u001b[0m\u001b[1m      Param #\u001b[0m\u001b[1m \u001b[0m┃\n",
       "┡━━━━━━━━━━━━━━━━━━━━━━━━━━━━━━━━━╇━━━━━━━━━━━━━━━━━━━━━━━━╇━━━━━━━━━━━━━━━┩\n",
       "│ efficientnetb0 (\u001b[38;5;33mFunctional\u001b[0m)     │ (\u001b[38;5;45mNone\u001b[0m, \u001b[38;5;34m2\u001b[0m, \u001b[38;5;34m2\u001b[0m, \u001b[38;5;34m1280\u001b[0m)     │     \u001b[38;5;34m4,049,571\u001b[0m │\n",
       "├─────────────────────────────────┼────────────────────────┼───────────────┤\n",
       "│ global_average_pooling2d        │ (\u001b[38;5;45mNone\u001b[0m, \u001b[38;5;34m1280\u001b[0m)           │             \u001b[38;5;34m0\u001b[0m │\n",
       "│ (\u001b[38;5;33mGlobalAveragePooling2D\u001b[0m)        │                        │               │\n",
       "├─────────────────────────────────┼────────────────────────┼───────────────┤\n",
       "│ dense (\u001b[38;5;33mDense\u001b[0m)                   │ (\u001b[38;5;45mNone\u001b[0m, \u001b[38;5;34m128\u001b[0m)            │       \u001b[38;5;34m163,968\u001b[0m │\n",
       "├─────────────────────────────────┼────────────────────────┼───────────────┤\n",
       "│ dense_1 (\u001b[38;5;33mDense\u001b[0m)                 │ (\u001b[38;5;45mNone\u001b[0m, \u001b[38;5;34m4\u001b[0m)              │           \u001b[38;5;34m516\u001b[0m │\n",
       "└─────────────────────────────────┴────────────────────────┴───────────────┘\n"
      ]
     },
     "metadata": {},
     "output_type": "display_data"
    },
    {
     "data": {
      "text/html": [
       "<pre style=\"white-space:pre;overflow-x:auto;line-height:normal;font-family:Menlo,'DejaVu Sans Mono',consolas,'Courier New',monospace\"><span style=\"font-weight: bold\"> Total params: </span><span style=\"color: #00af00; text-decoration-color: #00af00\">4,214,055</span> (16.08 MB)\n",
       "</pre>\n"
      ],
      "text/plain": [
       "\u001b[1m Total params: \u001b[0m\u001b[38;5;34m4,214,055\u001b[0m (16.08 MB)\n"
      ]
     },
     "metadata": {},
     "output_type": "display_data"
    },
    {
     "data": {
      "text/html": [
       "<pre style=\"white-space:pre;overflow-x:auto;line-height:normal;font-family:Menlo,'DejaVu Sans Mono',consolas,'Courier New',monospace\"><span style=\"font-weight: bold\"> Trainable params: </span><span style=\"color: #00af00; text-decoration-color: #00af00\">4,172,032</span> (15.92 MB)\n",
       "</pre>\n"
      ],
      "text/plain": [
       "\u001b[1m Trainable params: \u001b[0m\u001b[38;5;34m4,172,032\u001b[0m (15.92 MB)\n"
      ]
     },
     "metadata": {},
     "output_type": "display_data"
    },
    {
     "data": {
      "text/html": [
       "<pre style=\"white-space:pre;overflow-x:auto;line-height:normal;font-family:Menlo,'DejaVu Sans Mono',consolas,'Courier New',monospace\"><span style=\"font-weight: bold\"> Non-trainable params: </span><span style=\"color: #00af00; text-decoration-color: #00af00\">42,023</span> (164.16 KB)\n",
       "</pre>\n"
      ],
      "text/plain": [
       "\u001b[1m Non-trainable params: \u001b[0m\u001b[38;5;34m42,023\u001b[0m (164.16 KB)\n"
      ]
     },
     "metadata": {},
     "output_type": "display_data"
    }
   ],
   "source": [
    "efficientnetmodel0.summary()"
   ]
  },
  {
   "cell_type": "code",
   "execution_count": 15,
   "metadata": {},
   "outputs": [],
   "source": [
    "efficientnetmodel0.compile(optimizer='adam',loss='categorical_crossentropy',metrics=['accuracy'])\n"
   ]
  },
  {
   "cell_type": "code",
   "execution_count": 18,
   "metadata": {},
   "outputs": [
    {
     "name": "stderr",
     "output_type": "stream",
     "text": [
      "/home/razvan/miniconda3/envs/tf2/lib/python3.11/site-packages/keras/src/trainers/data_adapters/py_dataset_adapter.py:121: UserWarning: Your `PyDataset` class should call `super().__init__(**kwargs)` in its constructor. `**kwargs` can include `workers`, `use_multiprocessing`, `max_queue_size`. Do not pass these arguments to `fit()`, as they will be ignored.\n",
      "  self._warn_if_super_not_called()\n"
     ]
    },
    {
     "name": "stdout",
     "output_type": "stream",
     "text": [
      "Epoch 1/15\n"
     ]
    },
    {
     "name": "stderr",
     "output_type": "stream",
     "text": [
      "WARNING: All log messages before absl::InitializeLog() is called are written to STDERR\n",
      "I0000 00:00:1742037248.407931   32875 service.cc:146] XLA service 0x7428100153d0 initialized for platform CUDA (this does not guarantee that XLA will be used). Devices:\n",
      "I0000 00:00:1742037248.408042   32875 service.cc:154]   StreamExecutor device (0): NVIDIA GeForce RTX 4060 Laptop GPU, Compute Capability 8.9\n",
      "2025-03-15 13:14:09.439362: I tensorflow/compiler/mlir/tensorflow/utils/dump_mlir_util.cc:268] disabling MLIR crash reproducer, set env var `MLIR_CRASH_REPRODUCER_DIRECTORY` to enable.\n",
      "2025-03-15 13:14:13.832498: I external/local_xla/xla/stream_executor/cuda/cuda_dnn.cc:531] Loaded cuDNN version 8907\n",
      "2025-03-15 13:14:41.842033: E external/local_xla/xla/service/slow_operation_alarm.cc:65] Trying algorithm eng0{} for conv (f16[96,1,1,16]{3,2,1,0}, u8[0]{0}) custom-call(f16[1000,64,64,16]{3,2,1,0}, f16[1000,64,64,96]{3,2,1,0}), window={size=1x1}, dim_labels=b01f_o01i->b01f, custom_call_target=\"__cudnn$convBackwardFilter\", backend_config={\"operation_queue_id\":\"0\",\"wait_on_operation_queues\":[],\"cudnn_conv_backend_config\":{\"conv_result_scale\":1,\"activation_mode\":\"kNone\",\"side_input_scale\":0,\"leakyrelu_alpha\":0},\"force_earliest_schedule\":false} is taking a while...\n",
      "2025-03-15 13:14:44.389548: E external/local_xla/xla/service/slow_operation_alarm.cc:133] The operation took 3.547608244s\n",
      "Trying algorithm eng0{} for conv (f16[96,1,1,16]{3,2,1,0}, u8[0]{0}) custom-call(f16[1000,64,64,16]{3,2,1,0}, f16[1000,64,64,96]{3,2,1,0}), window={size=1x1}, dim_labels=b01f_o01i->b01f, custom_call_target=\"__cudnn$convBackwardFilter\", backend_config={\"operation_queue_id\":\"0\",\"wait_on_operation_queues\":[],\"cudnn_conv_backend_config\":{\"conv_result_scale\":1,\"activation_mode\":\"kNone\",\"side_input_scale\":0,\"leakyrelu_alpha\":0},\"force_earliest_schedule\":false} is taking a while...\n",
      "2025-03-15 13:14:50.676094: E external/local_xla/xla/service/slow_operation_alarm.cc:65] Trying algorithm eng0{} for conv (f16[144,3,3,1]{3,2,1,0}, u8[0]{0}) custom-call(f16[1000,32,32,144]{3,2,1,0}, f16[1000,32,32,144]{3,2,1,0}), window={size=3x3 pad=1_1x1_1}, dim_labels=b01f_o01i->b01f, feature_group_count=144, custom_call_target=\"__cudnn$convBackwardFilter\", backend_config={\"operation_queue_id\":\"0\",\"wait_on_operation_queues\":[],\"cudnn_conv_backend_config\":{\"conv_result_scale\":1,\"activation_mode\":\"kNone\",\"side_input_scale\":0,\"leakyrelu_alpha\":0},\"force_earliest_schedule\":false} is taking a while...\n",
      "2025-03-15 13:14:50.686543: E external/local_xla/xla/service/slow_operation_alarm.cc:133] The operation took 1.01074966s\n",
      "Trying algorithm eng0{} for conv (f16[144,3,3,1]{3,2,1,0}, u8[0]{0}) custom-call(f16[1000,32,32,144]{3,2,1,0}, f16[1000,32,32,144]{3,2,1,0}), window={size=3x3 pad=1_1x1_1}, dim_labels=b01f_o01i->b01f, feature_group_count=144, custom_call_target=\"__cudnn$convBackwardFilter\", backend_config={\"operation_queue_id\":\"0\",\"wait_on_operation_queues\":[],\"cudnn_conv_backend_config\":{\"conv_result_scale\":1,\"activation_mode\":\"kNone\",\"side_input_scale\":0,\"leakyrelu_alpha\":0},\"force_earliest_schedule\":false} is taking a while...\n",
      "2025-03-15 13:14:53.186873: E external/local_xla/xla/service/slow_operation_alarm.cc:65] Trying algorithm eng19{} for conv (f16[24,1,1,144]{3,2,1,0}, u8[0]{0}) custom-call(f16[1000,32,32,144]{3,2,1,0}, f16[1000,32,32,24]{3,2,1,0}), window={size=1x1}, dim_labels=b01f_o01i->b01f, custom_call_target=\"__cudnn$convBackwardFilter\", backend_config={\"operation_queue_id\":\"0\",\"wait_on_operation_queues\":[],\"cudnn_conv_backend_config\":{\"conv_result_scale\":1,\"activation_mode\":\"kNone\",\"side_input_scale\":0,\"leakyrelu_alpha\":0},\"force_earliest_schedule\":false} is taking a while...\n",
      "2025-03-15 13:14:53.935458: E external/local_xla/xla/service/slow_operation_alarm.cc:133] The operation took 1.748690373s\n",
      "Trying algorithm eng19{} for conv (f16[24,1,1,144]{3,2,1,0}, u8[0]{0}) custom-call(f16[1000,32,32,144]{3,2,1,0}, f16[1000,32,32,24]{3,2,1,0}), window={size=1x1}, dim_labels=b01f_o01i->b01f, custom_call_target=\"__cudnn$convBackwardFilter\", backend_config={\"operation_queue_id\":\"0\",\"wait_on_operation_queues\":[],\"cudnn_conv_backend_config\":{\"conv_result_scale\":1,\"activation_mode\":\"kNone\",\"side_input_scale\":0,\"leakyrelu_alpha\":0},\"force_earliest_schedule\":false} is taking a while...\n",
      "2025-03-15 13:14:57.790851: E external/local_xla/xla/service/slow_operation_alarm.cc:65] Trying algorithm eng19{} for conv (f16[40,1,1,240]{3,2,1,0}, u8[0]{0}) custom-call(f16[1000,16,16,240]{3,2,1,0}, f16[1000,16,16,40]{3,2,1,0}), window={size=1x1}, dim_labels=b01f_o01i->b01f, custom_call_target=\"__cudnn$convBackwardFilter\", backend_config={\"operation_queue_id\":\"0\",\"wait_on_operation_queues\":[],\"cudnn_conv_backend_config\":{\"conv_result_scale\":1,\"activation_mode\":\"kNone\",\"side_input_scale\":0,\"leakyrelu_alpha\":0},\"force_earliest_schedule\":false} is taking a while...\n",
      "2025-03-15 13:14:58.852552: E external/local_xla/xla/service/slow_operation_alarm.cc:133] The operation took 2.06188779s\n",
      "Trying algorithm eng19{} for conv (f16[40,1,1,240]{3,2,1,0}, u8[0]{0}) custom-call(f16[1000,16,16,240]{3,2,1,0}, f16[1000,16,16,40]{3,2,1,0}), window={size=1x1}, dim_labels=b01f_o01i->b01f, custom_call_target=\"__cudnn$convBackwardFilter\", backend_config={\"operation_queue_id\":\"0\",\"wait_on_operation_queues\":[],\"cudnn_conv_backend_config\":{\"conv_result_scale\":1,\"activation_mode\":\"kNone\",\"side_input_scale\":0,\"leakyrelu_alpha\":0},\"force_earliest_schedule\":false} is taking a while...\n",
      "2025-03-15 13:15:01.544750: E external/local_xla/xla/service/slow_operation_alarm.cc:65] Trying algorithm eng0{} for conv (f16[112,1,1,480]{3,2,1,0}, u8[0]{0}) custom-call(f16[1000,8,8,480]{3,2,1,0}, f16[1000,8,8,112]{3,2,1,0}), window={size=1x1}, dim_labels=b01f_o01i->b01f, custom_call_target=\"__cudnn$convBackwardFilter\", backend_config={\"operation_queue_id\":\"0\",\"wait_on_operation_queues\":[],\"cudnn_conv_backend_config\":{\"conv_result_scale\":1,\"activation_mode\":\"kNone\",\"side_input_scale\":0,\"leakyrelu_alpha\":0},\"force_earliest_schedule\":false} is taking a while...\n",
      "2025-03-15 13:15:01.667812: E external/local_xla/xla/service/slow_operation_alarm.cc:133] The operation took 1.123234265s\n",
      "Trying algorithm eng0{} for conv (f16[112,1,1,480]{3,2,1,0}, u8[0]{0}) custom-call(f16[1000,8,8,480]{3,2,1,0}, f16[1000,8,8,112]{3,2,1,0}), window={size=1x1}, dim_labels=b01f_o01i->b01f, custom_call_target=\"__cudnn$convBackwardFilter\", backend_config={\"operation_queue_id\":\"0\",\"wait_on_operation_queues\":[],\"cudnn_conv_backend_config\":{\"conv_result_scale\":1,\"activation_mode\":\"kNone\",\"side_input_scale\":0,\"leakyrelu_alpha\":0},\"force_earliest_schedule\":false} is taking a while...\n",
      "2025-03-15 13:15:09.019829: E external/local_xla/xla/service/slow_operation_alarm.cc:65] Trying algorithm eng22{k2=16,k13=0,k14=3,k18=0,k23=0} for conv (f16[1,5,5,1152]{3,2,1,0}, u8[0]{0}) custom-call(f16[1,4,4,1152000]{3,2,1,0}, f16[1152,4,4,1000]{3,2,1,0}), window={size=4x4 pad=2_2x2_2}, dim_labels=b01f_o01i->b01f, feature_group_count=1152, custom_call_target=\"__cudnn$convForward\", backend_config={\"operation_queue_id\":\"0\",\"wait_on_operation_queues\":[],\"cudnn_conv_backend_config\":{\"conv_result_scale\":1,\"activation_mode\":\"kNone\",\"side_input_scale\":0,\"leakyrelu_alpha\":0},\"force_earliest_schedule\":false} is taking a while...\n",
      "2025-03-15 13:15:09.331408: E external/local_xla/xla/service/slow_operation_alarm.cc:133] The operation took 1.311826543s\n",
      "Trying algorithm eng22{k2=16,k13=0,k14=3,k18=0,k23=0} for conv (f16[1,5,5,1152]{3,2,1,0}, u8[0]{0}) custom-call(f16[1,4,4,1152000]{3,2,1,0}, f16[1152,4,4,1000]{3,2,1,0}), window={size=4x4 pad=2_2x2_2}, dim_labels=b01f_o01i->b01f, feature_group_count=1152, custom_call_target=\"__cudnn$convForward\", backend_config={\"operation_queue_id\":\"0\",\"wait_on_operation_queues\":[],\"cudnn_conv_backend_config\":{\"conv_result_scale\":1,\"activation_mode\":\"kNone\",\"side_input_scale\":0,\"leakyrelu_alpha\":0},\"force_earliest_schedule\":false} is taking a while...\n",
      "2025-03-15 13:15:14.721164: E external/local_xla/xla/service/slow_operation_alarm.cc:65] Trying algorithm eng0{} for conv (f16[1280,1,1,320]{3,2,1,0}, u8[0]{0}) custom-call(f16[1000,4,4,320]{3,2,1,0}, f16[1000,4,4,1280]{3,2,1,0}), window={size=1x1}, dim_labels=b01f_o01i->b01f, custom_call_target=\"__cudnn$convBackwardFilter\", backend_config={\"operation_queue_id\":\"0\",\"wait_on_operation_queues\":[],\"cudnn_conv_backend_config\":{\"conv_result_scale\":1,\"activation_mode\":\"kNone\",\"side_input_scale\":0,\"leakyrelu_alpha\":0},\"force_earliest_schedule\":false} is taking a while...\n",
      "2025-03-15 13:15:14.778114: E external/local_xla/xla/service/slow_operation_alarm.cc:133] The operation took 1.057055325s\n",
      "Trying algorithm eng0{} for conv (f16[1280,1,1,320]{3,2,1,0}, u8[0]{0}) custom-call(f16[1000,4,4,320]{3,2,1,0}, f16[1000,4,4,1280]{3,2,1,0}), window={size=1x1}, dim_labels=b01f_o01i->b01f, custom_call_target=\"__cudnn$convBackwardFilter\", backend_config={\"operation_queue_id\":\"0\",\"wait_on_operation_queues\":[],\"cudnn_conv_backend_config\":{\"conv_result_scale\":1,\"activation_mode\":\"kNone\",\"side_input_scale\":0,\"leakyrelu_alpha\":0},\"force_earliest_schedule\":false} is taking a while...\n",
      "I0000 00:00:1742037336.961666   32875 device_compiler.h:188] Compiled cluster using XLA!  This line is logged at most once for the lifetime of the process.\n",
      "2025-03-15 13:15:47.081426: W external/local_tsl/tsl/framework/bfc_allocator.cc:482] Allocator (GPU_0_bfc) ran out of memory trying to allocate 5.71GiB (rounded to 6136613376)requested by op \n",
      "2025-03-15 13:15:47.081544: I external/local_tsl/tsl/framework/bfc_allocator.cc:1039] BFCAllocator dump for GPU_0_bfc\n",
      "2025-03-15 13:15:47.081569: I external/local_tsl/tsl/framework/bfc_allocator.cc:1046] Bin (256): \tTotal Chunks: 112, Chunks in use: 112. 28.0KiB allocated for chunks. 28.0KiB in use in bin. 6.2KiB client-requested in use in bin.\n",
      "2025-03-15 13:15:47.081580: I external/local_tsl/tsl/framework/bfc_allocator.cc:1046] Bin (512): \tTotal Chunks: 73, Chunks in use: 73. 45.2KiB allocated for chunks. 45.2KiB in use in bin. 37.4KiB client-requested in use in bin.\n",
      "2025-03-15 13:15:47.081588: I external/local_tsl/tsl/framework/bfc_allocator.cc:1046] Bin (1024): \tTotal Chunks: 35, Chunks in use: 35. 40.2KiB allocated for chunks. 40.2KiB in use in bin. 36.4KiB client-requested in use in bin.\n",
      "2025-03-15 13:15:47.081595: I external/local_tsl/tsl/framework/bfc_allocator.cc:1046] Bin (2048): \tTotal Chunks: 67, Chunks in use: 67. 168.5KiB allocated for chunks. 168.5KiB in use in bin. 158.0KiB client-requested in use in bin.\n",
      "2025-03-15 13:15:47.081602: I external/local_tsl/tsl/framework/bfc_allocator.cc:1046] Bin (4096): \tTotal Chunks: 50, Chunks in use: 50. 237.5KiB allocated for chunks. 237.5KiB in use in bin. 225.8KiB client-requested in use in bin.\n",
      "2025-03-15 13:15:47.081608: I external/local_tsl/tsl/framework/bfc_allocator.cc:1046] Bin (8192): \tTotal Chunks: 18, Chunks in use: 18. 206.8KiB allocated for chunks. 206.8KiB in use in bin. 198.0KiB client-requested in use in bin.\n",
      "2025-03-15 13:15:47.081615: I external/local_tsl/tsl/framework/bfc_allocator.cc:1046] Bin (16384): \tTotal Chunks: 7, Chunks in use: 7. 138.0KiB allocated for chunks. 138.0KiB in use in bin. 128.4KiB client-requested in use in bin.\n",
      "2025-03-15 13:15:47.081622: I external/local_tsl/tsl/framework/bfc_allocator.cc:1046] Bin (32768): \tTotal Chunks: 18, Chunks in use: 18. 718.0KiB allocated for chunks. 718.0KiB in use in bin. 685.7KiB client-requested in use in bin.\n",
      "2025-03-15 13:15:47.081629: I external/local_tsl/tsl/framework/bfc_allocator.cc:1046] Bin (65536): \tTotal Chunks: 16, Chunks in use: 16. 1.25MiB allocated for chunks. 1.25MiB in use in bin. 1.20MiB client-requested in use in bin.\n",
      "2025-03-15 13:15:47.081635: I external/local_tsl/tsl/framework/bfc_allocator.cc:1046] Bin (131072): \tTotal Chunks: 21, Chunks in use: 21. 4.10MiB allocated for chunks. 4.10MiB in use in bin. 3.76MiB client-requested in use in bin.\n",
      "2025-03-15 13:15:47.081642: I external/local_tsl/tsl/framework/bfc_allocator.cc:1046] Bin (262144): \tTotal Chunks: 8, Chunks in use: 8. 2.52MiB allocated for chunks. 2.52MiB in use in bin. 2.50MiB client-requested in use in bin.\n",
      "2025-03-15 13:15:47.081649: I external/local_tsl/tsl/framework/bfc_allocator.cc:1046] Bin (524288): \tTotal Chunks: 12, Chunks in use: 12. 9.59MiB allocated for chunks. 9.59MiB in use in bin. 9.34MiB client-requested in use in bin.\n",
      "2025-03-15 13:15:47.081655: I external/local_tsl/tsl/framework/bfc_allocator.cc:1046] Bin (1048576): \tTotal Chunks: 4, Chunks in use: 4. 6.03MiB allocated for chunks. 6.03MiB in use in bin. 5.94MiB client-requested in use in bin.\n",
      "2025-03-15 13:15:47.081663: I external/local_tsl/tsl/framework/bfc_allocator.cc:1046] Bin (2097152): \tTotal Chunks: 0, Chunks in use: 0. 0B allocated for chunks. 0B in use in bin. 0B client-requested in use in bin.\n",
      "2025-03-15 13:15:47.081671: I external/local_tsl/tsl/framework/bfc_allocator.cc:1046] Bin (4194304): \tTotal Chunks: 0, Chunks in use: 0. 0B allocated for chunks. 0B in use in bin. 0B client-requested in use in bin.\n",
      "2025-03-15 13:15:47.081677: I external/local_tsl/tsl/framework/bfc_allocator.cc:1046] Bin (8388608): \tTotal Chunks: 0, Chunks in use: 0. 0B allocated for chunks. 0B in use in bin. 0B client-requested in use in bin.\n",
      "2025-03-15 13:15:47.081683: I external/local_tsl/tsl/framework/bfc_allocator.cc:1046] Bin (16777216): \tTotal Chunks: 0, Chunks in use: 0. 0B allocated for chunks. 0B in use in bin. 0B client-requested in use in bin.\n",
      "2025-03-15 13:15:47.081689: I external/local_tsl/tsl/framework/bfc_allocator.cc:1046] Bin (33554432): \tTotal Chunks: 0, Chunks in use: 0. 0B allocated for chunks. 0B in use in bin. 0B client-requested in use in bin.\n",
      "2025-03-15 13:15:47.081726: I external/local_tsl/tsl/framework/bfc_allocator.cc:1046] Bin (67108864): \tTotal Chunks: 0, Chunks in use: 0. 0B allocated for chunks. 0B in use in bin. 0B client-requested in use in bin.\n",
      "2025-03-15 13:15:47.081740: I external/local_tsl/tsl/framework/bfc_allocator.cc:1046] Bin (134217728): \tTotal Chunks: 1, Chunks in use: 1. 187.50MiB allocated for chunks. 187.50MiB in use in bin. 187.50MiB client-requested in use in bin.\n",
      "2025-03-15 13:15:47.081748: I external/local_tsl/tsl/framework/bfc_allocator.cc:1046] Bin (268435456): \tTotal Chunks: 1, Chunks in use: 0. 5.22GiB allocated for chunks. 0B in use in bin. 0B client-requested in use in bin.\n",
      "2025-03-15 13:15:47.081755: I external/local_tsl/tsl/framework/bfc_allocator.cc:1062] Bin for 5.71GiB was 256.00MiB, Chunk State: \n",
      "2025-03-15 13:15:47.081772: I external/local_tsl/tsl/framework/bfc_allocator.cc:1068]   Size: 5.22GiB | Requested Size: 18.69MiB | in_use: 0 | bin_num: 20, prev:   Size: 256B | Requested Size: 4B | in_use: 1 | bin_num: -1\n",
      "2025-03-15 13:15:47.081778: I external/local_tsl/tsl/framework/bfc_allocator.cc:1075] Next region of size 5833228288\n",
      "2025-03-15 13:15:47.081787: I external/local_tsl/tsl/framework/bfc_allocator.cc:1095] InUse at 505600000 of size 1280 next 1\n",
      "2025-03-15 13:15:47.081793: I external/local_tsl/tsl/framework/bfc_allocator.cc:1095] InUse at 505600500 of size 256 next 2\n",
      "2025-03-15 13:15:47.081799: I external/local_tsl/tsl/framework/bfc_allocator.cc:1095] InUse at 505600600 of size 256 next 3\n",
      "2025-03-15 13:15:47.081805: I external/local_tsl/tsl/framework/bfc_allocator.cc:1095] InUse at 505600700 of size 256 next 4\n",
      "2025-03-15 13:15:47.081810: I external/local_tsl/tsl/framework/bfc_allocator.cc:1095] InUse at 505600800 of size 256 next 5\n",
      "2025-03-15 13:15:47.081816: I external/local_tsl/tsl/framework/bfc_allocator.cc:1095] InUse at 505600900 of size 256 next 6\n",
      "2025-03-15 13:15:47.081821: I external/local_tsl/tsl/framework/bfc_allocator.cc:1095] InUse at 505600a00 of size 256 next 7\n",
      "2025-03-15 13:15:47.081827: I external/local_tsl/tsl/framework/bfc_allocator.cc:1095] InUse at 505600b00 of size 256 next 8\n",
      "2025-03-15 13:15:47.081832: I external/local_tsl/tsl/framework/bfc_allocator.cc:1095] InUse at 505600c00 of size 256 next 9\n",
      "2025-03-15 13:15:47.081838: I external/local_tsl/tsl/framework/bfc_allocator.cc:1095] InUse at 505600d00 of size 256 next 10\n",
      "2025-03-15 13:15:47.081843: I external/local_tsl/tsl/framework/bfc_allocator.cc:1095] InUse at 505600e00 of size 256 next 11\n",
      "2025-03-15 13:15:47.081849: I external/local_tsl/tsl/framework/bfc_allocator.cc:1095] InUse at 505600f00 of size 256 next 12\n",
      "2025-03-15 13:15:47.081854: I external/local_tsl/tsl/framework/bfc_allocator.cc:1095] InUse at 505601000 of size 256 next 13\n",
      "2025-03-15 13:15:47.081860: I external/local_tsl/tsl/framework/bfc_allocator.cc:1095] InUse at 505601100 of size 256 next 15\n",
      "2025-03-15 13:15:47.081865: I external/local_tsl/tsl/framework/bfc_allocator.cc:1095] InUse at 505601200 of size 256 next 16\n",
      "2025-03-15 13:15:47.081870: I external/local_tsl/tsl/framework/bfc_allocator.cc:1095] InUse at 505601300 of size 256 next 14\n",
      "2025-03-15 13:15:47.081876: I external/local_tsl/tsl/framework/bfc_allocator.cc:1095] InUse at 505601400 of size 256 next 19\n",
      "2025-03-15 13:15:47.081881: I external/local_tsl/tsl/framework/bfc_allocator.cc:1095] InUse at 505601500 of size 256 next 37\n",
      "2025-03-15 13:15:47.081887: I external/local_tsl/tsl/framework/bfc_allocator.cc:1095] InUse at 505601600 of size 256 next 38\n",
      "2025-03-15 13:15:47.081893: I external/local_tsl/tsl/framework/bfc_allocator.cc:1095] InUse at 505601700 of size 512 next 39\n",
      "2025-03-15 13:15:47.081898: I external/local_tsl/tsl/framework/bfc_allocator.cc:1095] InUse at 505601900 of size 512 next 40\n",
      "2025-03-15 13:15:47.081904: I external/local_tsl/tsl/framework/bfc_allocator.cc:1095] InUse at 505601b00 of size 512 next 30\n",
      "2025-03-15 13:15:47.081911: I external/local_tsl/tsl/framework/bfc_allocator.cc:1095] InUse at 505601d00 of size 1280 next 24\n",
      "2025-03-15 13:15:47.081917: I external/local_tsl/tsl/framework/bfc_allocator.cc:1095] InUse at 505602200 of size 1280 next 25\n",
      "2025-03-15 13:15:47.081922: I external/local_tsl/tsl/framework/bfc_allocator.cc:1095] InUse at 505602700 of size 256 next 20\n",
      "2025-03-15 13:15:47.081928: I external/local_tsl/tsl/framework/bfc_allocator.cc:1095] InUse at 505602800 of size 256 next 21\n",
      "2025-03-15 13:15:47.081933: I external/local_tsl/tsl/framework/bfc_allocator.cc:1095] InUse at 505602900 of size 256 next 22\n",
      "2025-03-15 13:15:47.081939: I external/local_tsl/tsl/framework/bfc_allocator.cc:1095] InUse at 505602a00 of size 256 next 23\n",
      "2025-03-15 13:15:47.081944: I external/local_tsl/tsl/framework/bfc_allocator.cc:1095] InUse at 505602b00 of size 256 next 27\n",
      "2025-03-15 13:15:47.081950: I external/local_tsl/tsl/framework/bfc_allocator.cc:1095] InUse at 505602c00 of size 256 next 29\n",
      "2025-03-15 13:15:47.081955: I external/local_tsl/tsl/framework/bfc_allocator.cc:1095] InUse at 505602d00 of size 256 next 28\n",
      "2025-03-15 13:15:47.081961: I external/local_tsl/tsl/framework/bfc_allocator.cc:1095] InUse at 505602e00 of size 256 next 17\n",
      "2025-03-15 13:15:47.081967: I external/local_tsl/tsl/framework/bfc_allocator.cc:1095] InUse at 505602f00 of size 3584 next 18\n",
      "2025-03-15 13:15:47.081977: I external/local_tsl/tsl/framework/bfc_allocator.cc:1095] InUse at 505603d00 of size 256 next 31\n",
      "2025-03-15 13:15:47.081985: I external/local_tsl/tsl/framework/bfc_allocator.cc:1095] InUse at 505603e00 of size 256 next 26\n",
      "2025-03-15 13:15:47.081991: I external/local_tsl/tsl/framework/bfc_allocator.cc:1095] InUse at 505603f00 of size 256 next 34\n",
      "2025-03-15 13:15:47.081996: I external/local_tsl/tsl/framework/bfc_allocator.cc:1095] InUse at 505604000 of size 256 next 32\n",
      "2025-03-15 13:15:47.082000: I external/local_tsl/tsl/framework/bfc_allocator.cc:1095] InUse at 505604100 of size 1024 next 33\n",
      "2025-03-15 13:15:47.082005: I external/local_tsl/tsl/framework/bfc_allocator.cc:1095] InUse at 505604500 of size 512 next 42\n",
      "2025-03-15 13:15:47.082009: I external/local_tsl/tsl/framework/bfc_allocator.cc:1095] InUse at 505604700 of size 512 next 45\n",
      "2025-03-15 13:15:47.082014: I external/local_tsl/tsl/framework/bfc_allocator.cc:1095] InUse at 505604900 of size 512 next 46\n",
      "2025-03-15 13:15:47.082018: I external/local_tsl/tsl/framework/bfc_allocator.cc:1095] InUse at 505604b00 of size 512 next 35\n",
      "2025-03-15 13:15:47.082022: I external/local_tsl/tsl/framework/bfc_allocator.cc:1095] InUse at 505604d00 of size 2048 next 36\n",
      "2025-03-15 13:15:47.082027: I external/local_tsl/tsl/framework/bfc_allocator.cc:1095] InUse at 505605500 of size 512 next 47\n",
      "2025-03-15 13:15:47.082031: I external/local_tsl/tsl/framework/bfc_allocator.cc:1095] InUse at 505605700 of size 256 next 41\n",
      "2025-03-15 13:15:47.082036: I external/local_tsl/tsl/framework/bfc_allocator.cc:1095] InUse at 505605800 of size 256 next 49\n",
      "2025-03-15 13:15:47.082040: I external/local_tsl/tsl/framework/bfc_allocator.cc:1095] InUse at 505605900 of size 256 next 52\n",
      "2025-03-15 13:15:47.082044: I external/local_tsl/tsl/framework/bfc_allocator.cc:1095] InUse at 505605a00 of size 256 next 60\n",
      "2025-03-15 13:15:47.082049: I external/local_tsl/tsl/framework/bfc_allocator.cc:1095] InUse at 505605b00 of size 768 next 61\n",
      "2025-03-15 13:15:47.082053: I external/local_tsl/tsl/framework/bfc_allocator.cc:1095] InUse at 505605e00 of size 768 next 62\n",
      "2025-03-15 13:15:47.082058: I external/local_tsl/tsl/framework/bfc_allocator.cc:1095] InUse at 505606100 of size 768 next 63\n",
      "2025-03-15 13:15:47.082062: I external/local_tsl/tsl/framework/bfc_allocator.cc:1095] InUse at 505606400 of size 768 next 53\n",
      "2025-03-15 13:15:47.082067: I external/local_tsl/tsl/framework/bfc_allocator.cc:1095] InUse at 505606700 of size 2560 next 48\n",
      "2025-03-15 13:15:47.082071: I external/local_tsl/tsl/framework/bfc_allocator.cc:1095] InUse at 505607100 of size 5120 next 43\n",
      "2025-03-15 13:15:47.082077: I external/local_tsl/tsl/framework/bfc_allocator.cc:1095] InUse at 505608500 of size 6144 next 44\n",
      "2025-03-15 13:15:47.082081: I external/local_tsl/tsl/framework/bfc_allocator.cc:1095] InUse at 505609d00 of size 512 next 51\n",
      "2025-03-15 13:15:47.082086: I external/local_tsl/tsl/framework/bfc_allocator.cc:1095] InUse at 505609f00 of size 256 next 50\n",
      "2025-03-15 13:15:47.082090: I external/local_tsl/tsl/framework/bfc_allocator.cc:1095] InUse at 50560a000 of size 256 next 57\n",
      "2025-03-15 13:15:47.082094: I external/local_tsl/tsl/framework/bfc_allocator.cc:1095] InUse at 50560a100 of size 256 next 56\n",
      "2025-03-15 13:15:47.082099: I external/local_tsl/tsl/framework/bfc_allocator.cc:1095] InUse at 50560a200 of size 256 next 54\n",
      "2025-03-15 13:15:47.082103: I external/local_tsl/tsl/framework/bfc_allocator.cc:1095] InUse at 50560a300 of size 1536 next 55\n",
      "2025-03-15 13:15:47.082108: I external/local_tsl/tsl/framework/bfc_allocator.cc:1095] InUse at 50560a900 of size 5376 next 70\n",
      "2025-03-15 13:15:47.082117: I external/local_tsl/tsl/framework/bfc_allocator.cc:1095] InUse at 50560be00 of size 768 next 67\n",
      "2025-03-15 13:15:47.082122: I external/local_tsl/tsl/framework/bfc_allocator.cc:1095] InUse at 50560c100 of size 768 next 68\n",
      "2025-03-15 13:15:47.082126: I external/local_tsl/tsl/framework/bfc_allocator.cc:1095] InUse at 50560c400 of size 768 next 69\n",
      "2025-03-15 13:15:47.082131: I external/local_tsl/tsl/framework/bfc_allocator.cc:1095] InUse at 50560c700 of size 768 next 66\n",
      "2025-03-15 13:15:47.082135: I external/local_tsl/tsl/framework/bfc_allocator.cc:1095] InUse at 50560ca00 of size 256 next 71\n",
      "2025-03-15 13:15:47.082140: I external/local_tsl/tsl/framework/bfc_allocator.cc:1095] InUse at 50560cb00 of size 256 next 72\n",
      "2025-03-15 13:15:47.082144: I external/local_tsl/tsl/framework/bfc_allocator.cc:1095] InUse at 50560cc00 of size 768 next 89\n",
      "2025-03-15 13:15:47.082148: I external/local_tsl/tsl/framework/bfc_allocator.cc:1095] InUse at 50560cf00 of size 768 next 90\n",
      "2025-03-15 13:15:47.082153: I external/local_tsl/tsl/framework/bfc_allocator.cc:1095] InUse at 50560d200 of size 768 next 91\n",
      "2025-03-15 13:15:47.082157: I external/local_tsl/tsl/framework/bfc_allocator.cc:1095] InUse at 50560d500 of size 1024 next 109\n",
      "2025-03-15 13:15:47.082162: I external/local_tsl/tsl/framework/bfc_allocator.cc:1095] InUse at 50560d900 of size 1024 next 113\n",
      "2025-03-15 13:15:47.082167: I external/local_tsl/tsl/framework/bfc_allocator.cc:1095] InUse at 50560dd00 of size 1024 next 110\n",
      "2025-03-15 13:15:47.082171: I external/local_tsl/tsl/framework/bfc_allocator.cc:1095] InUse at 50560e100 of size 1024 next 116\n",
      "2025-03-15 13:15:47.082176: I external/local_tsl/tsl/framework/bfc_allocator.cc:1095] InUse at 50560e500 of size 256 next 117\n",
      "2025-03-15 13:15:47.082180: I external/local_tsl/tsl/framework/bfc_allocator.cc:1095] InUse at 50560e600 of size 256 next 118\n",
      "2025-03-15 13:15:47.082185: I external/local_tsl/tsl/framework/bfc_allocator.cc:1095] InUse at 50560e700 of size 1024 next 121\n",
      "2025-03-15 13:15:47.082189: I external/local_tsl/tsl/framework/bfc_allocator.cc:1095] InUse at 50560eb00 of size 256 next 119\n",
      "2025-03-15 13:15:47.082193: I external/local_tsl/tsl/framework/bfc_allocator.cc:1095] InUse at 50560ec00 of size 256 next 124\n",
      "2025-03-15 13:15:47.082198: I external/local_tsl/tsl/framework/bfc_allocator.cc:1095] InUse at 50560ed00 of size 256 next 125\n",
      "2025-03-15 13:15:47.082202: I external/local_tsl/tsl/framework/bfc_allocator.cc:1095] InUse at 50560ee00 of size 256 next 120\n",
      "2025-03-15 13:15:47.082207: I external/local_tsl/tsl/framework/bfc_allocator.cc:1095] InUse at 50560ef00 of size 256 next 128\n",
      "2025-03-15 13:15:47.082211: I external/local_tsl/tsl/framework/bfc_allocator.cc:1095] InUse at 50560f000 of size 256 next 58\n",
      "2025-03-15 13:15:47.082216: I external/local_tsl/tsl/framework/bfc_allocator.cc:1095] InUse at 50560f100 of size 9216 next 59\n",
      "2025-03-15 13:15:47.082220: I external/local_tsl/tsl/framework/bfc_allocator.cc:1095] InUse at 505611500 of size 3584 next 76\n",
      "2025-03-15 13:15:47.082226: I external/local_tsl/tsl/framework/bfc_allocator.cc:1095] InUse at 505612300 of size 3584 next 78\n",
      "2025-03-15 13:15:47.082230: I external/local_tsl/tsl/framework/bfc_allocator.cc:1095] InUse at 505613100 of size 768 next 74\n",
      "2025-03-15 13:15:47.082234: I external/local_tsl/tsl/framework/bfc_allocator.cc:1095] InUse at 505613400 of size 256 next 77\n",
      "2025-03-15 13:15:47.082239: I external/local_tsl/tsl/framework/bfc_allocator.cc:1095] InUse at 505613500 of size 256 next 73\n",
      "2025-03-15 13:15:47.082243: I external/local_tsl/tsl/framework/bfc_allocator.cc:1095] InUse at 505613600 of size 256 next 79\n",
      "2025-03-15 13:15:47.082248: I external/local_tsl/tsl/framework/bfc_allocator.cc:1095] InUse at 505613700 of size 256 next 75\n",
      "2025-03-15 13:15:47.082252: I external/local_tsl/tsl/framework/bfc_allocator.cc:1095] InUse at 505613800 of size 256 next 82\n",
      "2025-03-15 13:15:47.082256: I external/local_tsl/tsl/framework/bfc_allocator.cc:1095] InUse at 505613900 of size 768 next 84\n",
      "2025-03-15 13:15:47.082261: I external/local_tsl/tsl/framework/bfc_allocator.cc:1095] InUse at 505613c00 of size 768 next 85\n",
      "2025-03-15 13:15:47.082265: I external/local_tsl/tsl/framework/bfc_allocator.cc:1095] InUse at 505613f00 of size 768 next 86\n",
      "2025-03-15 13:15:47.082270: I external/local_tsl/tsl/framework/bfc_allocator.cc:1095] InUse at 505614200 of size 768 next 83\n",
      "2025-03-15 13:15:47.082274: I external/local_tsl/tsl/framework/bfc_allocator.cc:1095] InUse at 505614500 of size 256 next 88\n",
      "2025-03-15 13:15:47.082278: I external/local_tsl/tsl/framework/bfc_allocator.cc:1095] InUse at 505614600 of size 1280 next 64\n",
      "2025-03-15 13:15:47.082283: I external/local_tsl/tsl/framework/bfc_allocator.cc:1095] InUse at 505614b00 of size 13824 next 65\n",
      "2025-03-15 13:15:47.082287: I external/local_tsl/tsl/framework/bfc_allocator.cc:1095] InUse at 505618100 of size 256 next 141\n",
      "2025-03-15 13:15:47.082292: I external/local_tsl/tsl/framework/bfc_allocator.cc:1095] InUse at 505618200 of size 512 next 143\n",
      "2025-03-15 13:15:47.082296: I external/local_tsl/tsl/framework/bfc_allocator.cc:1095] InUse at 505618400 of size 512 next 140\n",
      "2025-03-15 13:15:47.082301: I external/local_tsl/tsl/framework/bfc_allocator.cc:1095] InUse at 505618600 of size 512 next 144\n",
      "2025-03-15 13:15:47.082305: I external/local_tsl/tsl/framework/bfc_allocator.cc:1095] InUse at 505618800 of size 512 next 147\n",
      "2025-03-15 13:15:47.082310: I external/local_tsl/tsl/framework/bfc_allocator.cc:1095] InUse at 505618a00 of size 256 next 148\n",
      "2025-03-15 13:15:47.082314: I external/local_tsl/tsl/framework/bfc_allocator.cc:1095] InUse at 505618b00 of size 2048 next 149\n",
      "2025-03-15 13:15:47.082318: I external/local_tsl/tsl/framework/bfc_allocator.cc:1095] InUse at 505619300 of size 2048 next 150\n",
      "2025-03-15 13:15:47.082323: I external/local_tsl/tsl/framework/bfc_allocator.cc:1095] InUse at 505619b00 of size 2048 next 136\n",
      "2025-03-15 13:15:47.082327: I external/local_tsl/tsl/framework/bfc_allocator.cc:1095] InUse at 50561a300 of size 8704 next 137\n",
      "2025-03-15 13:15:47.082332: I external/local_tsl/tsl/framework/bfc_allocator.cc:1095] InUse at 50561c500 of size 2048 next 152\n",
      "2025-03-15 13:15:47.082336: I external/local_tsl/tsl/framework/bfc_allocator.cc:1095] InUse at 50561cd00 of size 2048 next 155\n",
      "2025-03-15 13:15:47.082341: I external/local_tsl/tsl/framework/bfc_allocator.cc:1095] InUse at 50561d500 of size 2048 next 156\n",
      "2025-03-15 13:15:47.082345: I external/local_tsl/tsl/framework/bfc_allocator.cc:1095] InUse at 50561dd00 of size 2048 next 157\n",
      "2025-03-15 13:15:47.082350: I external/local_tsl/tsl/framework/bfc_allocator.cc:1095] InUse at 50561e500 of size 2048 next 80\n",
      "2025-03-15 13:15:47.082354: I external/local_tsl/tsl/framework/bfc_allocator.cc:1095] InUse at 50561ed00 of size 13824 next 81\n",
      "2025-03-15 13:15:47.082358: I external/local_tsl/tsl/framework/bfc_allocator.cc:1095] InUse at 505622300 of size 13824 next 87\n",
      "2025-03-15 13:15:47.082363: I external/local_tsl/tsl/framework/bfc_allocator.cc:1095] InUse at 505625900 of size 256 next 95\n",
      "2025-03-15 13:15:47.082368: I external/local_tsl/tsl/framework/bfc_allocator.cc:1095] InUse at 505625a00 of size 768 next 94\n",
      "2025-03-15 13:15:47.082372: I external/local_tsl/tsl/framework/bfc_allocator.cc:1095] InUse at 505625d00 of size 256 next 99\n",
      "2025-03-15 13:15:47.082377: I external/local_tsl/tsl/framework/bfc_allocator.cc:1095] InUse at 505625e00 of size 256 next 100\n",
      "2025-03-15 13:15:47.082381: I external/local_tsl/tsl/framework/bfc_allocator.cc:1095] InUse at 505625f00 of size 256 next 96\n",
      "2025-03-15 13:15:47.082386: I external/local_tsl/tsl/framework/bfc_allocator.cc:1095] InUse at 505626000 of size 256 next 102\n",
      "2025-03-15 13:15:47.082390: I external/local_tsl/tsl/framework/bfc_allocator.cc:1095] InUse at 505626100 of size 256 next 105\n",
      "2025-03-15 13:15:47.082395: I external/local_tsl/tsl/framework/bfc_allocator.cc:1095] InUse at 505626200 of size 256 next 106\n",
      "2025-03-15 13:15:47.082399: I external/local_tsl/tsl/framework/bfc_allocator.cc:1095] InUse at 505626300 of size 1024 next 97\n",
      "2025-03-15 13:15:47.082403: I external/local_tsl/tsl/framework/bfc_allocator.cc:1095] InUse at 505626700 of size 3584 next 98\n",
      "2025-03-15 13:15:47.082408: I external/local_tsl/tsl/framework/bfc_allocator.cc:1095] InUse at 505627500 of size 3584 next 101\n",
      "2025-03-15 13:15:47.082412: I external/local_tsl/tsl/framework/bfc_allocator.cc:1095] InUse at 505628300 of size 1024 next 107\n",
      "2025-03-15 13:15:47.082417: I external/local_tsl/tsl/framework/bfc_allocator.cc:1095] InUse at 505628700 of size 1024 next 108\n",
      "2025-03-15 13:15:47.082421: I external/local_tsl/tsl/framework/bfc_allocator.cc:1095] InUse at 505628b00 of size 1792 next 92\n",
      "2025-03-15 13:15:47.082426: I external/local_tsl/tsl/framework/bfc_allocator.cc:1095] InUse at 505629200 of size 14592 next 93\n",
      "2025-03-15 13:15:47.082435: I external/local_tsl/tsl/framework/bfc_allocator.cc:1095] InUse at 50562cb00 of size 1024 next 129\n",
      "2025-03-15 13:15:47.082439: I external/local_tsl/tsl/framework/bfc_allocator.cc:1095] InUse at 50562cf00 of size 1024 next 130\n",
      "2025-03-15 13:15:47.082444: I external/local_tsl/tsl/framework/bfc_allocator.cc:1095] InUse at 50562d300 of size 1024 next 131\n",
      "2025-03-15 13:15:47.082448: I external/local_tsl/tsl/framework/bfc_allocator.cc:1095] InUse at 50562d700 of size 1024 next 133\n",
      "2025-03-15 13:15:47.082453: I external/local_tsl/tsl/framework/bfc_allocator.cc:1095] InUse at 50562db00 of size 1024 next 134\n",
      "2025-03-15 13:15:47.082457: I external/local_tsl/tsl/framework/bfc_allocator.cc:1095] InUse at 50562df00 of size 1024 next 135\n",
      "2025-03-15 13:15:47.082461: I external/local_tsl/tsl/framework/bfc_allocator.cc:1095] InUse at 50562e300 of size 1024 next 138\n",
      "2025-03-15 13:15:47.082466: I external/local_tsl/tsl/framework/bfc_allocator.cc:1095] InUse at 50562e700 of size 1024 next 139\n",
      "2025-03-15 13:15:47.082470: I external/local_tsl/tsl/framework/bfc_allocator.cc:1095] InUse at 50562eb00 of size 1536 next 123\n",
      "2025-03-15 13:15:47.082475: I external/local_tsl/tsl/framework/bfc_allocator.cc:1095] InUse at 50562f100 of size 13312 next 103\n",
      "2025-03-15 13:15:47.082479: I external/local_tsl/tsl/framework/bfc_allocator.cc:1095] InUse at 505632500 of size 23040 next 104\n",
      "2025-03-15 13:15:47.082484: I external/local_tsl/tsl/framework/bfc_allocator.cc:1095] InUse at 505637f00 of size 9728 next 122\n",
      "2025-03-15 13:15:47.082488: I external/local_tsl/tsl/framework/bfc_allocator.cc:1095] InUse at 50563a500 of size 256 next 151\n",
      "2025-03-15 13:15:47.082493: I external/local_tsl/tsl/framework/bfc_allocator.cc:1095] InUse at 50563a600 of size 256 next 160\n",
      "2025-03-15 13:15:47.082497: I external/local_tsl/tsl/framework/bfc_allocator.cc:1095] InUse at 50563a700 of size 2048 next 163\n",
      "2025-03-15 13:15:47.082502: I external/local_tsl/tsl/framework/bfc_allocator.cc:1095] InUse at 50563af00 of size 512 next 165\n",
      "2025-03-15 13:15:47.082506: I external/local_tsl/tsl/framework/bfc_allocator.cc:1095] InUse at 50563b100 of size 512 next 161\n",
      "2025-03-15 13:15:47.082510: I external/local_tsl/tsl/framework/bfc_allocator.cc:1095] InUse at 50563b300 of size 512 next 162\n",
      "2025-03-15 13:15:47.082516: I external/local_tsl/tsl/framework/bfc_allocator.cc:1095] InUse at 50563b500 of size 512 next 169\n",
      "2025-03-15 13:15:47.082520: I external/local_tsl/tsl/framework/bfc_allocator.cc:1095] InUse at 50563b700 of size 256 next 170\n",
      "2025-03-15 13:15:47.082525: I external/local_tsl/tsl/framework/bfc_allocator.cc:1095] InUse at 50563b800 of size 2048 next 172\n",
      "2025-03-15 13:15:47.082529: I external/local_tsl/tsl/framework/bfc_allocator.cc:1095] InUse at 50563c000 of size 2048 next 173\n",
      "2025-03-15 13:15:47.082533: I external/local_tsl/tsl/framework/bfc_allocator.cc:1095] InUse at 50563c800 of size 2048 next 171\n",
      "2025-03-15 13:15:47.082538: I external/local_tsl/tsl/framework/bfc_allocator.cc:1095] InUse at 50563d000 of size 3328 next 114\n",
      "2025-03-15 13:15:47.082542: I external/local_tsl/tsl/framework/bfc_allocator.cc:1095] InUse at 50563dd00 of size 24064 next 115\n",
      "2025-03-15 13:15:47.082547: I external/local_tsl/tsl/framework/bfc_allocator.cc:1095] InUse at 505643b00 of size 9728 next 142\n",
      "2025-03-15 13:15:47.082551: I external/local_tsl/tsl/framework/bfc_allocator.cc:1095] InUse at 505646100 of size 18944 next 111\n",
      "2025-03-15 13:15:47.082556: I external/local_tsl/tsl/framework/bfc_allocator.cc:1095] InUse at 50564ab00 of size 38400 next 112\n",
      "2025-03-15 13:15:47.082560: I external/local_tsl/tsl/framework/bfc_allocator.cc:1095] InUse at 505654100 of size 2048 next 176\n",
      "2025-03-15 13:15:47.082565: I external/local_tsl/tsl/framework/bfc_allocator.cc:1095] InUse at 505654900 of size 2048 next 177\n",
      "2025-03-15 13:15:47.082569: I external/local_tsl/tsl/framework/bfc_allocator.cc:1095] InUse at 505655100 of size 2048 next 175\n",
      "2025-03-15 13:15:47.082573: I external/local_tsl/tsl/framework/bfc_allocator.cc:1095] InUse at 505655900 of size 2048 next 179\n",
      "2025-03-15 13:15:47.082578: I external/local_tsl/tsl/framework/bfc_allocator.cc:1095] InUse at 505656100 of size 256 next 181\n",
      "2025-03-15 13:15:47.082582: I external/local_tsl/tsl/framework/bfc_allocator.cc:1095] InUse at 505656200 of size 2048 next 183\n",
      "2025-03-15 13:15:47.082587: I external/local_tsl/tsl/framework/bfc_allocator.cc:1095] InUse at 505656a00 of size 512 next 185\n",
      "2025-03-15 13:15:47.082591: I external/local_tsl/tsl/framework/bfc_allocator.cc:1095] InUse at 505656c00 of size 512 next 182\n",
      "2025-03-15 13:15:47.082595: I external/local_tsl/tsl/framework/bfc_allocator.cc:1095] InUse at 505656e00 of size 512 next 180\n",
      "2025-03-15 13:15:47.082600: I external/local_tsl/tsl/framework/bfc_allocator.cc:1095] InUse at 505657000 of size 512 next 189\n",
      "2025-03-15 13:15:47.082604: I external/local_tsl/tsl/framework/bfc_allocator.cc:1095] InUse at 505657200 of size 256 next 190\n",
      "2025-03-15 13:15:47.082609: I external/local_tsl/tsl/framework/bfc_allocator.cc:1095] InUse at 505657300 of size 2048 next 192\n",
      "2025-03-15 13:15:47.082613: I external/local_tsl/tsl/framework/bfc_allocator.cc:1095] InUse at 505657b00 of size 2560 next 178\n",
      "2025-03-15 13:15:47.082618: I external/local_tsl/tsl/framework/bfc_allocator.cc:1095] InUse at 505658500 of size 17408 next 158\n",
      "2025-03-15 13:15:47.082626: I external/local_tsl/tsl/framework/bfc_allocator.cc:1095] InUse at 50565c900 of size 17408 next 159\n",
      "2025-03-15 13:15:47.082630: I external/local_tsl/tsl/framework/bfc_allocator.cc:1095] InUse at 505660d00 of size 2048 next 193\n",
      "2025-03-15 13:15:47.082635: I external/local_tsl/tsl/framework/bfc_allocator.cc:1095] InUse at 505661500 of size 2048 next 191\n",
      "2025-03-15 13:15:47.082639: I external/local_tsl/tsl/framework/bfc_allocator.cc:1095] InUse at 505661d00 of size 2048 next 196\n",
      "2025-03-15 13:15:47.082644: I external/local_tsl/tsl/framework/bfc_allocator.cc:1095] InUse at 505662500 of size 2048 next 197\n",
      "2025-03-15 13:15:47.082648: I external/local_tsl/tsl/framework/bfc_allocator.cc:1095] InUse at 505662d00 of size 2048 next 195\n",
      "2025-03-15 13:15:47.082652: I external/local_tsl/tsl/framework/bfc_allocator.cc:1095] InUse at 505663500 of size 2048 next 199\n",
      "2025-03-15 13:15:47.082657: I external/local_tsl/tsl/framework/bfc_allocator.cc:1095] InUse at 505663d00 of size 256 next 201\n",
      "2025-03-15 13:15:47.082662: I external/local_tsl/tsl/framework/bfc_allocator.cc:1095] InUse at 505663e00 of size 2048 next 203\n",
      "2025-03-15 13:15:47.082667: I external/local_tsl/tsl/framework/bfc_allocator.cc:1095] InUse at 505664600 of size 256 next 200\n",
      "2025-03-15 13:15:47.082671: I external/local_tsl/tsl/framework/bfc_allocator.cc:1095] InUse at 505664700 of size 512 next 202\n",
      "2025-03-15 13:15:47.082675: I external/local_tsl/tsl/framework/bfc_allocator.cc:1095] InUse at 505664900 of size 512 next 206\n",
      "2025-03-15 13:15:47.082680: I external/local_tsl/tsl/framework/bfc_allocator.cc:1095] InUse at 505664b00 of size 512 next 207\n",
      "2025-03-15 13:15:47.082684: I external/local_tsl/tsl/framework/bfc_allocator.cc:1095] InUse at 505664d00 of size 512 next 210\n",
      "2025-03-15 13:15:47.082689: I external/local_tsl/tsl/framework/bfc_allocator.cc:1095] InUse at 505664f00 of size 256 next 211\n",
      "2025-03-15 13:15:47.082693: I external/local_tsl/tsl/framework/bfc_allocator.cc:1095] InUse at 505665000 of size 2816 next 212\n",
      "2025-03-15 13:15:47.082698: I external/local_tsl/tsl/framework/bfc_allocator.cc:1095] InUse at 505665b00 of size 4608 next 126\n",
      "2025-03-15 13:15:47.082702: I external/local_tsl/tsl/framework/bfc_allocator.cc:1095] InUse at 505666d00 of size 38400 next 127\n",
      "2025-03-15 13:15:47.082707: I external/local_tsl/tsl/framework/bfc_allocator.cc:1095] InUse at 505670300 of size 38400 next 132\n",
      "2025-03-15 13:15:47.082711: I external/local_tsl/tsl/framework/bfc_allocator.cc:1095] InUse at 505679900 of size 2816 next 213\n",
      "2025-03-15 13:15:47.082715: I external/local_tsl/tsl/framework/bfc_allocator.cc:1095] InUse at 50567a400 of size 2816 next 215\n",
      "2025-03-15 13:15:47.082720: I external/local_tsl/tsl/framework/bfc_allocator.cc:1095] InUse at 50567af00 of size 2816 next 218\n",
      "2025-03-15 13:15:47.082724: I external/local_tsl/tsl/framework/bfc_allocator.cc:1095] InUse at 50567ba00 of size 2816 next 219\n",
      "2025-03-15 13:15:47.082729: I external/local_tsl/tsl/framework/bfc_allocator.cc:1095] InUse at 50567c500 of size 2816 next 214\n",
      "2025-03-15 13:15:47.082733: I external/local_tsl/tsl/framework/bfc_allocator.cc:1095] InUse at 50567d000 of size 2816 next 222\n",
      "2025-03-15 13:15:47.082737: I external/local_tsl/tsl/framework/bfc_allocator.cc:1095] InUse at 50567db00 of size 256 next 223\n",
      "2025-03-15 13:15:47.082742: I external/local_tsl/tsl/framework/bfc_allocator.cc:1095] InUse at 50567dc00 of size 256 next 224\n",
      "2025-03-15 13:15:47.082746: I external/local_tsl/tsl/framework/bfc_allocator.cc:1095] InUse at 50567dd00 of size 2816 next 226\n",
      "2025-03-15 13:15:47.082751: I external/local_tsl/tsl/framework/bfc_allocator.cc:1095] InUse at 50567e800 of size 512 next 225\n",
      "2025-03-15 13:15:47.082755: I external/local_tsl/tsl/framework/bfc_allocator.cc:1095] InUse at 50567ea00 of size 512 next 230\n",
      "2025-03-15 13:15:47.082760: I external/local_tsl/tsl/framework/bfc_allocator.cc:1095] InUse at 50567ec00 of size 512 next 231\n",
      "2025-03-15 13:15:47.082764: I external/local_tsl/tsl/framework/bfc_allocator.cc:1095] InUse at 50567ee00 of size 512 next 228\n",
      "2025-03-15 13:15:47.082768: I external/local_tsl/tsl/framework/bfc_allocator.cc:1095] InUse at 50567f000 of size 256 next 233\n",
      "2025-03-15 13:15:47.082773: I external/local_tsl/tsl/framework/bfc_allocator.cc:1095] InUse at 50567f100 of size 2816 next 235\n",
      "2025-03-15 13:15:47.082777: I external/local_tsl/tsl/framework/bfc_allocator.cc:1095] InUse at 50567fc00 of size 2816 next 236\n",
      "2025-03-15 13:15:47.082782: I external/local_tsl/tsl/framework/bfc_allocator.cc:1095] InUse at 505680700 of size 2816 next 237\n",
      "2025-03-15 13:15:47.082786: I external/local_tsl/tsl/framework/bfc_allocator.cc:1095] InUse at 505681200 of size 2816 next 234\n",
      "2025-03-15 13:15:47.082790: I external/local_tsl/tsl/framework/bfc_allocator.cc:1095] InUse at 505681d00 of size 4608 next 205\n",
      "2025-03-15 13:15:47.082795: I external/local_tsl/tsl/framework/bfc_allocator.cc:1095] InUse at 505682f00 of size 38400 next 145\n",
      "2025-03-15 13:15:47.082799: I external/local_tsl/tsl/framework/bfc_allocator.cc:1095] InUse at 50568c500 of size 76800 next 146\n",
      "2025-03-15 13:15:47.082805: I external/local_tsl/tsl/framework/bfc_allocator.cc:1095] InUse at 50569f100 of size 38400 next 164\n",
      "2025-03-15 13:15:47.082809: I external/local_tsl/tsl/framework/bfc_allocator.cc:1095] InUse at 5056a8700 of size 38400 next 166\n",
      "2025-03-15 13:15:47.082814: I external/local_tsl/tsl/framework/bfc_allocator.cc:1095] InUse at 5056b1d00 of size 75264 next 227\n",
      "2025-03-15 13:15:47.082818: I external/local_tsl/tsl/framework/bfc_allocator.cc:1095] InUse at 5056c4300 of size 75264 next 229\n",
      "2025-03-15 13:15:47.082823: I external/local_tsl/tsl/framework/bfc_allocator.cc:1095] InUse at 5056d6900 of size 38400 next 378\n",
      "2025-03-15 13:15:47.082827: I external/local_tsl/tsl/framework/bfc_allocator.cc:1095] InUse at 5056dff00 of size 41472 next 153\n",
      "2025-03-15 13:15:47.082832: I external/local_tsl/tsl/framework/bfc_allocator.cc:1095] InUse at 5056ea100 of size 153600 next 154\n",
      "2025-03-15 13:15:47.082836: I external/local_tsl/tsl/framework/bfc_allocator.cc:1095] InUse at 50570f900 of size 38400 next 184\n",
      "2025-03-15 13:15:47.082841: I external/local_tsl/tsl/framework/bfc_allocator.cc:1095] InUse at 505718f00 of size 38400 next 186\n",
      "2025-03-15 13:15:47.082845: I external/local_tsl/tsl/framework/bfc_allocator.cc:1095] InUse at 505722500 of size 38400 next 204\n",
      "2025-03-15 13:15:47.082849: I external/local_tsl/tsl/framework/bfc_allocator.cc:1095] InUse at 50572bb00 of size 2816 next 240\n",
      "2025-03-15 13:15:47.082854: I external/local_tsl/tsl/framework/bfc_allocator.cc:1095] InUse at 50572c600 of size 2816 next 241\n",
      "2025-03-15 13:15:47.082858: I external/local_tsl/tsl/framework/bfc_allocator.cc:1095] InUse at 50572d100 of size 2816 next 239\n",
      "2025-03-15 13:15:47.082863: I external/local_tsl/tsl/framework/bfc_allocator.cc:1095] InUse at 50572dc00 of size 256 next 243\n",
      "2025-03-15 13:15:47.082867: I external/local_tsl/tsl/framework/bfc_allocator.cc:1095] InUse at 50572dd00 of size 2816 next 242\n",
      "2025-03-15 13:15:47.082872: I external/local_tsl/tsl/framework/bfc_allocator.cc:1095] InUse at 50572e800 of size 512 next 244\n",
      "2025-03-15 13:15:47.082876: I external/local_tsl/tsl/framework/bfc_allocator.cc:1095] InUse at 50572ea00 of size 512 next 248\n",
      "2025-03-15 13:15:47.082880: I external/local_tsl/tsl/framework/bfc_allocator.cc:1095] InUse at 50572ec00 of size 512 next 246\n",
      "2025-03-15 13:15:47.082885: I external/local_tsl/tsl/framework/bfc_allocator.cc:1095] InUse at 50572ee00 of size 512 next 251\n",
      "2025-03-15 13:15:47.082889: I external/local_tsl/tsl/framework/bfc_allocator.cc:1095] InUse at 50572f000 of size 256 next 252\n",
      "2025-03-15 13:15:47.082894: I external/local_tsl/tsl/framework/bfc_allocator.cc:1095] InUse at 50572f100 of size 2816 next 254\n",
      "2025-03-15 13:15:47.082898: I external/local_tsl/tsl/framework/bfc_allocator.cc:1095] InUse at 50572fc00 of size 2816 next 255\n",
      "2025-03-15 13:15:47.082903: I external/local_tsl/tsl/framework/bfc_allocator.cc:1095] InUse at 505730700 of size 2816 next 253\n",
      "2025-03-15 13:15:47.082907: I external/local_tsl/tsl/framework/bfc_allocator.cc:1095] InUse at 505731200 of size 2816 next 257\n",
      "2025-03-15 13:15:47.082911: I external/local_tsl/tsl/framework/bfc_allocator.cc:1095] InUse at 505731d00 of size 2816 next 259\n",
      "2025-03-15 13:15:47.082916: I external/local_tsl/tsl/framework/bfc_allocator.cc:1095] InUse at 505732800 of size 2816 next 260\n",
      "2025-03-15 13:15:47.082920: I external/local_tsl/tsl/framework/bfc_allocator.cc:1095] InUse at 505733300 of size 2816 next 258\n",
      "2025-03-15 13:15:47.082925: I external/local_tsl/tsl/framework/bfc_allocator.cc:1095] InUse at 505733e00 of size 4864 next 167\n",
      "2025-03-15 13:15:47.082929: I external/local_tsl/tsl/framework/bfc_allocator.cc:1095] InUse at 505735100 of size 153600 next 168\n",
      "2025-03-15 13:15:47.082934: I external/local_tsl/tsl/framework/bfc_allocator.cc:1095] InUse at 50575a900 of size 153600 next 174\n",
      "2025-03-15 13:15:47.082938: I external/local_tsl/tsl/framework/bfc_allocator.cc:1095] InUse at 505780100 of size 48128 next 198\n",
      "2025-03-15 13:15:47.082947: I external/local_tsl/tsl/framework/bfc_allocator.cc:1095] InUse at 50578bd00 of size 105472 next 187\n",
      "2025-03-15 13:15:47.082952: I external/local_tsl/tsl/framework/bfc_allocator.cc:1095] InUse at 5057a5900 of size 153600 next 188\n",
      "2025-03-15 13:15:47.082957: I external/local_tsl/tsl/framework/bfc_allocator.cc:1095] InUse at 5057cb100 of size 153600 next 194\n",
      "2025-03-15 13:15:47.082961: I external/local_tsl/tsl/framework/bfc_allocator.cc:1095] InUse at 5057f0900 of size 256 next 262\n",
      "2025-03-15 13:15:47.082966: I external/local_tsl/tsl/framework/bfc_allocator.cc:1095] InUse at 5057f0a00 of size 2816 next 261\n",
      "2025-03-15 13:15:47.082970: I external/local_tsl/tsl/framework/bfc_allocator.cc:1095] InUse at 5057f1500 of size 256 next 266\n",
      "2025-03-15 13:15:47.082975: I external/local_tsl/tsl/framework/bfc_allocator.cc:1095] InUse at 5057f1600 of size 768 next 263\n",
      "2025-03-15 13:15:47.082979: I external/local_tsl/tsl/framework/bfc_allocator.cc:1095] InUse at 5057f1900 of size 768 next 268\n",
      "2025-03-15 13:15:47.082983: I external/local_tsl/tsl/framework/bfc_allocator.cc:1095] InUse at 5057f1c00 of size 768 next 270\n",
      "2025-03-15 13:15:47.082988: I external/local_tsl/tsl/framework/bfc_allocator.cc:1095] InUse at 5057f1f00 of size 768 next 269\n",
      "2025-03-15 13:15:47.082992: I external/local_tsl/tsl/framework/bfc_allocator.cc:1095] InUse at 5057f2200 of size 256 next 273\n",
      "2025-03-15 13:15:47.082997: I external/local_tsl/tsl/framework/bfc_allocator.cc:1095] InUse at 5057f2300 of size 4608 next 274\n",
      "2025-03-15 13:15:47.083001: I external/local_tsl/tsl/framework/bfc_allocator.cc:1095] InUse at 5057f3500 of size 4608 next 275\n",
      "2025-03-15 13:15:47.083006: I external/local_tsl/tsl/framework/bfc_allocator.cc:1095] InUse at 5057f4700 of size 4608 next 276\n",
      "2025-03-15 13:15:47.083010: I external/local_tsl/tsl/framework/bfc_allocator.cc:1095] InUse at 5057f5900 of size 4608 next 279\n",
      "2025-03-15 13:15:47.083014: I external/local_tsl/tsl/framework/bfc_allocator.cc:1095] InUse at 5057f6b00 of size 4608 next 281\n",
      "2025-03-15 13:15:47.083019: I external/local_tsl/tsl/framework/bfc_allocator.cc:1095] InUse at 5057f7d00 of size 4608 next 282\n",
      "2025-03-15 13:15:47.083023: I external/local_tsl/tsl/framework/bfc_allocator.cc:1095] InUse at 5057f8f00 of size 4608 next 283\n",
      "2025-03-15 13:15:47.083028: I external/local_tsl/tsl/framework/bfc_allocator.cc:1095] InUse at 5057fa100 of size 4608 next 280\n",
      "2025-03-15 13:15:47.083032: I external/local_tsl/tsl/framework/bfc_allocator.cc:1095] InUse at 5057fb300 of size 256 next 285\n",
      "2025-03-15 13:15:47.083037: I external/local_tsl/tsl/framework/bfc_allocator.cc:1095] InUse at 5057fb400 of size 256 next 286\n",
      "2025-03-15 13:15:47.083041: I external/local_tsl/tsl/framework/bfc_allocator.cc:1095] InUse at 5057fb500 of size 4608 next 288\n",
      "2025-03-15 13:15:47.083046: I external/local_tsl/tsl/framework/bfc_allocator.cc:1095] InUse at 5057fc700 of size 768 next 287\n",
      "2025-03-15 13:15:47.083050: I external/local_tsl/tsl/framework/bfc_allocator.cc:1095] InUse at 5057fca00 of size 768 next 293\n",
      "2025-03-15 13:15:47.083054: I external/local_tsl/tsl/framework/bfc_allocator.cc:1095] InUse at 5057fcd00 of size 768 next 291\n",
      "2025-03-15 13:15:47.083059: I external/local_tsl/tsl/framework/bfc_allocator.cc:1095] InUse at 5057fd000 of size 768 next 296\n",
      "2025-03-15 13:15:47.083063: I external/local_tsl/tsl/framework/bfc_allocator.cc:1095] InUse at 5057fd300 of size 256 next 297\n",
      "2025-03-15 13:15:47.083068: I external/local_tsl/tsl/framework/bfc_allocator.cc:1095] InUse at 5057fd400 of size 4608 next 299\n",
      "2025-03-15 13:15:47.083072: I external/local_tsl/tsl/framework/bfc_allocator.cc:1095] InUse at 5057fe600 of size 4608 next 300\n",
      "2025-03-15 13:15:47.083077: I external/local_tsl/tsl/framework/bfc_allocator.cc:1095] InUse at 5057ff800 of size 6144 next 220\n",
      "2025-03-15 13:15:47.083081: I external/local_tsl/tsl/framework/bfc_allocator.cc:1095] InUse at 505801000 of size 67328 next 221\n",
      "2025-03-15 13:15:47.083086: I external/local_tsl/tsl/framework/bfc_allocator.cc:1095] InUse at 505811700 of size 80384 next 208\n",
      "2025-03-15 13:15:47.083090: I external/local_tsl/tsl/framework/bfc_allocator.cc:1095] InUse at 505825100 of size 215040 next 209\n",
      "2025-03-15 13:15:47.083096: I external/local_tsl/tsl/framework/bfc_allocator.cc:1095] InUse at 505859900 of size 75264 next 245\n",
      "2025-03-15 13:15:47.083100: I external/local_tsl/tsl/framework/bfc_allocator.cc:1095] InUse at 50586bf00 of size 75264 next 247\n",
      "2025-03-15 13:15:47.083105: I external/local_tsl/tsl/framework/bfc_allocator.cc:1095] InUse at 50587e500 of size 115200 next 305\n",
      "2025-03-15 13:15:47.083109: I external/local_tsl/tsl/framework/bfc_allocator.cc:1095] InUse at 50589a700 of size 41472 next 345\n",
      "2025-03-15 13:15:47.083114: I external/local_tsl/tsl/framework/bfc_allocator.cc:1095] InUse at 5058a4900 of size 256 next 364\n",
      "2025-03-15 13:15:47.083118: I external/local_tsl/tsl/framework/bfc_allocator.cc:1095] InUse at 5058a4a00 of size 256 next 365\n",
      "2025-03-15 13:15:47.083123: I external/local_tsl/tsl/framework/bfc_allocator.cc:1095] InUse at 5058a4b00 of size 512 next 366\n",
      "2025-03-15 13:15:47.083127: I external/local_tsl/tsl/framework/bfc_allocator.cc:1095] InUse at 5058a4d00 of size 256 next 367\n",
      "2025-03-15 13:15:47.083131: I external/local_tsl/tsl/framework/bfc_allocator.cc:1095] InUse at 5058a4e00 of size 256 next 368\n",
      "2025-03-15 13:15:47.083136: I external/local_tsl/tsl/framework/bfc_allocator.cc:1095] InUse at 5058a4f00 of size 256 next 370\n",
      "2025-03-15 13:15:47.083140: I external/local_tsl/tsl/framework/bfc_allocator.cc:1095] InUse at 5058a5000 of size 256 next 372\n",
      "2025-03-15 13:15:47.083145: I external/local_tsl/tsl/framework/bfc_allocator.cc:1095] InUse at 5058a5100 of size 256 next 373\n",
      "2025-03-15 13:15:47.083149: I external/local_tsl/tsl/framework/bfc_allocator.cc:1095] InUse at 5058a5200 of size 256 next 371\n",
      "2025-03-15 13:15:47.083153: I external/local_tsl/tsl/framework/bfc_allocator.cc:1095] InUse at 5058a5300 of size 256 next 374\n",
      "2025-03-15 13:15:47.083158: I external/local_tsl/tsl/framework/bfc_allocator.cc:1095] InUse at 5058a5400 of size 256 next 379\n",
      "2025-03-15 13:15:47.083162: I external/local_tsl/tsl/framework/bfc_allocator.cc:1095] InUse at 5058a5500 of size 256 next 382\n",
      "2025-03-15 13:15:47.083167: I external/local_tsl/tsl/framework/bfc_allocator.cc:1095] InUse at 5058a5600 of size 1024 next 384\n",
      "2025-03-15 13:15:47.083171: I external/local_tsl/tsl/framework/bfc_allocator.cc:1095] InUse at 5058a5a00 of size 1024 next 385\n",
      "2025-03-15 13:15:47.083176: I external/local_tsl/tsl/framework/bfc_allocator.cc:1095] InUse at 5058a5e00 of size 256 next 387\n",
      "2025-03-15 13:15:47.083180: I external/local_tsl/tsl/framework/bfc_allocator.cc:1095] InUse at 5058a5f00 of size 1024 next 375\n",
      "2025-03-15 13:15:47.083185: I external/local_tsl/tsl/framework/bfc_allocator.cc:1095] InUse at 5058a6300 of size 2048 next 376\n",
      "2025-03-15 13:15:47.083189: I external/local_tsl/tsl/framework/bfc_allocator.cc:1095] InUse at 5058a6b00 of size 23040 next 377\n",
      "2025-03-15 13:15:47.083194: I external/local_tsl/tsl/framework/bfc_allocator.cc:1095] InUse at 5058ac500 of size 41984 next 284\n",
      "2025-03-15 13:15:47.083198: I external/local_tsl/tsl/framework/bfc_allocator.cc:1095] InUse at 5058b6900 of size 221184 next 216\n",
      "2025-03-15 13:15:47.083203: I external/local_tsl/tsl/framework/bfc_allocator.cc:1095] InUse at 5058ec900 of size 301056 next 217\n",
      "2025-03-15 13:15:47.083211: I external/local_tsl/tsl/framework/bfc_allocator.cc:1095] InUse at 505936100 of size 301056 next 232\n",
      "2025-03-15 13:15:47.083216: I external/local_tsl/tsl/framework/bfc_allocator.cc:1095] InUse at 50597f900 of size 301056 next 238\n",
      "2025-03-15 13:15:47.083221: I external/local_tsl/tsl/framework/bfc_allocator.cc:1095] InUse at 5059c9100 of size 4608 next 298\n",
      "2025-03-15 13:15:47.083225: I external/local_tsl/tsl/framework/bfc_allocator.cc:1095] InUse at 5059ca300 of size 4608 next 303\n",
      "2025-03-15 13:15:47.083229: I external/local_tsl/tsl/framework/bfc_allocator.cc:1095] InUse at 5059cb500 of size 4608 next 304\n",
      "2025-03-15 13:15:47.083234: I external/local_tsl/tsl/framework/bfc_allocator.cc:1095] InUse at 5059cc700 of size 4608 next 302\n",
      "2025-03-15 13:15:47.083238: I external/local_tsl/tsl/framework/bfc_allocator.cc:1095] InUse at 5059cd900 of size 4608 next 306\n",
      "2025-03-15 13:15:47.083243: I external/local_tsl/tsl/framework/bfc_allocator.cc:1095] InUse at 5059ceb00 of size 256 next 308\n",
      "2025-03-15 13:15:47.083248: I external/local_tsl/tsl/framework/bfc_allocator.cc:1095] InUse at 5059cec00 of size 4608 next 307\n",
      "2025-03-15 13:15:47.083252: I external/local_tsl/tsl/framework/bfc_allocator.cc:1095] InUse at 5059cfe00 of size 768 next 309\n",
      "2025-03-15 13:15:47.083257: I external/local_tsl/tsl/framework/bfc_allocator.cc:1095] InUse at 5059d0100 of size 768 next 313\n",
      "2025-03-15 13:15:47.083261: I external/local_tsl/tsl/framework/bfc_allocator.cc:1095] InUse at 5059d0400 of size 768 next 311\n",
      "2025-03-15 13:15:47.083266: I external/local_tsl/tsl/framework/bfc_allocator.cc:1095] InUse at 5059d0700 of size 768 next 316\n",
      "2025-03-15 13:15:47.083270: I external/local_tsl/tsl/framework/bfc_allocator.cc:1095] InUse at 5059d0a00 of size 256 next 317\n",
      "2025-03-15 13:15:47.083274: I external/local_tsl/tsl/framework/bfc_allocator.cc:1095] InUse at 5059d0b00 of size 4608 next 319\n",
      "2025-03-15 13:15:47.083279: I external/local_tsl/tsl/framework/bfc_allocator.cc:1095] InUse at 5059d1d00 of size 4608 next 320\n",
      "2025-03-15 13:15:47.083283: I external/local_tsl/tsl/framework/bfc_allocator.cc:1095] InUse at 5059d2f00 of size 4608 next 318\n",
      "2025-03-15 13:15:47.083288: I external/local_tsl/tsl/framework/bfc_allocator.cc:1095] InUse at 5059d4100 of size 4608 next 322\n",
      "2025-03-15 13:15:47.083292: I external/local_tsl/tsl/framework/bfc_allocator.cc:1095] InUse at 5059d5300 of size 4608 next 324\n",
      "2025-03-15 13:15:47.083296: I external/local_tsl/tsl/framework/bfc_allocator.cc:1095] InUse at 5059d6500 of size 4608 next 325\n",
      "2025-03-15 13:15:47.083301: I external/local_tsl/tsl/framework/bfc_allocator.cc:1095] InUse at 5059d7700 of size 4608 next 323\n",
      "2025-03-15 13:15:47.083305: I external/local_tsl/tsl/framework/bfc_allocator.cc:1095] InUse at 5059d8900 of size 4608 next 326\n",
      "2025-03-15 13:15:47.083310: I external/local_tsl/tsl/framework/bfc_allocator.cc:1095] InUse at 5059d9b00 of size 256 next 328\n",
      "2025-03-15 13:15:47.083314: I external/local_tsl/tsl/framework/bfc_allocator.cc:1095] InUse at 5059d9c00 of size 6912 next 264\n",
      "2025-03-15 13:15:47.083319: I external/local_tsl/tsl/framework/bfc_allocator.cc:1095] InUse at 5059db700 of size 75264 next 265\n",
      "2025-03-15 13:15:47.083323: I external/local_tsl/tsl/framework/bfc_allocator.cc:1095] InUse at 5059edd00 of size 75264 next 267\n",
      "2025-03-15 13:15:47.083327: I external/local_tsl/tsl/framework/bfc_allocator.cc:1095] InUse at 505a00300 of size 768 next 331\n",
      "2025-03-15 13:15:47.083332: I external/local_tsl/tsl/framework/bfc_allocator.cc:1095] InUse at 505a00600 of size 768 next 329\n",
      "2025-03-15 13:15:47.083336: I external/local_tsl/tsl/framework/bfc_allocator.cc:1095] InUse at 505a00900 of size 768 next 327\n",
      "2025-03-15 13:15:47.083341: I external/local_tsl/tsl/framework/bfc_allocator.cc:1095] InUse at 505a00c00 of size 768 next 335\n",
      "2025-03-15 13:15:47.083345: I external/local_tsl/tsl/framework/bfc_allocator.cc:1095] InUse at 505a00f00 of size 256 next 336\n",
      "2025-03-15 13:15:47.083350: I external/local_tsl/tsl/framework/bfc_allocator.cc:1095] InUse at 505a01000 of size 4608 next 338\n",
      "2025-03-15 13:15:47.083354: I external/local_tsl/tsl/framework/bfc_allocator.cc:1095] InUse at 505a02200 of size 4608 next 339\n",
      "2025-03-15 13:15:47.083358: I external/local_tsl/tsl/framework/bfc_allocator.cc:1095] InUse at 505a03400 of size 4608 next 337\n",
      "2025-03-15 13:15:47.083363: I external/local_tsl/tsl/framework/bfc_allocator.cc:1095] InUse at 505a04600 of size 4608 next 341\n",
      "2025-03-15 13:15:47.083367: I external/local_tsl/tsl/framework/bfc_allocator.cc:1095] InUse at 505a05800 of size 4608 next 343\n",
      "2025-03-15 13:15:47.083372: I external/local_tsl/tsl/framework/bfc_allocator.cc:1095] InUse at 505a06a00 of size 4608 next 344\n",
      "2025-03-15 13:15:47.083376: I external/local_tsl/tsl/framework/bfc_allocator.cc:1095] InUse at 505a07c00 of size 4608 next 342\n",
      "2025-03-15 13:15:47.083381: I external/local_tsl/tsl/framework/bfc_allocator.cc:1095] InUse at 505a08e00 of size 4608 next 346\n",
      "2025-03-15 13:15:47.083386: I external/local_tsl/tsl/framework/bfc_allocator.cc:1095] InUse at 505a0a000 of size 256 next 348\n",
      "2025-03-15 13:15:47.083390: I external/local_tsl/tsl/framework/bfc_allocator.cc:1095] InUse at 505a0a100 of size 4608 next 347\n",
      "2025-03-15 13:15:47.083395: I external/local_tsl/tsl/framework/bfc_allocator.cc:1095] InUse at 505a0b300 of size 256 next 351\n",
      "2025-03-15 13:15:47.083399: I external/local_tsl/tsl/framework/bfc_allocator.cc:1095] InUse at 505a0b400 of size 1280 next 349\n",
      "2025-03-15 13:15:47.083403: I external/local_tsl/tsl/framework/bfc_allocator.cc:1095] InUse at 505a0b900 of size 1280 next 353\n",
      "2025-03-15 13:15:47.083408: I external/local_tsl/tsl/framework/bfc_allocator.cc:1095] InUse at 505a0be00 of size 1280 next 355\n",
      "2025-03-15 13:15:47.083412: I external/local_tsl/tsl/framework/bfc_allocator.cc:1095] InUse at 505a0c300 of size 1280 next 354\n",
      "2025-03-15 13:15:47.083417: I external/local_tsl/tsl/framework/bfc_allocator.cc:1095] InUse at 505a0c800 of size 256 next 358\n",
      "2025-03-15 13:15:47.083421: I external/local_tsl/tsl/framework/bfc_allocator.cc:1095] InUse at 505a0c900 of size 5120 next 359\n",
      "2025-03-15 13:15:47.083426: I external/local_tsl/tsl/framework/bfc_allocator.cc:1095] InUse at 505a0dd00 of size 5120 next 360\n",
      "2025-03-15 13:15:47.083430: I external/local_tsl/tsl/framework/bfc_allocator.cc:1095] InUse at 505a0f100 of size 5120 next 361\n",
      "2025-03-15 13:15:47.083434: I external/local_tsl/tsl/framework/bfc_allocator.cc:1095] InUse at 505a10500 of size 9216 next 249\n",
      "2025-03-15 13:15:47.083439: I external/local_tsl/tsl/framework/bfc_allocator.cc:1095] InUse at 505a12900 of size 301056 next 250\n",
      "2025-03-15 13:15:47.083443: I external/local_tsl/tsl/framework/bfc_allocator.cc:1095] InUse at 505a5c100 of size 301056 next 256\n",
      "2025-03-15 13:15:47.083448: I external/local_tsl/tsl/framework/bfc_allocator.cc:1095] InUse at 505aa5900 of size 3584 next 406\n",
      "2025-03-15 13:15:47.083452: I external/local_tsl/tsl/framework/bfc_allocator.cc:1095] InUse at 505aa6700 of size 115200 next 407\n",
      "2025-03-15 13:15:47.083457: I external/local_tsl/tsl/framework/bfc_allocator.cc:1095] InUse at 505ac2900 of size 913408 next 271\n",
      "2025-03-15 13:15:47.083461: I external/local_tsl/tsl/framework/bfc_allocator.cc:1095] InUse at 505ba1900 of size 516096 next 272\n",
      "2025-03-15 13:15:47.083466: I external/local_tsl/tsl/framework/bfc_allocator.cc:1095] InUse at 505c1f900 of size 8704 next 380\n",
      "2025-03-15 13:15:47.083470: I external/local_tsl/tsl/framework/bfc_allocator.cc:1095] InUse at 505c21b00 of size 9728 next 381\n",
      "2025-03-15 13:15:47.083475: I external/local_tsl/tsl/framework/bfc_allocator.cc:1095] InUse at 505c24100 of size 9728 next 383\n",
      "2025-03-15 13:15:47.083479: I external/local_tsl/tsl/framework/bfc_allocator.cc:1095] InUse at 505c26700 of size 76800 next 386\n",
      "2025-03-15 13:15:47.083483: I external/local_tsl/tsl/framework/bfc_allocator.cc:1095] InUse at 505c39300 of size 17408 next 388\n",
      "2025-03-15 13:15:47.083488: I external/local_tsl/tsl/framework/bfc_allocator.cc:1095] InUse at 505c3d700 of size 512 next 389\n",
      "2025-03-15 13:15:47.083492: I external/local_tsl/tsl/framework/bfc_allocator.cc:1095] InUse at 505c3d900 of size 48128 next 390\n",
      "2025-03-15 13:15:47.083497: I external/local_tsl/tsl/framework/bfc_allocator.cc:1095] InUse at 505c49500 of size 50176 next 289\n",
      "2025-03-15 13:15:47.083501: I external/local_tsl/tsl/framework/bfc_allocator.cc:1095] InUse at 505c55900 of size 221184 next 290\n",
      "2025-03-15 13:15:47.083506: I external/local_tsl/tsl/framework/bfc_allocator.cc:1095] InUse at 505c8b900 of size 221184 next 292\n",
      "2025-03-15 13:15:47.083510: I external/local_tsl/tsl/framework/bfc_allocator.cc:1095] InUse at 505cc1900 of size 221184 next 277\n",
      "2025-03-15 13:15:47.083515: I external/local_tsl/tsl/framework/bfc_allocator.cc:1095] InUse at 505cf7900 of size 884736 next 278\n",
      "2025-03-15 13:15:47.083519: I external/local_tsl/tsl/framework/bfc_allocator.cc:1095] InUse at 505dcf900 of size 221184 next 310\n",
      "2025-03-15 13:15:47.083524: I external/local_tsl/tsl/framework/bfc_allocator.cc:1095] InUse at 505e05900 of size 221184 next 312\n",
      "2025-03-15 13:15:47.083529: I external/local_tsl/tsl/framework/bfc_allocator.cc:1095] InUse at 505e3b900 of size 221184 next 330\n",
      "2025-03-15 13:15:47.083533: I external/local_tsl/tsl/framework/bfc_allocator.cc:1095] InUse at 505e71900 of size 221184 next 294\n",
      "2025-03-15 13:15:47.083538: I external/local_tsl/tsl/framework/bfc_allocator.cc:1095] InUse at 505ea7900 of size 884736 next 295\n",
      "2025-03-15 13:15:47.083542: I external/local_tsl/tsl/framework/bfc_allocator.cc:1095] InUse at 505f7f900 of size 884736 next 301\n",
      "2025-03-15 13:15:47.083547: I external/local_tsl/tsl/framework/bfc_allocator.cc:1095] InUse at 506057900 of size 221184 next 332\n",
      "2025-03-15 13:15:47.083551: I external/local_tsl/tsl/framework/bfc_allocator.cc:1095] InUse at 50608d900 of size 221184 next 350\n",
      "2025-03-15 13:15:47.083556: I external/local_tsl/tsl/framework/bfc_allocator.cc:1095] InUse at 5060c3900 of size 221184 next 352\n",
      "2025-03-15 13:15:47.083560: I external/local_tsl/tsl/framework/bfc_allocator.cc:1095] InUse at 5060f9900 of size 221184 next 314\n",
      "2025-03-15 13:15:47.083565: I external/local_tsl/tsl/framework/bfc_allocator.cc:1095] InUse at 50612f900 of size 884736 next 315\n",
      "2025-03-15 13:15:47.083569: I external/local_tsl/tsl/framework/bfc_allocator.cc:1095] InUse at 506207900 of size 884736 next 321\n",
      "2025-03-15 13:15:47.083573: I external/local_tsl/tsl/framework/bfc_allocator.cc:1095] InUse at 5062df900 of size 256 next 391\n",
      "2025-03-15 13:15:47.083578: I external/local_tsl/tsl/framework/bfc_allocator.cc:1095] InUse at 5062dfa00 of size 38400 next 392\n",
      "2025-03-15 13:15:47.083582: I external/local_tsl/tsl/framework/bfc_allocator.cc:1095] InUse at 5062e9000 of size 2048 next 393\n",
      "2025-03-15 13:15:47.083587: I external/local_tsl/tsl/framework/bfc_allocator.cc:1095] InUse at 5062e9800 of size 2048 next 394\n",
      "2025-03-15 13:15:47.083591: I external/local_tsl/tsl/framework/bfc_allocator.cc:1095] InUse at 5062ea000 of size 215040 next 395\n",
      "2025-03-15 13:15:47.083596: I external/local_tsl/tsl/framework/bfc_allocator.cc:1095] InUse at 50631e800 of size 256 next 396\n",
      "2025-03-15 13:15:47.083600: I external/local_tsl/tsl/framework/bfc_allocator.cc:1095] InUse at 50631e900 of size 301056 next 397\n",
      "2025-03-15 13:15:47.083605: I external/local_tsl/tsl/framework/bfc_allocator.cc:1095] InUse at 506368100 of size 512 next 398\n",
      "2025-03-15 13:15:47.083609: I external/local_tsl/tsl/framework/bfc_allocator.cc:1095] InUse at 506368300 of size 325120 next 333\n",
      "2025-03-15 13:15:47.083614: I external/local_tsl/tsl/framework/bfc_allocator.cc:1095] InUse at 5063b7900 of size 884736 next 334\n",
      "2025-03-15 13:15:47.083618: I external/local_tsl/tsl/framework/bfc_allocator.cc:1095] InUse at 50648f900 of size 884736 next 340\n",
      "2025-03-15 13:15:47.083623: I external/local_tsl/tsl/framework/bfc_allocator.cc:1095] InUse at 506567900 of size 768 next 408\n",
      "2025-03-15 13:15:47.083627: I external/local_tsl/tsl/framework/bfc_allocator.cc:1095] InUse at 506567c00 of size 884736 next 409\n",
      "2025-03-15 13:15:47.083632: I external/local_tsl/tsl/framework/bfc_allocator.cc:1095] InUse at 50663fc00 of size 41472 next 410\n",
      "2025-03-15 13:15:47.083636: I external/local_tsl/tsl/framework/bfc_allocator.cc:1095] InUse at 506649e00 of size 221184 next 411\n",
      "2025-03-15 13:15:47.083646: I external/local_tsl/tsl/framework/bfc_allocator.cc:1095] InUse at 50667fe00 of size 256 next 412\n",
      "2025-03-15 13:15:47.083651: I external/local_tsl/tsl/framework/bfc_allocator.cc:1095] InUse at 50667ff00 of size 221184 next 413\n",
      "2025-03-15 13:15:47.083655: I external/local_tsl/tsl/framework/bfc_allocator.cc:1095] InUse at 5066b5f00 of size 1536 next 414\n",
      "2025-03-15 13:15:47.083660: I external/local_tsl/tsl/framework/bfc_allocator.cc:1095] InUse at 5066b6500 of size 4608 next 415\n",
      "2025-03-15 13:15:47.083664: I external/local_tsl/tsl/framework/bfc_allocator.cc:1095] InUse at 5066b7700 of size 1573376 next 356\n",
      "2025-03-15 13:15:47.083669: I external/local_tsl/tsl/framework/bfc_allocator.cc:1095] InUse at 506837900 of size 1474560 next 357\n",
      "2025-03-15 13:15:47.083725: I external/local_tsl/tsl/framework/bfc_allocator.cc:1095] InUse at 50699f900 of size 655360 next 369\n",
      "2025-03-15 13:15:47.083734: I external/local_tsl/tsl/framework/bfc_allocator.cc:1095] InUse at 506a3f900 of size 6144 next 399\n",
      "2025-03-15 13:15:47.083740: I external/local_tsl/tsl/framework/bfc_allocator.cc:1095] InUse at 506a41100 of size 67328 next 400\n",
      "2025-03-15 13:15:47.083744: I external/local_tsl/tsl/framework/bfc_allocator.cc:1095] InUse at 506a51800 of size 3584 next 401\n",
      "2025-03-15 13:15:47.083749: I external/local_tsl/tsl/framework/bfc_allocator.cc:1095] InUse at 506a52600 of size 75264 next 402\n",
      "2025-03-15 13:15:47.083753: I external/local_tsl/tsl/framework/bfc_allocator.cc:1095] InUse at 506a64c00 of size 256 next 403\n",
      "2025-03-15 13:15:47.083758: I external/local_tsl/tsl/framework/bfc_allocator.cc:1095] InUse at 506a64d00 of size 75264 next 404\n",
      "2025-03-15 13:15:47.083762: I external/local_tsl/tsl/framework/bfc_allocator.cc:1095] InUse at 506a77300 of size 2816 next 405\n",
      "2025-03-15 13:15:47.083767: I external/local_tsl/tsl/framework/bfc_allocator.cc:1095] InUse at 506a77e00 of size 752384 next 362\n",
      "2025-03-15 13:15:47.083771: I external/local_tsl/tsl/framework/bfc_allocator.cc:1095] InUse at 506b2f900 of size 1638400 next 363\n",
      "2025-03-15 13:15:47.083776: I external/local_tsl/tsl/framework/bfc_allocator.cc:1095] InUse at 506cbf900 of size 1280 next 416\n",
      "2025-03-15 13:15:47.083781: I external/local_tsl/tsl/framework/bfc_allocator.cc:1095] InUse at 506cbfe00 of size 1638400 next 417\n",
      "2025-03-15 13:15:47.083785: I external/local_tsl/tsl/framework/bfc_allocator.cc:1095] InUse at 506e4fe00 of size 5120 next 418\n",
      "2025-03-15 13:15:47.083789: I external/local_tsl/tsl/framework/bfc_allocator.cc:1095] InUse at 506e51200 of size 655360 next 419\n",
      "2025-03-15 13:15:47.083794: I external/local_tsl/tsl/framework/bfc_allocator.cc:1095] InUse at 506ef1200 of size 512 next 420\n",
      "2025-03-15 13:15:47.083798: I external/local_tsl/tsl/framework/bfc_allocator.cc:1095] InUse at 506ef1400 of size 2048 next 421\n",
      "2025-03-15 13:15:47.083803: I external/local_tsl/tsl/framework/bfc_allocator.cc:1095] InUse at 506ef1c00 of size 256 next 422\n",
      "2025-03-15 13:15:47.083807: I external/local_tsl/tsl/framework/bfc_allocator.cc:1095] InUse at 506ef1d00 of size 256 next 423\n",
      "2025-03-15 13:15:47.083812: I external/local_tsl/tsl/framework/bfc_allocator.cc:1095] InUse at 506ef1e00 of size 1536 next 424\n",
      "2025-03-15 13:15:47.083816: I external/local_tsl/tsl/framework/bfc_allocator.cc:1095] InUse at 506ef2400 of size 512 next 425\n",
      "2025-03-15 13:15:47.083821: I external/local_tsl/tsl/framework/bfc_allocator.cc:1095] InUse at 506ef2600 of size 9216 next 426\n",
      "2025-03-15 13:15:47.083825: I external/local_tsl/tsl/framework/bfc_allocator.cc:1095] InUse at 506ef4a00 of size 5376 next 427\n",
      "2025-03-15 13:15:47.083829: I external/local_tsl/tsl/framework/bfc_allocator.cc:1095] InUse at 506ef5f00 of size 256 next 428\n",
      "2025-03-15 13:15:47.083834: I external/local_tsl/tsl/framework/bfc_allocator.cc:1095] InUse at 506ef6000 of size 13824 next 429\n",
      "2025-03-15 13:15:47.083838: I external/local_tsl/tsl/framework/bfc_allocator.cc:1095] InUse at 506ef9600 of size 256 next 430\n",
      "2025-03-15 13:15:47.083843: I external/local_tsl/tsl/framework/bfc_allocator.cc:1095] InUse at 506ef9700 of size 13824 next 431\n",
      "2025-03-15 13:15:47.083847: I external/local_tsl/tsl/framework/bfc_allocator.cc:1095] InUse at 506efcd00 of size 14592 next 432\n",
      "2025-03-15 13:15:47.083851: I external/local_tsl/tsl/framework/bfc_allocator.cc:1095] InUse at 506f00600 of size 1280 next 433\n",
      "2025-03-15 13:15:47.083856: I external/local_tsl/tsl/framework/bfc_allocator.cc:1095] InUse at 506f00b00 of size 3584 next 434\n",
      "2025-03-15 13:15:47.083860: I external/local_tsl/tsl/framework/bfc_allocator.cc:1095] InUse at 506f01900 of size 256 next 435\n",
      "2025-03-15 13:15:47.083865: I external/local_tsl/tsl/framework/bfc_allocator.cc:1095] InUse at 506f01a00 of size 3584 next 436\n",
      "2025-03-15 13:15:47.083869: I external/local_tsl/tsl/framework/bfc_allocator.cc:1095] InUse at 506f02800 of size 768 next 437\n",
      "2025-03-15 13:15:47.083875: I external/local_tsl/tsl/framework/bfc_allocator.cc:1095] InUse at 506f02b00 of size 16128 next 438\n",
      "2025-03-15 13:15:47.083880: I external/local_tsl/tsl/framework/bfc_allocator.cc:1095] InUse at 506f06a00 of size 196608000 next 439\n",
      "2025-03-15 13:15:47.083884: I external/local_tsl/tsl/framework/bfc_allocator.cc:1095] InUse at 512a86a00 of size 6144 next 443\n",
      "2025-03-15 13:15:47.083889: I external/local_tsl/tsl/framework/bfc_allocator.cc:1095] InUse at 512a88200 of size 256 next 441\n",
      "2025-03-15 13:15:47.083893: I external/local_tsl/tsl/framework/bfc_allocator.cc:1095] InUse at 512a88300 of size 256 next 442\n",
      "2025-03-15 13:15:47.083898: I external/local_tsl/tsl/framework/bfc_allocator.cc:1095] Free  at 512a88400 of size 5610372096 next 18446744073709551615\n",
      "2025-03-15 13:15:47.083903: I external/local_tsl/tsl/framework/bfc_allocator.cc:1100]      Summary of in-use Chunks by size: \n",
      "2025-03-15 13:15:47.083910: I external/local_tsl/tsl/framework/bfc_allocator.cc:1103] 112 Chunks of size 256 totalling 28.0KiB\n",
      "2025-03-15 13:15:47.083915: I external/local_tsl/tsl/framework/bfc_allocator.cc:1103] 38 Chunks of size 512 totalling 19.0KiB\n",
      "2025-03-15 13:15:47.083921: I external/local_tsl/tsl/framework/bfc_allocator.cc:1103] 35 Chunks of size 768 totalling 26.2KiB\n",
      "2025-03-15 13:15:47.083925: I external/local_tsl/tsl/framework/bfc_allocator.cc:1103] 20 Chunks of size 1024 totalling 20.0KiB\n",
      "2025-03-15 13:15:47.083930: I external/local_tsl/tsl/framework/bfc_allocator.cc:1103] 10 Chunks of size 1280 totalling 12.5KiB\n",
      "2025-03-15 13:15:47.083935: I external/local_tsl/tsl/framework/bfc_allocator.cc:1103] 4 Chunks of size 1536 totalling 6.0KiB\n",
      "2025-03-15 13:15:47.083940: I external/local_tsl/tsl/framework/bfc_allocator.cc:1103] 1 Chunks of size 1792 totalling 1.8KiB\n",
      "2025-03-15 13:15:47.083945: I external/local_tsl/tsl/framework/bfc_allocator.cc:1103] 30 Chunks of size 2048 totalling 60.0KiB\n",
      "2025-03-15 13:15:47.083950: I external/local_tsl/tsl/framework/bfc_allocator.cc:1103] 2 Chunks of size 2560 totalling 5.0KiB\n",
      "2025-03-15 13:15:47.083955: I external/local_tsl/tsl/framework/bfc_allocator.cc:1103] 25 Chunks of size 2816 totalling 68.8KiB\n",
      "2025-03-15 13:15:47.083960: I external/local_tsl/tsl/framework/bfc_allocator.cc:1103] 1 Chunks of size 3328 totalling 3.2KiB\n",
      "2025-03-15 13:15:47.083964: I external/local_tsl/tsl/framework/bfc_allocator.cc:1103] 9 Chunks of size 3584 totalling 31.5KiB\n",
      "2025-03-15 13:15:47.083969: I external/local_tsl/tsl/framework/bfc_allocator.cc:1103] 37 Chunks of size 4608 totalling 166.5KiB\n",
      "2025-03-15 13:15:47.083974: I external/local_tsl/tsl/framework/bfc_allocator.cc:1103] 1 Chunks of size 4864 totalling 4.8KiB\n",
      "2025-03-15 13:15:47.083979: I external/local_tsl/tsl/framework/bfc_allocator.cc:1103] 5 Chunks of size 5120 totalling 25.0KiB\n",
      "2025-03-15 13:15:47.083984: I external/local_tsl/tsl/framework/bfc_allocator.cc:1103] 2 Chunks of size 5376 totalling 10.5KiB\n",
      "2025-03-15 13:15:47.083989: I external/local_tsl/tsl/framework/bfc_allocator.cc:1103] 4 Chunks of size 6144 totalling 24.0KiB\n",
      "2025-03-15 13:15:47.083993: I external/local_tsl/tsl/framework/bfc_allocator.cc:1103] 1 Chunks of size 6912 totalling 6.8KiB\n",
      "2025-03-15 13:15:47.083998: I external/local_tsl/tsl/framework/bfc_allocator.cc:1103] 2 Chunks of size 8704 totalling 17.0KiB\n",
      "2025-03-15 13:15:47.084003: I external/local_tsl/tsl/framework/bfc_allocator.cc:1103] 3 Chunks of size 9216 totalling 27.0KiB\n",
      "2025-03-15 13:15:47.084008: I external/local_tsl/tsl/framework/bfc_allocator.cc:1103] 4 Chunks of size 9728 totalling 38.0KiB\n",
      "2025-03-15 13:15:47.084012: I external/local_tsl/tsl/framework/bfc_allocator.cc:1103] 1 Chunks of size 13312 totalling 13.0KiB\n",
      "2025-03-15 13:15:47.084017: I external/local_tsl/tsl/framework/bfc_allocator.cc:1103] 5 Chunks of size 13824 totalling 67.5KiB\n",
      "2025-03-15 13:15:47.084022: I external/local_tsl/tsl/framework/bfc_allocator.cc:1103] 2 Chunks of size 14592 totalling 28.5KiB\n",
      "2025-03-15 13:15:47.084027: I external/local_tsl/tsl/framework/bfc_allocator.cc:1103] 1 Chunks of size 16128 totalling 15.8KiB\n",
      "2025-03-15 13:15:47.084032: I external/local_tsl/tsl/framework/bfc_allocator.cc:1103] 3 Chunks of size 17408 totalling 51.0KiB\n",
      "2025-03-15 13:15:47.084037: I external/local_tsl/tsl/framework/bfc_allocator.cc:1103] 1 Chunks of size 18944 totalling 18.5KiB\n",
      "2025-03-15 13:15:47.084041: I external/local_tsl/tsl/framework/bfc_allocator.cc:1103] 2 Chunks of size 23040 totalling 45.0KiB\n",
      "2025-03-15 13:15:47.084046: I external/local_tsl/tsl/framework/bfc_allocator.cc:1103] 1 Chunks of size 24064 totalling 23.5KiB\n",
      "2025-03-15 13:15:47.084051: I external/local_tsl/tsl/framework/bfc_allocator.cc:1103] 11 Chunks of size 38400 totalling 412.5KiB\n",
      "2025-03-15 13:15:47.084056: I external/local_tsl/tsl/framework/bfc_allocator.cc:1103] 3 Chunks of size 41472 totalling 121.5KiB\n",
      "2025-03-15 13:15:47.084061: I external/local_tsl/tsl/framework/bfc_allocator.cc:1103] 1 Chunks of size 41984 totalling 41.0KiB\n",
      "2025-03-15 13:15:47.084066: I external/local_tsl/tsl/framework/bfc_allocator.cc:1103] 2 Chunks of size 48128 totalling 94.0KiB\n",
      "2025-03-15 13:15:47.084070: I external/local_tsl/tsl/framework/bfc_allocator.cc:1103] 1 Chunks of size 50176 totalling 49.0KiB\n",
      "2025-03-15 13:15:47.084075: I external/local_tsl/tsl/framework/bfc_allocator.cc:1103] 2 Chunks of size 67328 totalling 131.5KiB\n",
      "2025-03-15 13:15:47.084080: I external/local_tsl/tsl/framework/bfc_allocator.cc:1103] 8 Chunks of size 75264 totalling 588.0KiB\n",
      "2025-03-15 13:15:47.084085: I external/local_tsl/tsl/framework/bfc_allocator.cc:1103] 2 Chunks of size 76800 totalling 150.0KiB\n",
      "2025-03-15 13:15:47.084090: I external/local_tsl/tsl/framework/bfc_allocator.cc:1103] 1 Chunks of size 80384 totalling 78.5KiB\n",
      "2025-03-15 13:15:47.084095: I external/local_tsl/tsl/framework/bfc_allocator.cc:1103] 1 Chunks of size 105472 totalling 103.0KiB\n",
      "2025-03-15 13:15:47.084099: I external/local_tsl/tsl/framework/bfc_allocator.cc:1103] 2 Chunks of size 115200 totalling 225.0KiB\n",
      "2025-03-15 13:15:47.084104: I external/local_tsl/tsl/framework/bfc_allocator.cc:1103] 5 Chunks of size 153600 totalling 750.0KiB\n",
      "2025-03-15 13:15:47.084109: I external/local_tsl/tsl/framework/bfc_allocator.cc:1103] 2 Chunks of size 215040 totalling 420.0KiB\n",
      "2025-03-15 13:15:47.084114: I external/local_tsl/tsl/framework/bfc_allocator.cc:1103] 14 Chunks of size 221184 totalling 2.95MiB\n",
      "2025-03-15 13:15:47.084119: I external/local_tsl/tsl/framework/bfc_allocator.cc:1103] 6 Chunks of size 301056 totalling 1.72MiB\n",
      "2025-03-15 13:15:47.084124: I external/local_tsl/tsl/framework/bfc_allocator.cc:1103] 1 Chunks of size 325120 totalling 317.5KiB\n",
      "2025-03-15 13:15:47.084128: I external/local_tsl/tsl/framework/bfc_allocator.cc:1103] 1 Chunks of size 516096 totalling 504.0KiB\n",
      "2025-03-15 13:15:47.084133: I external/local_tsl/tsl/framework/bfc_allocator.cc:1103] 2 Chunks of size 655360 totalling 1.25MiB\n",
      "2025-03-15 13:15:47.084138: I external/local_tsl/tsl/framework/bfc_allocator.cc:1103] 1 Chunks of size 752384 totalling 734.8KiB\n",
      "2025-03-15 13:15:47.084143: I external/local_tsl/tsl/framework/bfc_allocator.cc:1103] 8 Chunks of size 884736 totalling 6.75MiB\n",
      "2025-03-15 13:15:47.084148: I external/local_tsl/tsl/framework/bfc_allocator.cc:1103] 1 Chunks of size 913408 totalling 892.0KiB\n",
      "2025-03-15 13:15:47.084153: I external/local_tsl/tsl/framework/bfc_allocator.cc:1103] 1 Chunks of size 1474560 totalling 1.41MiB\n",
      "2025-03-15 13:15:47.084157: I external/local_tsl/tsl/framework/bfc_allocator.cc:1103] 1 Chunks of size 1573376 totalling 1.50MiB\n",
      "2025-03-15 13:15:47.084162: I external/local_tsl/tsl/framework/bfc_allocator.cc:1103] 2 Chunks of size 1638400 totalling 3.12MiB\n",
      "2025-03-15 13:15:47.084167: I external/local_tsl/tsl/framework/bfc_allocator.cc:1103] 1 Chunks of size 196608000 totalling 187.50MiB\n",
      "2025-03-15 13:15:47.084172: I external/local_tsl/tsl/framework/bfc_allocator.cc:1107] Sum Total of in-use chunks: 212.53MiB\n",
      "2025-03-15 13:15:47.084177: I external/local_tsl/tsl/framework/bfc_allocator.cc:1109] Total bytes in pool: 5833228288 memory_limit_: 5833228288 available bytes: 0 curr_region_allocation_bytes_: 11666456576\n",
      "2025-03-15 13:15:47.084187: I external/local_tsl/tsl/framework/bfc_allocator.cc:1114] Stats: \n",
      "Limit:                      5833228288\n",
      "InUse:                       222856192\n",
      "MaxInUse:                   3059543296\n",
      "NumAllocs:                        5159\n",
      "MaxAllocSize:               2118068480\n",
      "Reserved:                            0\n",
      "PeakReserved:                        0\n",
      "LargestFreeBlock:                    0\n",
      "\n",
      "2025-03-15 13:15:47.084199: W external/local_tsl/tsl/framework/bfc_allocator.cc:494] ****________________________________________________________________________________________________\n",
      "2025-03-15 13:15:47.084836: I tensorflow/core/framework/local_rendezvous.cc:404] Local rendezvous is aborting with status: RESOURCE_EXHAUSTED: Out of memory while trying to allocate 6136613336 bytes.\n",
      "\t [[{{node StatefulPartitionedCall}}]]\n",
      "Hint: If you want to see a list of allocated tensors when OOM happens, add report_tensor_allocations_upon_oom to RunOptions for current allocation info. This isn't available when running in Eager mode.\n",
      "\n"
     ]
    },
    {
     "ename": "ResourceExhaustedError",
     "evalue": "Graph execution error:\n\nDetected at node StatefulPartitionedCall defined at (most recent call last):\n  File \"<frozen runpy>\", line 198, in _run_module_as_main\n\n  File \"<frozen runpy>\", line 88, in _run_code\n\n  File \"/home/razvan/miniconda3/envs/tf2/lib/python3.11/site-packages/ipykernel_launcher.py\", line 18, in <module>\n\n  File \"/home/razvan/miniconda3/envs/tf2/lib/python3.11/site-packages/traitlets/config/application.py\", line 1075, in launch_instance\n\n  File \"/home/razvan/miniconda3/envs/tf2/lib/python3.11/site-packages/ipykernel/kernelapp.py\", line 739, in start\n\n  File \"/home/razvan/miniconda3/envs/tf2/lib/python3.11/site-packages/tornado/platform/asyncio.py\", line 205, in start\n\n  File \"/home/razvan/miniconda3/envs/tf2/lib/python3.11/asyncio/base_events.py\", line 608, in run_forever\n\n  File \"/home/razvan/miniconda3/envs/tf2/lib/python3.11/asyncio/base_events.py\", line 1936, in _run_once\n\n  File \"/home/razvan/miniconda3/envs/tf2/lib/python3.11/asyncio/events.py\", line 84, in _run\n\n  File \"/home/razvan/miniconda3/envs/tf2/lib/python3.11/site-packages/ipykernel/kernelbase.py\", line 545, in dispatch_queue\n\n  File \"/home/razvan/miniconda3/envs/tf2/lib/python3.11/site-packages/ipykernel/kernelbase.py\", line 534, in process_one\n\n  File \"/home/razvan/miniconda3/envs/tf2/lib/python3.11/site-packages/ipykernel/kernelbase.py\", line 437, in dispatch_shell\n\n  File \"/home/razvan/miniconda3/envs/tf2/lib/python3.11/site-packages/ipykernel/ipkernel.py\", line 362, in execute_request\n\n  File \"/home/razvan/miniconda3/envs/tf2/lib/python3.11/site-packages/ipykernel/kernelbase.py\", line 778, in execute_request\n\n  File \"/home/razvan/miniconda3/envs/tf2/lib/python3.11/site-packages/ipykernel/ipkernel.py\", line 449, in do_execute\n\n  File \"/home/razvan/miniconda3/envs/tf2/lib/python3.11/site-packages/ipykernel/zmqshell.py\", line 549, in run_cell\n\n  File \"/home/razvan/miniconda3/envs/tf2/lib/python3.11/site-packages/IPython/core/interactiveshell.py\", line 3075, in run_cell\n\n  File \"/home/razvan/miniconda3/envs/tf2/lib/python3.11/site-packages/IPython/core/interactiveshell.py\", line 3130, in _run_cell\n\n  File \"/home/razvan/miniconda3/envs/tf2/lib/python3.11/site-packages/IPython/core/async_helpers.py\", line 128, in _pseudo_sync_runner\n\n  File \"/home/razvan/miniconda3/envs/tf2/lib/python3.11/site-packages/IPython/core/interactiveshell.py\", line 3334, in run_cell_async\n\n  File \"/home/razvan/miniconda3/envs/tf2/lib/python3.11/site-packages/IPython/core/interactiveshell.py\", line 3517, in run_ast_nodes\n\n  File \"/home/razvan/miniconda3/envs/tf2/lib/python3.11/site-packages/IPython/core/interactiveshell.py\", line 3577, in run_code\n\n  File \"/tmp/ipykernel_32626/1230650109.py\", line 1, in <module>\n\n  File \"/home/razvan/miniconda3/envs/tf2/lib/python3.11/site-packages/keras/src/utils/traceback_utils.py\", line 117, in error_handler\n\n  File \"/home/razvan/miniconda3/envs/tf2/lib/python3.11/site-packages/keras/src/backend/tensorflow/trainer.py\", line 320, in fit\n\n  File \"/home/razvan/miniconda3/envs/tf2/lib/python3.11/site-packages/keras/src/backend/tensorflow/trainer.py\", line 121, in one_step_on_iterator\n\nOut of memory while trying to allocate 6136613336 bytes.\n\t [[{{node StatefulPartitionedCall}}]]\nHint: If you want to see a list of allocated tensors when OOM happens, add report_tensor_allocations_upon_oom to RunOptions for current allocation info. This isn't available when running in Eager mode.\n [Op:__inference_one_step_on_iterator_55641]",
     "output_type": "error",
     "traceback": [
      "\u001b[0;31m---------------------------------------------------------------------------\u001b[0m",
      "\u001b[0;31mResourceExhaustedError\u001b[0m                    Traceback (most recent call last)",
      "Cell \u001b[0;32mIn[18], line 1\u001b[0m\n\u001b[0;32m----> 1\u001b[0m historyEN0\u001b[38;5;241m=\u001b[39m\u001b[43mefficientnetmodel0\u001b[49m\u001b[38;5;241;43m.\u001b[39;49m\u001b[43mfit\u001b[49m\u001b[43m(\u001b[49m\u001b[43mtraingenerator\u001b[49m\u001b[43m,\u001b[49m\n\u001b[1;32m      2\u001b[0m \u001b[43m                                  \u001b[49m\u001b[43mepochs\u001b[49m\u001b[38;5;241;43m=\u001b[39;49m\u001b[38;5;241;43m15\u001b[39;49m\u001b[43m,\u001b[49m\n\u001b[1;32m      3\u001b[0m \u001b[43m                                  \u001b[49m\u001b[43mvalidation_data\u001b[49m\u001b[38;5;241;43m=\u001b[39;49m\u001b[43mdatatester\u001b[49m\u001b[43m)\u001b[49m\n",
      "File \u001b[0;32m~/miniconda3/envs/tf2/lib/python3.11/site-packages/keras/src/utils/traceback_utils.py:122\u001b[0m, in \u001b[0;36mfilter_traceback.<locals>.error_handler\u001b[0;34m(*args, **kwargs)\u001b[0m\n\u001b[1;32m    119\u001b[0m     filtered_tb \u001b[38;5;241m=\u001b[39m _process_traceback_frames(e\u001b[38;5;241m.\u001b[39m__traceback__)\n\u001b[1;32m    120\u001b[0m     \u001b[38;5;66;03m# To get the full stack trace, call:\u001b[39;00m\n\u001b[1;32m    121\u001b[0m     \u001b[38;5;66;03m# `keras.config.disable_traceback_filtering()`\u001b[39;00m\n\u001b[0;32m--> 122\u001b[0m     \u001b[38;5;28;01mraise\u001b[39;00m e\u001b[38;5;241m.\u001b[39mwith_traceback(filtered_tb) \u001b[38;5;28;01mfrom\u001b[39;00m \u001b[38;5;28;01mNone\u001b[39;00m\n\u001b[1;32m    123\u001b[0m \u001b[38;5;28;01mfinally\u001b[39;00m:\n\u001b[1;32m    124\u001b[0m     \u001b[38;5;28;01mdel\u001b[39;00m filtered_tb\n",
      "File \u001b[0;32m~/miniconda3/envs/tf2/lib/python3.11/site-packages/tensorflow/python/eager/execute.py:53\u001b[0m, in \u001b[0;36mquick_execute\u001b[0;34m(op_name, num_outputs, inputs, attrs, ctx, name)\u001b[0m\n\u001b[1;32m     51\u001b[0m \u001b[38;5;28;01mtry\u001b[39;00m:\n\u001b[1;32m     52\u001b[0m   ctx\u001b[38;5;241m.\u001b[39mensure_initialized()\n\u001b[0;32m---> 53\u001b[0m   tensors \u001b[38;5;241m=\u001b[39m pywrap_tfe\u001b[38;5;241m.\u001b[39mTFE_Py_Execute(ctx\u001b[38;5;241m.\u001b[39m_handle, device_name, op_name,\n\u001b[1;32m     54\u001b[0m                                       inputs, attrs, num_outputs)\n\u001b[1;32m     55\u001b[0m \u001b[38;5;28;01mexcept\u001b[39;00m core\u001b[38;5;241m.\u001b[39m_NotOkStatusException \u001b[38;5;28;01mas\u001b[39;00m e:\n\u001b[1;32m     56\u001b[0m   \u001b[38;5;28;01mif\u001b[39;00m name \u001b[38;5;129;01mis\u001b[39;00m \u001b[38;5;129;01mnot\u001b[39;00m \u001b[38;5;28;01mNone\u001b[39;00m:\n",
      "\u001b[0;31mResourceExhaustedError\u001b[0m: Graph execution error:\n\nDetected at node StatefulPartitionedCall defined at (most recent call last):\n  File \"<frozen runpy>\", line 198, in _run_module_as_main\n\n  File \"<frozen runpy>\", line 88, in _run_code\n\n  File \"/home/razvan/miniconda3/envs/tf2/lib/python3.11/site-packages/ipykernel_launcher.py\", line 18, in <module>\n\n  File \"/home/razvan/miniconda3/envs/tf2/lib/python3.11/site-packages/traitlets/config/application.py\", line 1075, in launch_instance\n\n  File \"/home/razvan/miniconda3/envs/tf2/lib/python3.11/site-packages/ipykernel/kernelapp.py\", line 739, in start\n\n  File \"/home/razvan/miniconda3/envs/tf2/lib/python3.11/site-packages/tornado/platform/asyncio.py\", line 205, in start\n\n  File \"/home/razvan/miniconda3/envs/tf2/lib/python3.11/asyncio/base_events.py\", line 608, in run_forever\n\n  File \"/home/razvan/miniconda3/envs/tf2/lib/python3.11/asyncio/base_events.py\", line 1936, in _run_once\n\n  File \"/home/razvan/miniconda3/envs/tf2/lib/python3.11/asyncio/events.py\", line 84, in _run\n\n  File \"/home/razvan/miniconda3/envs/tf2/lib/python3.11/site-packages/ipykernel/kernelbase.py\", line 545, in dispatch_queue\n\n  File \"/home/razvan/miniconda3/envs/tf2/lib/python3.11/site-packages/ipykernel/kernelbase.py\", line 534, in process_one\n\n  File \"/home/razvan/miniconda3/envs/tf2/lib/python3.11/site-packages/ipykernel/kernelbase.py\", line 437, in dispatch_shell\n\n  File \"/home/razvan/miniconda3/envs/tf2/lib/python3.11/site-packages/ipykernel/ipkernel.py\", line 362, in execute_request\n\n  File \"/home/razvan/miniconda3/envs/tf2/lib/python3.11/site-packages/ipykernel/kernelbase.py\", line 778, in execute_request\n\n  File \"/home/razvan/miniconda3/envs/tf2/lib/python3.11/site-packages/ipykernel/ipkernel.py\", line 449, in do_execute\n\n  File \"/home/razvan/miniconda3/envs/tf2/lib/python3.11/site-packages/ipykernel/zmqshell.py\", line 549, in run_cell\n\n  File \"/home/razvan/miniconda3/envs/tf2/lib/python3.11/site-packages/IPython/core/interactiveshell.py\", line 3075, in run_cell\n\n  File \"/home/razvan/miniconda3/envs/tf2/lib/python3.11/site-packages/IPython/core/interactiveshell.py\", line 3130, in _run_cell\n\n  File \"/home/razvan/miniconda3/envs/tf2/lib/python3.11/site-packages/IPython/core/async_helpers.py\", line 128, in _pseudo_sync_runner\n\n  File \"/home/razvan/miniconda3/envs/tf2/lib/python3.11/site-packages/IPython/core/interactiveshell.py\", line 3334, in run_cell_async\n\n  File \"/home/razvan/miniconda3/envs/tf2/lib/python3.11/site-packages/IPython/core/interactiveshell.py\", line 3517, in run_ast_nodes\n\n  File \"/home/razvan/miniconda3/envs/tf2/lib/python3.11/site-packages/IPython/core/interactiveshell.py\", line 3577, in run_code\n\n  File \"/tmp/ipykernel_32626/1230650109.py\", line 1, in <module>\n\n  File \"/home/razvan/miniconda3/envs/tf2/lib/python3.11/site-packages/keras/src/utils/traceback_utils.py\", line 117, in error_handler\n\n  File \"/home/razvan/miniconda3/envs/tf2/lib/python3.11/site-packages/keras/src/backend/tensorflow/trainer.py\", line 320, in fit\n\n  File \"/home/razvan/miniconda3/envs/tf2/lib/python3.11/site-packages/keras/src/backend/tensorflow/trainer.py\", line 121, in one_step_on_iterator\n\nOut of memory while trying to allocate 6136613336 bytes.\n\t [[{{node StatefulPartitionedCall}}]]\nHint: If you want to see a list of allocated tensors when OOM happens, add report_tensor_allocations_upon_oom to RunOptions for current allocation info. This isn't available when running in Eager mode.\n [Op:__inference_one_step_on_iterator_55641]"
     ]
    }
   ],
   "source": [
    "historyEN0=efficientnetmodel0.fit(traingenerator,\n",
    "                                  epochs=15,\n",
    "                                  validation_data=datatester)"
   ]
  }
 ],
 "metadata": {
  "kernelspec": {
   "display_name": "tf2",
   "language": "python",
   "name": "python3"
  },
  "language_info": {
   "codemirror_mode": {
    "name": "ipython",
    "version": 3
   },
   "file_extension": ".py",
   "mimetype": "text/x-python",
   "name": "python",
   "nbconvert_exporter": "python",
   "pygments_lexer": "ipython3",
   "version": "3.11.10"
  }
 },
 "nbformat": 4,
 "nbformat_minor": 2
}
